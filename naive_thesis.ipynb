{
 "cells": [
  {
   "cell_type": "markdown",
   "metadata": {},
   "source": [
    "# Data Preparation\n",
    "-----"
   ]
  },
  {
   "cell_type": "markdown",
   "metadata": {},
   "source": [
    "### Constants and Folder Paths"
   ]
  },
  {
   "cell_type": "code",
   "execution_count": 2,
   "metadata": {},
   "outputs": [],
   "source": [
    "dataset_folder_path = 'temp'\n",
    "NUM_SAMPLES = 200"
   ]
  },
  {
   "cell_type": "markdown",
   "metadata": {},
   "source": [
    "### Load Data"
   ]
  },
  {
   "cell_type": "code",
   "execution_count": 3,
   "metadata": {},
   "outputs": [],
   "source": [
    "from data.DataSet import DataSet\n",
    "dataset = DataSet(dataset_folder_path)"
   ]
  },
  {
   "cell_type": "markdown",
   "metadata": {},
   "source": [
    "### Data Preprocessing"
   ]
  },
  {
   "cell_type": "code",
   "execution_count": 4,
   "metadata": {},
   "outputs": [],
   "source": [
    "from utils.preprocessing import *\n",
    "from functools import partial\n",
    "dataset.apply(apply_mean_centering)\n",
    "dataset.apply(apply_unit_distance_normalization)\n",
    "#dataset.apply(partial(normalize_pressure_value, max_pressure_val=512))\n",
    "dataset.apply(partial(spline_interpolate_and_resample, num_samples=NUM_SAMPLES))\n",
    "dataset.expand(reverse_digit_sequence)\n",
    "# dataset.apply(lambda digit: convert_xy_to_derivative(digit, normalize=False))\n",
    "#dataset.apply(partial(convert_xy_to_derivative, normalize=True))"
   ]
  },
  {
   "cell_type": "markdown",
   "metadata": {},
   "source": [
    "### Split Dataset into *Train*, *Valid*, and *Test*"
   ]
  },
  {
   "cell_type": "code",
   "execution_count": 5,
   "metadata": {},
   "outputs": [],
   "source": [
    "import numpy as np\n",
    "from sklearn.model_selection import train_test_split\n",
    "\n",
    "X_train_valid = np.array(dataset.train_data)\n",
    "X_test = np.array(dataset.test_data)\n",
    "# Convert labels to numpy array and OneHot encode them\n",
    "encoder, train_valid_labels, Y_test = dataset.get_labels_as_numpy(onehot=True)\n",
    "train_valid_labels = train_valid_labels.astype('float32').todense()\n",
    "Y_test = Y_test.astype('float32').todense()\n",
    "# Split Data\n",
    "X_train, X_valid, Y_train, Y_valid = train_test_split(X_train_valid, train_valid_labels, shuffle=True, stratify=train_valid_labels, random_state=42)"
   ]
  },
  {
   "cell_type": "markdown",
   "metadata": {},
   "source": [
    "# Neural Network Setup and Training\n",
    "----------"
   ]
  },
  {
   "cell_type": "markdown",
   "metadata": {},
   "source": [
    "### Parameters"
   ]
  },
  {
   "cell_type": "code",
   "execution_count": 6,
   "metadata": {},
   "outputs": [],
   "source": [
    "PARAM_NUM_EPOCHS = 30\n",
    "PARAM_BATCH_SIZE = 300"
   ]
  },
  {
   "cell_type": "markdown",
   "metadata": {},
   "source": [
    "### Setup Model"
   ]
  },
  {
   "cell_type": "code",
   "execution_count": 7,
   "metadata": {},
   "outputs": [
    {
     "name": "stderr",
     "output_type": "stream",
     "text": [
      "Using TensorFlow backend.\n"
     ]
    },
    {
     "name": "stdout",
     "output_type": "stream",
     "text": [
      "\n",
      "\n",
      "----------\n",
      "\n",
      "Optimizer: <class 'keras.optimizers.Adam'>\n",
      "Batch Size: 300\n",
      "Number of Epochs: 30\n",
      "\n",
      "_________________________________________________________________\n",
      "Layer (type)                 Output Shape              Param #   \n",
      "=================================================================\n",
      "gru_1 (GRU)                  (None, 200, 256)          198912    \n",
      "_________________________________________________________________\n",
      "gru_2 (GRU)                  (None, 256)               393984    \n",
      "_________________________________________________________________\n",
      "dense_1 (Dense)              (None, 10)                2570      \n",
      "_________________________________________________________________\n",
      "activation_1 (Activation)    (None, 10)                0         \n",
      "=================================================================\n",
      "Total params: 595,466\n",
      "Trainable params: 595,466\n",
      "Non-trainable params: 0\n",
      "_________________________________________________________________\n",
      "\n",
      "\n",
      "----------\n",
      "\n",
      "\n"
     ]
    }
   ],
   "source": [
    "from models.naive_gru import NaiveGRU\n",
    "\n",
    "mymodel = NaiveGRU(X_train.shape[1:])\n",
    "mymodel.batch_size = PARAM_BATCH_SIZE\n",
    "mymodel.num_epochs = PARAM_NUM_EPOCHS\n",
    "mymodel.initialize()\n",
    "print(mymodel)"
   ]
  },
  {
   "cell_type": "markdown",
   "metadata": {},
   "source": [
    "#### Save Model Summary"
   ]
  },
  {
   "cell_type": "code",
   "execution_count": 8,
   "metadata": {},
   "outputs": [],
   "source": [
    "mymodel.save_summary(dataset.get_recorded_operations())\n",
    "mymodel.save_config()"
   ]
  },
  {
   "cell_type": "markdown",
   "metadata": {},
   "source": [
    "### Train Model"
   ]
  },
  {
   "cell_type": "code",
   "execution_count": 9,
   "metadata": {},
   "outputs": [
    {
     "name": "stdout",
     "output_type": "stream",
     "text": [
      "Train on 3600 samples, validate on 1200 samples\n",
      "Epoch 1/30\n",
      "3600/3600 [==============================] - 4s 1ms/step - loss: 2.1844 - categorical_accuracy: 0.2111 - val_loss: 2.1237 - val_categorical_accuracy: 0.2333\n",
      "\n",
      "Epoch 00001: val_categorical_accuracy improved from -inf to 0.23333, saving model to checkpoints/1523392821.1466396/naive_overfit_gru-01-0.23.hdf5\n",
      "Epoch 2/30\n",
      "3600/3600 [==============================] - 4s 1ms/step - loss: 2.1154 - categorical_accuracy: 0.2353 - val_loss: 2.0930 - val_categorical_accuracy: 0.2417\n",
      "\n",
      "Epoch 00002: val_categorical_accuracy improved from 0.23333 to 0.24167, saving model to checkpoints/1523392821.1466396/naive_overfit_gru-02-0.24.hdf5\n",
      "Epoch 3/30\n",
      "3600/3600 [==============================] - 4s 1ms/step - loss: 2.0554 - categorical_accuracy: 0.2403 - val_loss: 1.9677 - val_categorical_accuracy: 0.2758\n",
      "\n",
      "Epoch 00003: val_categorical_accuracy improved from 0.24167 to 0.27583, saving model to checkpoints/1523392821.1466396/naive_overfit_gru-03-0.28.hdf5\n",
      "Epoch 4/30\n",
      "3600/3600 [==============================] - 4s 1ms/step - loss: 1.8797 - categorical_accuracy: 0.2706 - val_loss: 1.7885 - val_categorical_accuracy: 0.3192\n",
      "\n",
      "Epoch 00004: val_categorical_accuracy improved from 0.27583 to 0.31917, saving model to checkpoints/1523392821.1466396/naive_overfit_gru-04-0.32.hdf5\n",
      "Epoch 5/30\n",
      "3600/3600 [==============================] - 4s 1ms/step - loss: 1.7284 - categorical_accuracy: 0.3411 - val_loss: 1.6477 - val_categorical_accuracy: 0.3942\n",
      "\n",
      "Epoch 00005: val_categorical_accuracy improved from 0.31917 to 0.39417, saving model to checkpoints/1523392821.1466396/naive_overfit_gru-05-0.39.hdf5\n",
      "Epoch 6/30\n",
      "3600/3600 [==============================] - 4s 1ms/step - loss: 1.5386 - categorical_accuracy: 0.4206 - val_loss: 1.4866 - val_categorical_accuracy: 0.4642\n",
      "\n",
      "Epoch 00006: val_categorical_accuracy improved from 0.39417 to 0.46417, saving model to checkpoints/1523392821.1466396/naive_overfit_gru-06-0.46.hdf5\n",
      "Epoch 7/30\n",
      "3600/3600 [==============================] - 4s 1ms/step - loss: 1.3385 - categorical_accuracy: 0.5022 - val_loss: 1.2803 - val_categorical_accuracy: 0.5425\n",
      "\n",
      "Epoch 00007: val_categorical_accuracy improved from 0.46417 to 0.54250, saving model to checkpoints/1523392821.1466396/naive_overfit_gru-07-0.54.hdf5\n",
      "Epoch 8/30\n",
      "3600/3600 [==============================] - 4s 1ms/step - loss: 1.0953 - categorical_accuracy: 0.5983 - val_loss: 1.0180 - val_categorical_accuracy: 0.6292\n",
      "\n",
      "Epoch 00008: val_categorical_accuracy improved from 0.54250 to 0.62917, saving model to checkpoints/1523392821.1466396/naive_overfit_gru-08-0.63.hdf5\n",
      "Epoch 9/30\n",
      "3600/3600 [==============================] - 4s 1ms/step - loss: 0.8698 - categorical_accuracy: 0.6892 - val_loss: 0.8195 - val_categorical_accuracy: 0.7492\n",
      "\n",
      "Epoch 00009: val_categorical_accuracy improved from 0.62917 to 0.74917, saving model to checkpoints/1523392821.1466396/naive_overfit_gru-09-0.75.hdf5\n",
      "Epoch 10/30\n",
      "3600/3600 [==============================] - 4s 1ms/step - loss: 0.6737 - categorical_accuracy: 0.7831 - val_loss: 0.6559 - val_categorical_accuracy: 0.7967\n",
      "\n",
      "Epoch 00010: val_categorical_accuracy improved from 0.74917 to 0.79667, saving model to checkpoints/1523392821.1466396/naive_overfit_gru-10-0.80.hdf5\n",
      "Epoch 11/30\n",
      "3600/3600 [==============================] - 4s 1ms/step - loss: 0.5306 - categorical_accuracy: 0.8375 - val_loss: 0.5397 - val_categorical_accuracy: 0.8350\n",
      "\n",
      "Epoch 00011: val_categorical_accuracy improved from 0.79667 to 0.83500, saving model to checkpoints/1523392821.1466396/naive_overfit_gru-11-0.84.hdf5\n",
      "Epoch 12/30\n",
      "3600/3600 [==============================] - 4s 1ms/step - loss: 0.3828 - categorical_accuracy: 0.8808 - val_loss: 0.4034 - val_categorical_accuracy: 0.8808\n",
      "\n",
      "Epoch 00012: val_categorical_accuracy improved from 0.83500 to 0.88083, saving model to checkpoints/1523392821.1466396/naive_overfit_gru-12-0.88.hdf5\n",
      "Epoch 13/30\n",
      "3600/3600 [==============================] - 4s 1ms/step - loss: 0.2976 - categorical_accuracy: 0.9106 - val_loss: 0.3507 - val_categorical_accuracy: 0.9025\n",
      "\n",
      "Epoch 00013: val_categorical_accuracy improved from 0.88083 to 0.90250, saving model to checkpoints/1523392821.1466396/naive_overfit_gru-13-0.90.hdf5\n",
      "Epoch 14/30\n",
      "3600/3600 [==============================] - 4s 1ms/step - loss: 0.2533 - categorical_accuracy: 0.9197 - val_loss: 0.3087 - val_categorical_accuracy: 0.9167\n",
      "\n",
      "Epoch 00014: val_categorical_accuracy improved from 0.90250 to 0.91667, saving model to checkpoints/1523392821.1466396/naive_overfit_gru-14-0.92.hdf5\n",
      "Epoch 15/30\n",
      "3600/3600 [==============================] - 4s 1ms/step - loss: 0.2330 - categorical_accuracy: 0.9306 - val_loss: 0.2944 - val_categorical_accuracy: 0.9100\n",
      "\n",
      "Epoch 00015: val_categorical_accuracy did not improve\n",
      "Epoch 16/30\n",
      "3600/3600 [==============================] - 4s 1ms/step - loss: 0.2231 - categorical_accuracy: 0.9286 - val_loss: 0.2686 - val_categorical_accuracy: 0.9367\n",
      "\n",
      "Epoch 00016: val_categorical_accuracy improved from 0.91667 to 0.93667, saving model to checkpoints/1523392821.1466396/naive_overfit_gru-16-0.94.hdf5\n",
      "Epoch 17/30\n",
      "3600/3600 [==============================] - 4s 1ms/step - loss: 0.1710 - categorical_accuracy: 0.9503 - val_loss: 0.2468 - val_categorical_accuracy: 0.9308\n",
      "\n",
      "Epoch 00017: val_categorical_accuracy did not improve\n",
      "Epoch 18/30\n",
      "3600/3600 [==============================] - 4s 1ms/step - loss: 0.1334 - categorical_accuracy: 0.9631 - val_loss: 0.2192 - val_categorical_accuracy: 0.9458\n",
      "\n",
      "Epoch 00018: val_categorical_accuracy improved from 0.93667 to 0.94583, saving model to checkpoints/1523392821.1466396/naive_overfit_gru-18-0.95.hdf5\n",
      "Epoch 19/30\n",
      "3600/3600 [==============================] - 4s 1ms/step - loss: 0.1131 - categorical_accuracy: 0.9669 - val_loss: 0.1987 - val_categorical_accuracy: 0.9542\n",
      "\n",
      "Epoch 00019: val_categorical_accuracy improved from 0.94583 to 0.95417, saving model to checkpoints/1523392821.1466396/naive_overfit_gru-19-0.95.hdf5\n",
      "Epoch 20/30\n",
      "3600/3600 [==============================] - 4s 1ms/step - loss: 0.0892 - categorical_accuracy: 0.9761 - val_loss: 0.1718 - val_categorical_accuracy: 0.9600\n",
      "\n",
      "Epoch 00020: val_categorical_accuracy improved from 0.95417 to 0.96000, saving model to checkpoints/1523392821.1466396/naive_overfit_gru-20-0.96.hdf5\n",
      "Epoch 21/30\n",
      "3600/3600 [==============================] - 4s 1ms/step - loss: 0.0696 - categorical_accuracy: 0.9814 - val_loss: 0.1865 - val_categorical_accuracy: 0.9558\n",
      "\n",
      "Epoch 00021: val_categorical_accuracy did not improve\n",
      "Epoch 22/30\n",
      "3600/3600 [==============================] - 4s 1ms/step - loss: 0.0680 - categorical_accuracy: 0.9833 - val_loss: 0.2060 - val_categorical_accuracy: 0.9517\n",
      "\n",
      "Epoch 00022: val_categorical_accuracy did not improve\n",
      "Epoch 23/30\n",
      "3600/3600 [==============================] - 4s 1ms/step - loss: 0.0671 - categorical_accuracy: 0.9828 - val_loss: 0.1867 - val_categorical_accuracy: 0.9517\n",
      "\n",
      "Epoch 00023: val_categorical_accuracy did not improve\n",
      "Epoch 24/30\n",
      "3600/3600 [==============================] - 4s 1ms/step - loss: 0.0637 - categorical_accuracy: 0.9806 - val_loss: 0.1660 - val_categorical_accuracy: 0.9575\n",
      "\n",
      "Epoch 00024: val_categorical_accuracy did not improve\n",
      "Epoch 25/30\n",
      "3600/3600 [==============================] - 4s 1ms/step - loss: 0.0629 - categorical_accuracy: 0.9831 - val_loss: 0.1665 - val_categorical_accuracy: 0.9567\n",
      "\n",
      "Epoch 00025: val_categorical_accuracy did not improve\n",
      "Epoch 26/30\n",
      "3600/3600 [==============================] - 4s 1ms/step - loss: 0.0811 - categorical_accuracy: 0.9778 - val_loss: 0.2068 - val_categorical_accuracy: 0.9400\n",
      "\n",
      "Epoch 00026: val_categorical_accuracy did not improve\n",
      "Epoch 27/30\n",
      "3600/3600 [==============================] - 4s 1ms/step - loss: 0.0641 - categorical_accuracy: 0.9822 - val_loss: 0.1699 - val_categorical_accuracy: 0.9558\n",
      "\n",
      "Epoch 00027: val_categorical_accuracy did not improve\n",
      "Epoch 28/30\n",
      "3600/3600 [==============================] - 4s 1ms/step - loss: 0.0510 - categorical_accuracy: 0.9847 - val_loss: 0.1561 - val_categorical_accuracy: 0.9625\n",
      "\n",
      "Epoch 00028: val_categorical_accuracy improved from 0.96000 to 0.96250, saving model to checkpoints/1523392821.1466396/naive_overfit_gru-28-0.96.hdf5\n",
      "Epoch 29/30\n",
      "3600/3600 [==============================] - 4s 1ms/step - loss: 0.0601 - categorical_accuracy: 0.9808 - val_loss: 0.1823 - val_categorical_accuracy: 0.9533\n",
      "\n",
      "Epoch 00029: val_categorical_accuracy did not improve\n",
      "Epoch 30/30\n",
      "3600/3600 [==============================] - 4s 1ms/step - loss: 0.0992 - categorical_accuracy: 0.9731 - val_loss: 0.2523 - val_categorical_accuracy: 0.9367\n",
      "\n",
      "Epoch 00030: val_categorical_accuracy did not improve\n"
     ]
    }
   ],
   "source": [
    "mymodel.train(X_train, Y_train, X_valid, Y_valid)"
   ]
  },
  {
   "cell_type": "markdown",
   "metadata": {},
   "source": [
    "### Evaluate Model"
   ]
  },
  {
   "cell_type": "markdown",
   "metadata": {},
   "source": [
    "##### Increase default plotsize for matplotlib"
   ]
  },
  {
   "cell_type": "code",
   "execution_count": 15,
   "metadata": {},
   "outputs": [],
   "source": [
    "import matplotlib.pyplot as plt\n",
    "plt.rcParams['figure.figsize'] = [15, 10]"
   ]
  },
  {
   "cell_type": "markdown",
   "metadata": {},
   "source": [
    "#### Test Set Accuracy"
   ]
  },
  {
   "cell_type": "code",
   "execution_count": 10,
   "metadata": {},
   "outputs": [
    {
     "name": "stdout",
     "output_type": "stream",
     "text": [
      "2400/2400 [==============================] - 4s 2ms/step\n",
      "Test Loss: 0.353, Test Acc: 91.708%\n"
     ]
    }
   ],
   "source": [
    "test_score = tuple(mymodel.model.evaluate(X_test, Y_test))\n",
    "print(\"Test Loss: %.3f, Test Acc: %.3f%%\" % (test_score[0], test_score[1] * 100))"
   ]
  },
  {
   "cell_type": "markdown",
   "metadata": {},
   "source": [
    "#### Recall, Precision, F1_Score on Validation set"
   ]
  },
  {
   "cell_type": "code",
   "execution_count": 11,
   "metadata": {},
   "outputs": [
    {
     "name": "stdout",
     "output_type": "stream",
     "text": [
      "1200/1200 [==============================] - 2s 2ms/step\n"
     ]
    },
    {
     "data": {
      "text/html": [
       "<div>\n",
       "<style scoped>\n",
       "    .dataframe tbody tr th:only-of-type {\n",
       "        vertical-align: middle;\n",
       "    }\n",
       "\n",
       "    .dataframe tbody tr th {\n",
       "        vertical-align: top;\n",
       "    }\n",
       "\n",
       "    .dataframe thead th {\n",
       "        text-align: right;\n",
       "    }\n",
       "</style>\n",
       "<table border=\"1\" class=\"dataframe\">\n",
       "  <thead>\n",
       "    <tr style=\"text-align: right;\">\n",
       "      <th></th>\n",
       "      <th>recall</th>\n",
       "      <th>precision</th>\n",
       "      <th>f1 score</th>\n",
       "      <th>#</th>\n",
       "    </tr>\n",
       "  </thead>\n",
       "  <tbody>\n",
       "    <tr>\n",
       "      <th>0</th>\n",
       "      <td>0.974359</td>\n",
       "      <td>0.950000</td>\n",
       "      <td>0.962025</td>\n",
       "      <td>120.0</td>\n",
       "    </tr>\n",
       "    <tr>\n",
       "      <th>1</th>\n",
       "      <td>0.897638</td>\n",
       "      <td>0.950000</td>\n",
       "      <td>0.923077</td>\n",
       "      <td>120.0</td>\n",
       "    </tr>\n",
       "    <tr>\n",
       "      <th>2</th>\n",
       "      <td>0.920635</td>\n",
       "      <td>0.966667</td>\n",
       "      <td>0.943089</td>\n",
       "      <td>120.0</td>\n",
       "    </tr>\n",
       "    <tr>\n",
       "      <th>3</th>\n",
       "      <td>0.983051</td>\n",
       "      <td>0.966667</td>\n",
       "      <td>0.974790</td>\n",
       "      <td>120.0</td>\n",
       "    </tr>\n",
       "    <tr>\n",
       "      <th>4</th>\n",
       "      <td>0.973684</td>\n",
       "      <td>0.925000</td>\n",
       "      <td>0.948718</td>\n",
       "      <td>120.0</td>\n",
       "    </tr>\n",
       "    <tr>\n",
       "      <th>5</th>\n",
       "      <td>0.868852</td>\n",
       "      <td>0.883333</td>\n",
       "      <td>0.876033</td>\n",
       "      <td>120.0</td>\n",
       "    </tr>\n",
       "    <tr>\n",
       "      <th>6</th>\n",
       "      <td>0.934959</td>\n",
       "      <td>0.958333</td>\n",
       "      <td>0.946502</td>\n",
       "      <td>120.0</td>\n",
       "    </tr>\n",
       "    <tr>\n",
       "      <th>7</th>\n",
       "      <td>0.916667</td>\n",
       "      <td>0.916667</td>\n",
       "      <td>0.916667</td>\n",
       "      <td>120.0</td>\n",
       "    </tr>\n",
       "    <tr>\n",
       "      <th>8</th>\n",
       "      <td>0.964912</td>\n",
       "      <td>0.916667</td>\n",
       "      <td>0.940171</td>\n",
       "      <td>120.0</td>\n",
       "    </tr>\n",
       "    <tr>\n",
       "      <th>9</th>\n",
       "      <td>0.941176</td>\n",
       "      <td>0.933333</td>\n",
       "      <td>0.937238</td>\n",
       "      <td>120.0</td>\n",
       "    </tr>\n",
       "  </tbody>\n",
       "</table>\n",
       "</div>"
      ],
      "text/plain": [
       "     recall  precision  f1 score      #\n",
       "0  0.974359   0.950000  0.962025  120.0\n",
       "1  0.897638   0.950000  0.923077  120.0\n",
       "2  0.920635   0.966667  0.943089  120.0\n",
       "3  0.983051   0.966667  0.974790  120.0\n",
       "4  0.973684   0.925000  0.948718  120.0\n",
       "5  0.868852   0.883333  0.876033  120.0\n",
       "6  0.934959   0.958333  0.946502  120.0\n",
       "7  0.916667   0.916667  0.916667  120.0\n",
       "8  0.964912   0.916667  0.940171  120.0\n",
       "9  0.941176   0.933333  0.937238  120.0"
      ]
     },
     "execution_count": 11,
     "metadata": {},
     "output_type": "execute_result"
    }
   ],
   "source": [
    "from utils.evaluation import get_evaluation_metrics, get_confusion_matrix\n",
    "\n",
    "Y_predicted_valid = mymodel.model.predict_classes(X_valid, verbose=1)\n",
    "rpf = get_evaluation_metrics(Y_valid, Y_predicted_valid)\n",
    "rpf"
   ]
  },
  {
   "cell_type": "code",
   "execution_count": 12,
   "metadata": {},
   "outputs": [
    {
     "name": "stdout",
     "output_type": "stream",
     "text": [
      "2400/2400 [==============================] - 4s 2ms/step\n"
     ]
    },
    {
     "data": {
      "text/html": [
       "<div>\n",
       "<style scoped>\n",
       "    .dataframe tbody tr th:only-of-type {\n",
       "        vertical-align: middle;\n",
       "    }\n",
       "\n",
       "    .dataframe tbody tr th {\n",
       "        vertical-align: top;\n",
       "    }\n",
       "\n",
       "    .dataframe thead th {\n",
       "        text-align: right;\n",
       "    }\n",
       "</style>\n",
       "<table border=\"1\" class=\"dataframe\">\n",
       "  <thead>\n",
       "    <tr style=\"text-align: right;\">\n",
       "      <th></th>\n",
       "      <th>recall</th>\n",
       "      <th>precision</th>\n",
       "      <th>f1 score</th>\n",
       "      <th>#</th>\n",
       "    </tr>\n",
       "  </thead>\n",
       "  <tbody>\n",
       "    <tr>\n",
       "      <th>0</th>\n",
       "      <td>0.904580</td>\n",
       "      <td>0.987500</td>\n",
       "      <td>0.944223</td>\n",
       "      <td>240.0</td>\n",
       "    </tr>\n",
       "    <tr>\n",
       "      <th>1</th>\n",
       "      <td>0.919028</td>\n",
       "      <td>0.945833</td>\n",
       "      <td>0.932238</td>\n",
       "      <td>240.0</td>\n",
       "    </tr>\n",
       "    <tr>\n",
       "      <th>2</th>\n",
       "      <td>0.917355</td>\n",
       "      <td>0.925000</td>\n",
       "      <td>0.921162</td>\n",
       "      <td>240.0</td>\n",
       "    </tr>\n",
       "    <tr>\n",
       "      <th>3</th>\n",
       "      <td>0.945378</td>\n",
       "      <td>0.937500</td>\n",
       "      <td>0.941423</td>\n",
       "      <td>240.0</td>\n",
       "    </tr>\n",
       "    <tr>\n",
       "      <th>4</th>\n",
       "      <td>0.860000</td>\n",
       "      <td>0.895833</td>\n",
       "      <td>0.877551</td>\n",
       "      <td>240.0</td>\n",
       "    </tr>\n",
       "    <tr>\n",
       "      <th>5</th>\n",
       "      <td>0.939914</td>\n",
       "      <td>0.912500</td>\n",
       "      <td>0.926004</td>\n",
       "      <td>240.0</td>\n",
       "    </tr>\n",
       "    <tr>\n",
       "      <th>6</th>\n",
       "      <td>0.958678</td>\n",
       "      <td>0.966667</td>\n",
       "      <td>0.962656</td>\n",
       "      <td>240.0</td>\n",
       "    </tr>\n",
       "    <tr>\n",
       "      <th>7</th>\n",
       "      <td>0.867704</td>\n",
       "      <td>0.929167</td>\n",
       "      <td>0.897384</td>\n",
       "      <td>240.0</td>\n",
       "    </tr>\n",
       "    <tr>\n",
       "      <th>8</th>\n",
       "      <td>0.960177</td>\n",
       "      <td>0.904167</td>\n",
       "      <td>0.931330</td>\n",
       "      <td>240.0</td>\n",
       "    </tr>\n",
       "    <tr>\n",
       "      <th>9</th>\n",
       "      <td>0.906404</td>\n",
       "      <td>0.766667</td>\n",
       "      <td>0.830700</td>\n",
       "      <td>240.0</td>\n",
       "    </tr>\n",
       "  </tbody>\n",
       "</table>\n",
       "</div>"
      ],
      "text/plain": [
       "     recall  precision  f1 score      #\n",
       "0  0.904580   0.987500  0.944223  240.0\n",
       "1  0.919028   0.945833  0.932238  240.0\n",
       "2  0.917355   0.925000  0.921162  240.0\n",
       "3  0.945378   0.937500  0.941423  240.0\n",
       "4  0.860000   0.895833  0.877551  240.0\n",
       "5  0.939914   0.912500  0.926004  240.0\n",
       "6  0.958678   0.966667  0.962656  240.0\n",
       "7  0.867704   0.929167  0.897384  240.0\n",
       "8  0.960177   0.904167  0.931330  240.0\n",
       "9  0.906404   0.766667  0.830700  240.0"
      ]
     },
     "execution_count": 12,
     "metadata": {},
     "output_type": "execute_result"
    }
   ],
   "source": [
    "from utils.evaluation import get_evaluation_metrics, get_confusion_matrix\n",
    "\n",
    "Y_predicted_test = mymodel.model.predict_classes(X_test, verbose=1)\n",
    "rpf = get_evaluation_metrics(Y_test, Y_predicted_test)\n",
    "rpf"
   ]
  },
  {
   "cell_type": "markdown",
   "metadata": {},
   "source": [
    "#### Plot Confusion Matrix"
   ]
  },
  {
   "cell_type": "code",
   "execution_count": 16,
   "metadata": {},
   "outputs": [
    {
     "data": {
      "image/png": "[encoded data removed]",
      "text/plain": [
       "<Figure size 720x720 with 2 Axes>"
      ]
     },
     "metadata": {},
     "output_type": "display_data"
    }
   ],
   "source": [
    "from utils.evaluation import get_confusion_matrix\n",
    "# Confusion Matrix\n",
    "confmat = get_confusion_matrix(Y_valid, Y_predicted_valid, plot=True)"
   ]
  },
  {
   "cell_type": "code",
   "execution_count": 17,
   "metadata": {},
   "outputs": [
    {
     "data": {
      "image/png": "[encoded data removed]",
      "text/plain": [
       "<Figure size 720x720 with 2 Axes>"
      ]
     },
     "metadata": {},
     "output_type": "display_data"
    }
   ],
   "source": [
    "from utils.evaluation import get_confusion_matrix\n",
    "# Confusion Matrix\n",
    "confmat = get_confusion_matrix(Y_test, Y_predicted_test, plot=True)"
   ]
  },
  {
   "cell_type": "markdown",
   "metadata": {},
   "source": [
    "# Backup Code\n",
    "-----"
   ]
  },
  {
   "cell_type": "code",
   "execution_count": 11,
   "metadata": {},
   "outputs": [],
   "source": [
    "from keras.models import load_model\n",
    "mymodel.model = load_model(\"checkpoints/1523369406.7123575/naive_overfit_gru-30-0.97.hdf5\")"
   ]
  },
  {
   "cell_type": "code",
   "execution_count": null,
   "metadata": {},
   "outputs": [],
   "source": []
  }
 ],
 "metadata": {
  "kernelspec": {
   "display_name": "Python 3",
   "language": "python",
   "name": "python3"
  },
  "language_info": {
   "codemirror_mode": {
    "name": "ipython",
    "version": 3
   },
   "file_extension": ".py",
   "mimetype": "text/x-python",
   "name": "python",
   "nbconvert_exporter": "python",
   "pygments_lexer": "ipython3",
   "version": "3.6.4"
  }
 },
 "nbformat": 4,
 "nbformat_minor": 2
}

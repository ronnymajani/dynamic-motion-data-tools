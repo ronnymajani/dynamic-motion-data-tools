{
 "cells": [
  {
   "cell_type": "markdown",
   "metadata": {},
   "source": [
    "### Definitions, Contsants, and Paths"
   ]
  },
  {
   "cell_type": "code",
   "execution_count": 1,
   "metadata": {},
   "outputs": [],
   "source": [
    "# Constants\n",
    "PARAM_NUM_EPOCHS = 30\n",
    "PARAM_BATCH_SIZE = 300\n",
    "NUM_SAMPLES = 200\n",
    "\n",
    "# Paths\n",
    "dataset_folder_path = 'temp'\n",
    "tensorboard_logs_path = \"logs\"\n",
    "checkpoints_save_folder_path = 'checkpoints'\n",
    "checkpoints_save_prefix = 'gru-spline'"
   ]
  },
  {
   "cell_type": "markdown",
   "metadata": {},
   "source": [
    "### Data Preparation"
   ]
  },
  {
   "cell_type": "code",
   "execution_count": 2,
   "metadata": {},
   "outputs": [],
   "source": [
    "# Imports\n",
    "from utils.preprocessing import *\n",
    "from data.DataSet import DataSet\n",
    "from functools import partial\n",
    "\n",
    "dataset = DataSet(dataset_folder_path)\n",
    "dataset.apply(apply_mean_centering)\n",
    "dataset.apply(apply_unit_distance_normalization)\n",
    "#dataset.apply(partial(normalize_pressure_value, max_pressure_val=512))\n",
    "dataset.apply(partial(spline_interpolate_and_resample, num_samples=NUM_SAMPLES))\n",
    "dataset.expand(reverse_digit_sequence)\n",
    "# dataset.apply(lambda digit: convert_xy_to_derivative(digit, normalize=False))\n",
    "#dataset.apply(partial(convert_xy_to_derivative, normalize=True))"
   ]
  },
  {
   "cell_type": "markdown",
   "metadata": {},
   "source": [
    "### Split Dataset into *Train*, *Valid*, and *Test*"
   ]
  },
  {
   "cell_type": "code",
   "execution_count": 3,
   "metadata": {},
   "outputs": [],
   "source": [
    "# Imports\n",
    "import numpy as np\n",
    "from sklearn.model_selection import train_test_split\n",
    "\n",
    "data = np.array(dataset.data)\n",
    "# Convert labels to numpy array and OneHot encode them\n",
    "encoder, labels = dataset.get_labels_as_numpy(onehot=True)\n",
    "labels = labels.astype('float32').todense()\n",
    "# Split Data\n",
    "X_train_valid, X_test, Y_train_valid, Y_test = train_test_split(data, labels, shuffle=True, stratify=labels, random_state=42)\n",
    "X_train, X_valid, Y_train, Y_valid = train_test_split(X_train_valid, Y_train_valid, shuffle=True, stratify=Y_train_valid, random_state=42)"
   ]
  },
  {
   "cell_type": "markdown",
   "metadata": {},
   "source": [
    "### Setup Model"
   ]
  },
  {
   "cell_type": "code",
   "execution_count": 8,
   "metadata": {},
   "outputs": [
    {
     "name": "stdout",
     "output_type": "stream",
     "text": [
      "\n",
      "\n",
      "----------\n",
      "\n",
      "Optimizer: <class 'keras.optimizers.Adam'>\n",
      "Batch Size: 300\n",
      "Number of Epochs: 30\n",
      "\n",
      "_________________________________________________________________\n",
      "Layer (type)                 Output Shape              Param #   \n",
      "=================================================================\n",
      "gru_3 (GRU)                  (None, 200, 256)          198912    \n",
      "_________________________________________________________________\n",
      "gru_4 (GRU)                  (None, 256)               393984    \n",
      "_________________________________________________________________\n",
      "dense_2 (Dense)              (None, 10)                2570      \n",
      "_________________________________________________________________\n",
      "activation_2 (Activation)    (None, 10)                0         \n",
      "=================================================================\n",
      "Total params: 595,466\n",
      "Trainable params: 595,466\n",
      "Non-trainable params: 0\n",
      "_________________________________________________________________\n",
      "\n",
      "\n",
      "----------\n",
      "\n",
      "\n"
     ]
    }
   ],
   "source": [
    "from models.naive_gru import NaiveGRU\n",
    "\n",
    "mymodel = NaiveGRU(X_train.shape[1:])\n",
    "mymodel.batch_size = PARAM_BATCH_SIZE\n",
    "mymodel.num_epochs = PARAM_NUM_EPOCHS\n",
    "print(mymodel)"
   ]
  },
  {
   "cell_type": "markdown",
   "metadata": {},
   "source": [
    "#### Save Model Summary"
   ]
  },
  {
   "cell_type": "code",
   "execution_count": 9,
   "metadata": {},
   "outputs": [],
   "source": [
    "mymodel.save_summary(dataset.get_recorded_operations())\n",
    "mymodel.save_config()"
   ]
  },
  {
   "cell_type": "markdown",
   "metadata": {},
   "source": [
    "### Train Model"
   ]
  },
  {
   "cell_type": "code",
   "execution_count": 10,
   "metadata": {},
   "outputs": [
    {
     "name": "stdout",
     "output_type": "stream",
     "text": [
      "Train on 3037 samples, validate on 1013 samples\n",
      "Epoch 1/30\n",
      "3037/3037 [==============================] - 4s 1ms/step - loss: 2.2073 - categorical_accuracy: 0.1946 - val_loss: 2.1297 - val_categorical_accuracy: 0.2132\n",
      "\n",
      "Epoch 00001: val_categorical_accuracy improved from -inf to 0.21323, saving model to checkpoints/1523367114.639698/model-01-0.21.hdf5\n",
      "Epoch 2/30\n",
      "3037/3037 [==============================] - 3s 1ms/step - loss: 2.1361 - categorical_accuracy: 0.2285 - val_loss: 2.1170 - val_categorical_accuracy: 0.2231\n",
      "\n",
      "Epoch 00002: val_categorical_accuracy improved from 0.21323 to 0.22310, saving model to checkpoints/1523367114.639698/model-02-0.22.hdf5\n",
      "Epoch 3/30\n",
      "3037/3037 [==============================] - 3s 1ms/step - loss: 2.0883 - categorical_accuracy: 0.2229 - val_loss: 2.0381 - val_categorical_accuracy: 0.2458\n",
      "\n",
      "Epoch 00003: val_categorical_accuracy improved from 0.22310 to 0.24580, saving model to checkpoints/1523367114.639698/model-03-0.25.hdf5\n",
      "Epoch 4/30\n",
      "3037/3037 [==============================] - 3s 1ms/step - loss: 1.9737 - categorical_accuracy: 0.2493 - val_loss: 1.8645 - val_categorical_accuracy: 0.2547\n",
      "\n",
      "Epoch 00004: val_categorical_accuracy improved from 0.24580 to 0.25469, saving model to checkpoints/1523367114.639698/model-04-0.25.hdf5\n",
      "Epoch 5/30\n",
      "3037/3037 [==============================] - 3s 1ms/step - loss: 1.8348 - categorical_accuracy: 0.2805 - val_loss: 1.7568 - val_categorical_accuracy: 0.3169\n",
      "\n",
      "Epoch 00005: val_categorical_accuracy improved from 0.25469 to 0.31688, saving model to checkpoints/1523367114.639698/model-05-0.32.hdf5\n",
      "Epoch 6/30\n",
      "3037/3037 [==============================] - 3s 1ms/step - loss: 1.7097 - categorical_accuracy: 0.3536 - val_loss: 1.6008 - val_categorical_accuracy: 0.4107\n",
      "\n",
      "Epoch 00006: val_categorical_accuracy improved from 0.31688 to 0.41066, saving model to checkpoints/1523367114.639698/model-06-0.41.hdf5\n",
      "Epoch 7/30\n",
      "3037/3037 [==============================] - 3s 1ms/step - loss: 1.5719 - categorical_accuracy: 0.4096 - val_loss: 1.5232 - val_categorical_accuracy: 0.4324\n",
      "\n",
      "Epoch 00007: val_categorical_accuracy improved from 0.41066 to 0.43238, saving model to checkpoints/1523367114.639698/model-07-0.43.hdf5\n",
      "Epoch 8/30\n",
      "3037/3037 [==============================] - 3s 1ms/step - loss: 1.4430 - categorical_accuracy: 0.4689 - val_loss: 1.3301 - val_categorical_accuracy: 0.5242\n",
      "\n",
      "Epoch 00008: val_categorical_accuracy improved from 0.43238 to 0.52419, saving model to checkpoints/1523367114.639698/model-08-0.52.hdf5\n",
      "Epoch 9/30\n",
      "3037/3037 [==============================] - 3s 1ms/step - loss: 1.2778 - categorical_accuracy: 0.5515 - val_loss: 1.2135 - val_categorical_accuracy: 0.5637\n",
      "\n",
      "Epoch 00009: val_categorical_accuracy improved from 0.52419 to 0.56367, saving model to checkpoints/1523367114.639698/model-09-0.56.hdf5\n",
      "Epoch 10/30\n",
      "3037/3037 [==============================] - 3s 1ms/step - loss: 1.1012 - categorical_accuracy: 0.5980 - val_loss: 1.0547 - val_categorical_accuracy: 0.6338\n",
      "\n",
      "Epoch 00010: val_categorical_accuracy improved from 0.56367 to 0.63376, saving model to checkpoints/1523367114.639698/model-10-0.63.hdf5\n",
      "Epoch 11/30\n",
      "3037/3037 [==============================] - 4s 1ms/step - loss: 0.9337 - categorical_accuracy: 0.6727 - val_loss: 0.8835 - val_categorical_accuracy: 0.7048\n",
      "\n",
      "Epoch 00011: val_categorical_accuracy improved from 0.63376 to 0.70484, saving model to checkpoints/1523367114.639698/model-11-0.70.hdf5\n",
      "Epoch 12/30\n",
      "3037/3037 [==============================] - 3s 1ms/step - loss: 0.7867 - categorical_accuracy: 0.7392 - val_loss: 0.7323 - val_categorical_accuracy: 0.7808\n",
      "\n",
      "Epoch 00012: val_categorical_accuracy improved from 0.70484 to 0.78085, saving model to checkpoints/1523367114.639698/model-12-0.78.hdf5\n",
      "Epoch 13/30\n",
      "3037/3037 [==============================] - 3s 1ms/step - loss: 0.6582 - categorical_accuracy: 0.7952 - val_loss: 0.6732 - val_categorical_accuracy: 0.7868\n",
      "\n",
      "Epoch 00013: val_categorical_accuracy improved from 0.78085 to 0.78677, saving model to checkpoints/1523367114.639698/model-13-0.79.hdf5\n",
      "Epoch 14/30\n",
      "3037/3037 [==============================] - 3s 1ms/step - loss: 0.5830 - categorical_accuracy: 0.8222 - val_loss: 0.5491 - val_categorical_accuracy: 0.8342\n",
      "\n",
      "Epoch 00014: val_categorical_accuracy improved from 0.78677 to 0.83416, saving model to checkpoints/1523367114.639698/model-14-0.83.hdf5\n",
      "Epoch 15/30\n",
      "3037/3037 [==============================] - 3s 1ms/step - loss: 0.4252 - categorical_accuracy: 0.8693 - val_loss: 0.4451 - val_categorical_accuracy: 0.8667\n",
      "\n",
      "Epoch 00015: val_categorical_accuracy improved from 0.83416 to 0.86673, saving model to checkpoints/1523367114.639698/model-15-0.87.hdf5\n",
      "Epoch 16/30\n",
      "3037/3037 [==============================] - 3s 1ms/step - loss: 0.3691 - categorical_accuracy: 0.8890 - val_loss: 0.4372 - val_categorical_accuracy: 0.8598\n",
      "\n",
      "Epoch 00016: val_categorical_accuracy did not improve\n",
      "Epoch 17/30\n",
      "3037/3037 [==============================] - 3s 1ms/step - loss: 0.3306 - categorical_accuracy: 0.9022 - val_loss: 0.4232 - val_categorical_accuracy: 0.8697\n",
      "\n",
      "Epoch 00017: val_categorical_accuracy improved from 0.86673 to 0.86969, saving model to checkpoints/1523367114.639698/model-17-0.87.hdf5\n",
      "Epoch 18/30\n",
      "3037/3037 [==============================] - 4s 1ms/step - loss: 0.2753 - categorical_accuracy: 0.9193 - val_loss: 0.2950 - val_categorical_accuracy: 0.9171\n",
      "\n",
      "Epoch 00018: val_categorical_accuracy improved from 0.86969 to 0.91708, saving model to checkpoints/1523367114.639698/model-18-0.92.hdf5\n",
      "Epoch 19/30\n",
      "3037/3037 [==============================] - 3s 1ms/step - loss: 0.2117 - categorical_accuracy: 0.9444 - val_loss: 0.2525 - val_categorical_accuracy: 0.9368\n",
      "\n",
      "Epoch 00019: val_categorical_accuracy improved from 0.91708 to 0.93682, saving model to checkpoints/1523367114.639698/model-19-0.94.hdf5\n",
      "Epoch 20/30\n",
      "3037/3037 [==============================] - 3s 1ms/step - loss: 0.1851 - categorical_accuracy: 0.9473 - val_loss: 0.2527 - val_categorical_accuracy: 0.9378\n",
      "\n",
      "Epoch 00020: val_categorical_accuracy improved from 0.93682 to 0.93781, saving model to checkpoints/1523367114.639698/model-20-0.94.hdf5\n",
      "Epoch 21/30\n",
      "3037/3037 [==============================] - 3s 1ms/step - loss: 0.1595 - categorical_accuracy: 0.9611 - val_loss: 0.2228 - val_categorical_accuracy: 0.9457\n",
      "\n",
      "Epoch 00021: val_categorical_accuracy improved from 0.93781 to 0.94571, saving model to checkpoints/1523367114.639698/model-21-0.95.hdf5\n",
      "Epoch 22/30\n",
      "3037/3037 [==============================] - 4s 1ms/step - loss: 0.1751 - categorical_accuracy: 0.9523 - val_loss: 0.2912 - val_categorical_accuracy: 0.9171\n",
      "\n",
      "Epoch 00022: val_categorical_accuracy did not improve\n",
      "Epoch 23/30\n",
      "3037/3037 [==============================] - 4s 1ms/step - loss: 0.1830 - categorical_accuracy: 0.9483 - val_loss: 0.2062 - val_categorical_accuracy: 0.9506\n",
      "\n",
      "Epoch 00023: val_categorical_accuracy improved from 0.94571 to 0.95064, saving model to checkpoints/1523367114.639698/model-23-0.95.hdf5\n",
      "Epoch 24/30\n",
      "3037/3037 [==============================] - 3s 1ms/step - loss: 0.2083 - categorical_accuracy: 0.9358 - val_loss: 0.8063 - val_categorical_accuracy: 0.7710\n",
      "\n",
      "Epoch 00024: val_categorical_accuracy did not improve\n",
      "Epoch 25/30\n",
      "3037/3037 [==============================] - 4s 1ms/step - loss: 0.4922 - categorical_accuracy: 0.8505 - val_loss: 0.3830 - val_categorical_accuracy: 0.8894\n",
      "\n",
      "Epoch 00025: val_categorical_accuracy did not improve\n",
      "Epoch 26/30\n",
      "3037/3037 [==============================] - 3s 1ms/step - loss: 0.3273 - categorical_accuracy: 0.8992 - val_loss: 0.4374 - val_categorical_accuracy: 0.8717\n",
      "\n",
      "Epoch 00026: val_categorical_accuracy did not improve\n",
      "Epoch 27/30\n",
      "3037/3037 [==============================] - 3s 1ms/step - loss: 0.2739 - categorical_accuracy: 0.9167 - val_loss: 0.2894 - val_categorical_accuracy: 0.9181\n",
      "\n",
      "Epoch 00027: val_categorical_accuracy did not improve\n",
      "Epoch 28/30\n",
      "3037/3037 [==============================] - 3s 1ms/step - loss: 0.2009 - categorical_accuracy: 0.9407 - val_loss: 0.2509 - val_categorical_accuracy: 0.9269\n",
      "\n",
      "Epoch 00028: val_categorical_accuracy did not improve\n",
      "Epoch 29/30\n",
      "3037/3037 [==============================] - 3s 1ms/step - loss: 0.1434 - categorical_accuracy: 0.9598 - val_loss: 0.1877 - val_categorical_accuracy: 0.9546\n",
      "\n",
      "Epoch 00029: val_categorical_accuracy improved from 0.95064 to 0.95459, saving model to checkpoints/1523367114.639698/model-29-0.95.hdf5\n",
      "Epoch 30/30\n",
      "3037/3037 [==============================] - 4s 1ms/step - loss: 0.1128 - categorical_accuracy: 0.9690 - val_loss: 0.1776 - val_categorical_accuracy: 0.9566\n",
      "\n",
      "Epoch 00030: val_categorical_accuracy improved from 0.95459 to 0.95656, saving model to checkpoints/1523367114.639698/model-30-0.96.hdf5\n"
     ]
    }
   ],
   "source": [
    "mymodel.train(X_train, Y_train, X_valid, Y_valid)"
   ]
  },
  {
   "cell_type": "markdown",
   "metadata": {},
   "source": [
    "### Evaluate Model"
   ]
  },
  {
   "cell_type": "markdown",
   "metadata": {},
   "source": [
    "#### Test Set Accuracy"
   ]
  },
  {
   "cell_type": "code",
   "execution_count": 11,
   "metadata": {},
   "outputs": [
    {
     "name": "stdout",
     "output_type": "stream",
     "text": [
      "1350/1350 [==============================] - 3s 2ms/step\n",
      "Test Loss: 0.177, Test Acc: 96.000%\n"
     ]
    }
   ],
   "source": [
    "test_score = tuple(mymodel.model.evaluate(X_test, Y_test))\n",
    "print(\"Test Loss: %.3f, Test Acc: %.3f%%\" % (test_score[0], test_score[1] * 100))"
   ]
  },
  {
   "cell_type": "markdown",
   "metadata": {},
   "source": [
    "#### Recall, Precision, F1_Score on Validation set"
   ]
  },
  {
   "cell_type": "code",
   "execution_count": 13,
   "metadata": {},
   "outputs": [
    {
     "name": "stdout",
     "output_type": "stream",
     "text": [
      "1013/1013 [==============================] - 2s 2ms/step\n"
     ]
    },
    {
     "data": {
      "text/html": [
       "<div>\n",
       "<style scoped>\n",
       "    .dataframe tbody tr th:only-of-type {\n",
       "        vertical-align: middle;\n",
       "    }\n",
       "\n",
       "    .dataframe tbody tr th {\n",
       "        vertical-align: top;\n",
       "    }\n",
       "\n",
       "    .dataframe thead th {\n",
       "        text-align: right;\n",
       "    }\n",
       "</style>\n",
       "<table border=\"1\" class=\"dataframe\">\n",
       "  <thead>\n",
       "    <tr style=\"text-align: right;\">\n",
       "      <th></th>\n",
       "      <th>recall</th>\n",
       "      <th>precision</th>\n",
       "      <th>f1 score</th>\n",
       "      <th>#</th>\n",
       "    </tr>\n",
       "  </thead>\n",
       "  <tbody>\n",
       "    <tr>\n",
       "      <th>0</th>\n",
       "      <td>0.970874</td>\n",
       "      <td>0.990099</td>\n",
       "      <td>0.980392</td>\n",
       "      <td>101.0</td>\n",
       "    </tr>\n",
       "    <tr>\n",
       "      <th>1</th>\n",
       "      <td>0.969697</td>\n",
       "      <td>0.950495</td>\n",
       "      <td>0.960000</td>\n",
       "      <td>101.0</td>\n",
       "    </tr>\n",
       "    <tr>\n",
       "      <th>2</th>\n",
       "      <td>0.932692</td>\n",
       "      <td>0.960396</td>\n",
       "      <td>0.946341</td>\n",
       "      <td>101.0</td>\n",
       "    </tr>\n",
       "    <tr>\n",
       "      <th>3</th>\n",
       "      <td>1.000000</td>\n",
       "      <td>0.980392</td>\n",
       "      <td>0.990099</td>\n",
       "      <td>102.0</td>\n",
       "    </tr>\n",
       "    <tr>\n",
       "      <th>4</th>\n",
       "      <td>0.989362</td>\n",
       "      <td>0.920792</td>\n",
       "      <td>0.953846</td>\n",
       "      <td>101.0</td>\n",
       "    </tr>\n",
       "    <tr>\n",
       "      <th>5</th>\n",
       "      <td>0.924528</td>\n",
       "      <td>0.960784</td>\n",
       "      <td>0.942308</td>\n",
       "      <td>102.0</td>\n",
       "    </tr>\n",
       "    <tr>\n",
       "      <th>6</th>\n",
       "      <td>0.943396</td>\n",
       "      <td>0.980392</td>\n",
       "      <td>0.961538</td>\n",
       "      <td>102.0</td>\n",
       "    </tr>\n",
       "    <tr>\n",
       "      <th>7</th>\n",
       "      <td>0.960396</td>\n",
       "      <td>0.960396</td>\n",
       "      <td>0.960396</td>\n",
       "      <td>101.0</td>\n",
       "    </tr>\n",
       "    <tr>\n",
       "      <th>8</th>\n",
       "      <td>0.923077</td>\n",
       "      <td>0.950495</td>\n",
       "      <td>0.936585</td>\n",
       "      <td>101.0</td>\n",
       "    </tr>\n",
       "    <tr>\n",
       "      <th>9</th>\n",
       "      <td>0.958333</td>\n",
       "      <td>0.910891</td>\n",
       "      <td>0.934010</td>\n",
       "      <td>101.0</td>\n",
       "    </tr>\n",
       "  </tbody>\n",
       "</table>\n",
       "</div>"
      ],
      "text/plain": [
       "     recall  precision  f1 score      #\n",
       "0  0.970874   0.990099  0.980392  101.0\n",
       "1  0.969697   0.950495  0.960000  101.0\n",
       "2  0.932692   0.960396  0.946341  101.0\n",
       "3  1.000000   0.980392  0.990099  102.0\n",
       "4  0.989362   0.920792  0.953846  101.0\n",
       "5  0.924528   0.960784  0.942308  102.0\n",
       "6  0.943396   0.980392  0.961538  102.0\n",
       "7  0.960396   0.960396  0.960396  101.0\n",
       "8  0.923077   0.950495  0.936585  101.0\n",
       "9  0.958333   0.910891  0.934010  101.0"
      ]
     },
     "execution_count": 13,
     "metadata": {},
     "output_type": "execute_result"
    }
   ],
   "source": [
    "from utils.evaluation import get_evaluation_metrics, get_confusion_matrix\n",
    "\n",
    "Y_predicted_valid = mymodel.model.predict_classes(X_valid, verbose=1)\n",
    "rpf = get_evaluation_metrics(Y_valid, Y_predicted_valid)\n",
    "rpf"
   ]
  },
  {
   "cell_type": "markdown",
   "metadata": {},
   "source": [
    "#### Plot Confusion Matrix"
   ]
  },
  {
   "cell_type": "code",
   "execution_count": 14,
   "metadata": {},
   "outputs": [
    {
     "data": {
      "image/png": "[encoded data removed]",
      "text/plain": [
       "<Figure size 288x288 with 1 Axes>"
      ]
     },
     "metadata": {},
     "output_type": "display_data"
    }
   ],
   "source": [
    "from utils.evaluation import get_confusion_matrix\n",
    "# Confusion Matrix\n",
    "confmat = get_confusion_matrix(Y_valid, Y_predicted_valid, plot=True)"
   ]
  },
  {
   "cell_type": "code",
   "execution_count": null,
   "metadata": {},
   "outputs": [],
   "source": []
  }
 ],
 "metadata": {
  "kernelspec": {
   "display_name": "Python 3",
   "language": "python",
   "name": "python3"
  },
  "language_info": {
   "codemirror_mode": {
    "name": "ipython",
    "version": 3
   },
   "file_extension": ".py",
   "mimetype": "text/x-python",
   "name": "python",
   "nbconvert_exporter": "python",
   "pygments_lexer": "ipython3",
   "version": "3.6.4"
  }
 },
 "nbformat": 4,
 "nbformat_minor": 2
}

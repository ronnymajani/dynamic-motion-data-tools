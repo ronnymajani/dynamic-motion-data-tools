{
 "cells": [
  {
   "cell_type": "markdown",
   "metadata": {},
   "source": [
    "# Data Preparation\n",
    "-----"
   ]
  },
  {
   "cell_type": "markdown",
   "metadata": {},
   "source": [
    "### Constants and Folder Paths"
   ]
  },
  {
   "cell_type": "code",
   "execution_count": 85,
   "metadata": {},
   "outputs": [],
   "source": [
    "dataset_folder_path = 'temp'\n",
    "NUM_SAMPLES = 200"
   ]
  },
  {
   "cell_type": "markdown",
   "metadata": {},
   "source": [
    "### Load Data and Split into *Test*, *Train/Valid*"
   ]
  },
  {
   "cell_type": "code",
   "execution_count": 113,
   "metadata": {},
   "outputs": [],
   "source": [
    "from data.DataSet import DataSet\n",
    "dataset = DataSet()\n",
    "dataset.load(dataset_folder_path, test_set_percentage=0.5)"
   ]
  },
  {
   "cell_type": "code",
   "execution_count": 114,
   "metadata": {},
   "outputs": [
    {
     "data": {
      "text/plain": [
       "1800"
      ]
     },
     "execution_count": 114,
     "metadata": {},
     "output_type": "execute_result"
    }
   ],
   "source": [
    "len(dataset.train_data)"
   ]
  },
  {
   "cell_type": "code",
   "execution_count": 115,
   "metadata": {},
   "outputs": [
    {
     "data": {
      "text/plain": [
       "1800"
      ]
     },
     "execution_count": 115,
     "metadata": {},
     "output_type": "execute_result"
    }
   ],
   "source": [
    "len(dataset.test_data)"
   ]
  },
  {
   "cell_type": "markdown",
   "metadata": {},
   "source": [
    "### Data Preprocessing"
   ]
  },
  {
   "cell_type": "code",
   "execution_count": 116,
   "metadata": {},
   "outputs": [],
   "source": [
    "from utils.preprocessing import *\n",
    "from functools import partial\n",
    "dataset.apply(apply_mean_centering)\n",
    "dataset.apply(apply_unit_distance_normalization)\n",
    "#dataset.apply(partial(normalize_pressure_value, max_pressure_val=512))\n",
    "dataset.apply(partial(spline_interpolate_and_resample, num_samples=NUM_SAMPLES))\n",
    "dataset.expand(reverse_digit_sequence)\n",
    "# dataset.apply(lambda digit: convert_xy_to_derivative(digit, normalize=False))\n",
    "#dataset.apply(partial(convert_xy_to_derivative, normalize=True))"
   ]
  },
  {
   "cell_type": "markdown",
   "metadata": {},
   "source": [
    "### Split Dataset into *Train*, *Valid*, and *Test*"
   ]
  },
  {
   "cell_type": "code",
   "execution_count": 117,
   "metadata": {},
   "outputs": [],
   "source": [
    "import numpy as np\n",
    "from sklearn.model_selection import train_test_split\n",
    "\n",
    "X_train_valid = np.array(dataset.train_data)\n",
    "X_test = np.array(dataset.test_data)\n",
    "# Convert labels to numpy array and OneHot encode them\n",
    "encoder, train_valid_labels, Y_test = dataset.get_labels_as_numpy(onehot=True)\n",
    "train_valid_labels = train_valid_labels.astype('float32').todense()\n",
    "Y_test = Y_test.astype('float32').todense()\n",
    "# Split Data\n",
    "X_train, X_valid, Y_train, Y_valid = train_test_split(X_train_valid, train_valid_labels, shuffle=True, stratify=train_valid_labels, random_state=42)"
   ]
  },
  {
   "cell_type": "markdown",
   "metadata": {},
   "source": [
    "----------\n",
    "# Neural Network Setup and Training\n",
    "----------"
   ]
  },
  {
   "cell_type": "markdown",
   "metadata": {},
   "source": [
    "## **Regularized Naive GRU**"
   ]
  },
  {
   "cell_type": "markdown",
   "metadata": {},
   "source": [
    "### Parameters"
   ]
  },
  {
   "cell_type": "code",
   "execution_count": 89,
   "metadata": {},
   "outputs": [],
   "source": [
    "PARAM_NUM_EPOCHS = 30\n",
    "PARAM_BATCH_SIZE = 300"
   ]
  },
  {
   "cell_type": "markdown",
   "metadata": {},
   "source": [
    "### Setup Model"
   ]
  },
  {
   "cell_type": "code",
   "execution_count": 90,
   "metadata": {},
   "outputs": [
    {
     "name": "stdout",
     "output_type": "stream",
     "text": [
      "\n",
      "\n",
      "----------\n",
      "\n",
      "Optimizer: <class 'keras.optimizers.Nadam'>\n",
      "Batch Size: 300\n",
      "Number of Epochs: 30\n",
      "\n",
      "_________________________________________________________________\n",
      "Layer (type)                 Output Shape              Param #   \n",
      "=================================================================\n",
      "gru_11 (GRU)                 (None, 200, 256)          198912    \n",
      "_________________________________________________________________\n",
      "dropout_11 (Dropout)         (None, 200, 256)          0         \n",
      "_________________________________________________________________\n",
      "gru_12 (GRU)                 (None, 256)               393984    \n",
      "_________________________________________________________________\n",
      "dropout_12 (Dropout)         (None, 256)               0         \n",
      "_________________________________________________________________\n",
      "dense_6 (Dense)              (None, 10)                2570      \n",
      "_________________________________________________________________\n",
      "activation_6 (Activation)    (None, 10)                0         \n",
      "=================================================================\n",
      "Total params: 595,466\n",
      "Trainable params: 595,466\n",
      "Non-trainable params: 0\n",
      "_________________________________________________________________\n",
      "\n",
      "\n",
      "----------\n",
      "\n",
      "\n"
     ]
    }
   ],
   "source": [
    "from models.regularized_gru import NaiveRegularizedGRU\n",
    "\n",
    "mymodel = NaiveRegularizedGRU(X_train.shape[1:])\n",
    "mymodel.batch_size = PARAM_BATCH_SIZE\n",
    "mymodel.num_epochs = PARAM_NUM_EPOCHS\n",
    "mymodel.initialize()\n",
    "print(mymodel)"
   ]
  },
  {
   "cell_type": "markdown",
   "metadata": {},
   "source": [
    "#### Save Model Summary"
   ]
  },
  {
   "cell_type": "code",
   "execution_count": 91,
   "metadata": {},
   "outputs": [],
   "source": [
    "mymodel.save_summary(dataset.get_recorded_operations())\n",
    "mymodel.save_config()"
   ]
  },
  {
   "cell_type": "markdown",
   "metadata": {},
   "source": [
    "### Train Model"
   ]
  },
  {
   "cell_type": "code",
   "execution_count": 92,
   "metadata": {},
   "outputs": [
    {
     "name": "stdout",
     "output_type": "stream",
     "text": [
      "Train on 2700 samples, validate on 900 samples\n",
      "Epoch 1/30\n",
      "2700/2700 [==============================] - 3s 1ms/step - loss: 2.1719 - categorical_accuracy: 0.1907 - val_loss: 2.1087 - val_categorical_accuracy: 0.2333\n",
      "\n",
      "Epoch 00001: val_categorical_accuracy improved from -inf to 0.23333, saving model to checkpoints/1524405313.503832/naive_regularized_gru-01-0.23.hdf5\n",
      "Epoch 2/30\n",
      "2700/2700 [==============================] - 3s 1ms/step - loss: 2.1120 - categorical_accuracy: 0.2030 - val_loss: 2.1116 - val_categorical_accuracy: 0.1911\n",
      "\n",
      "Epoch 00002: val_categorical_accuracy did not improve\n",
      "Epoch 3/30\n",
      "2700/2700 [==============================] - 3s 1ms/step - loss: 2.0536 - categorical_accuracy: 0.2074 - val_loss: 1.9502 - val_categorical_accuracy: 0.2900\n",
      "\n",
      "Epoch 00003: val_categorical_accuracy improved from 0.23333 to 0.29000, saving model to checkpoints/1524405313.503832/naive_regularized_gru-03-0.29.hdf5\n",
      "Epoch 4/30\n",
      "2700/2700 [==============================] - 3s 1ms/step - loss: 1.9414 - categorical_accuracy: 0.2530 - val_loss: 1.8156 - val_categorical_accuracy: 0.3056\n",
      "\n",
      "Epoch 00004: val_categorical_accuracy improved from 0.29000 to 0.30556, saving model to checkpoints/1524405313.503832/naive_regularized_gru-04-0.31.hdf5\n",
      "Epoch 5/30\n",
      "2700/2700 [==============================] - 3s 1ms/step - loss: 1.7457 - categorical_accuracy: 0.3437 - val_loss: 1.7661 - val_categorical_accuracy: 0.3367\n",
      "\n",
      "Epoch 00005: val_categorical_accuracy improved from 0.30556 to 0.33667, saving model to checkpoints/1524405313.503832/naive_regularized_gru-05-0.34.hdf5\n",
      "Epoch 6/30\n",
      "2700/2700 [==============================] - 3s 1ms/step - loss: 1.6552 - categorical_accuracy: 0.3878 - val_loss: 1.5143 - val_categorical_accuracy: 0.4200\n",
      "\n",
      "Epoch 00006: val_categorical_accuracy improved from 0.33667 to 0.42000, saving model to checkpoints/1524405313.503832/naive_regularized_gru-06-0.42.hdf5\n",
      "Epoch 7/30\n",
      "2700/2700 [==============================] - 3s 1ms/step - loss: 1.4176 - categorical_accuracy: 0.4619 - val_loss: 1.3131 - val_categorical_accuracy: 0.4800\n",
      "\n",
      "Epoch 00007: val_categorical_accuracy improved from 0.42000 to 0.48000, saving model to checkpoints/1524405313.503832/naive_regularized_gru-07-0.48.hdf5\n",
      "Epoch 8/30\n",
      "2700/2700 [==============================] - 3s 1ms/step - loss: 1.3195 - categorical_accuracy: 0.5022 - val_loss: 1.0377 - val_categorical_accuracy: 0.6222\n",
      "\n",
      "Epoch 00008: val_categorical_accuracy improved from 0.48000 to 0.62222, saving model to checkpoints/1524405313.503832/naive_regularized_gru-08-0.62.hdf5\n",
      "Epoch 9/30\n",
      "2700/2700 [==============================] - 3s 1ms/step - loss: 1.1236 - categorical_accuracy: 0.5730 - val_loss: 0.9605 - val_categorical_accuracy: 0.6456\n",
      "\n",
      "Epoch 00009: val_categorical_accuracy improved from 0.62222 to 0.64556, saving model to checkpoints/1524405313.503832/naive_regularized_gru-09-0.65.hdf5\n",
      "Epoch 10/30\n",
      "2700/2700 [==============================] - 3s 1ms/step - loss: 0.9681 - categorical_accuracy: 0.6385 - val_loss: 0.8830 - val_categorical_accuracy: 0.7089\n",
      "\n",
      "Epoch 00010: val_categorical_accuracy improved from 0.64556 to 0.70889, saving model to checkpoints/1524405313.503832/naive_regularized_gru-10-0.71.hdf5\n",
      "Epoch 11/30\n",
      "2700/2700 [==============================] - 3s 1ms/step - loss: 0.8060 - categorical_accuracy: 0.7100 - val_loss: 0.9082 - val_categorical_accuracy: 0.6511\n",
      "\n",
      "Epoch 00011: val_categorical_accuracy did not improve\n",
      "Epoch 12/30\n",
      "2700/2700 [==============================] - 3s 1ms/step - loss: 0.6939 - categorical_accuracy: 0.7541 - val_loss: 0.5468 - val_categorical_accuracy: 0.7978\n",
      "\n",
      "Epoch 00012: val_categorical_accuracy improved from 0.70889 to 0.79778, saving model to checkpoints/1524405313.503832/naive_regularized_gru-12-0.80.hdf5\n",
      "Epoch 13/30\n",
      "2700/2700 [==============================] - 3s 1ms/step - loss: 0.5786 - categorical_accuracy: 0.7996 - val_loss: 0.5892 - val_categorical_accuracy: 0.7978\n",
      "\n",
      "Epoch 00013: val_categorical_accuracy did not improve\n",
      "Epoch 14/30\n",
      "2700/2700 [==============================] - 3s 1ms/step - loss: 0.4022 - categorical_accuracy: 0.8696 - val_loss: 0.4109 - val_categorical_accuracy: 0.8600\n",
      "\n",
      "Epoch 00014: val_categorical_accuracy improved from 0.79778 to 0.86000, saving model to checkpoints/1524405313.503832/naive_regularized_gru-14-0.86.hdf5\n",
      "Epoch 15/30\n",
      "2700/2700 [==============================] - 3s 1ms/step - loss: 0.3833 - categorical_accuracy: 0.8733 - val_loss: 0.2889 - val_categorical_accuracy: 0.9056\n",
      "\n",
      "Epoch 00015: val_categorical_accuracy improved from 0.86000 to 0.90556, saving model to checkpoints/1524405313.503832/naive_regularized_gru-15-0.91.hdf5\n",
      "Epoch 16/30\n",
      "2700/2700 [==============================] - 3s 1ms/step - loss: 0.2663 - categorical_accuracy: 0.9148 - val_loss: 0.3292 - val_categorical_accuracy: 0.8878\n",
      "\n",
      "Epoch 00016: val_categorical_accuracy did not improve\n",
      "Epoch 17/30\n",
      "2700/2700 [==============================] - 3s 1ms/step - loss: 0.2120 - categorical_accuracy: 0.9322 - val_loss: 0.1837 - val_categorical_accuracy: 0.9433\n",
      "\n",
      "Epoch 00017: val_categorical_accuracy improved from 0.90556 to 0.94333, saving model to checkpoints/1524405313.503832/naive_regularized_gru-17-0.94.hdf5\n",
      "Epoch 18/30\n",
      "2700/2700 [==============================] - 3s 1ms/step - loss: 0.1673 - categorical_accuracy: 0.9496 - val_loss: 0.2662 - val_categorical_accuracy: 0.9300\n",
      "\n",
      "Epoch 00018: val_categorical_accuracy did not improve\n",
      "Epoch 19/30\n",
      "2700/2700 [==============================] - 3s 1ms/step - loss: 0.1864 - categorical_accuracy: 0.9407 - val_loss: 0.1244 - val_categorical_accuracy: 0.9656\n",
      "\n",
      "Epoch 00019: val_categorical_accuracy improved from 0.94333 to 0.96556, saving model to checkpoints/1524405313.503832/naive_regularized_gru-19-0.97.hdf5\n",
      "Epoch 20/30\n",
      "2700/2700 [==============================] - 3s 1ms/step - loss: 0.0947 - categorical_accuracy: 0.9759 - val_loss: 0.1525 - val_categorical_accuracy: 0.9422\n",
      "\n",
      "Epoch 00020: val_categorical_accuracy did not improve\n",
      "Epoch 21/30\n",
      "2700/2700 [==============================] - 3s 1ms/step - loss: 0.1817 - categorical_accuracy: 0.9430 - val_loss: 0.2209 - val_categorical_accuracy: 0.9433\n",
      "\n",
      "Epoch 00021: val_categorical_accuracy did not improve\n",
      "Epoch 22/30\n",
      "2700/2700 [==============================] - 3s 1ms/step - loss: 0.0915 - categorical_accuracy: 0.9763 - val_loss: 0.1221 - val_categorical_accuracy: 0.9656\n",
      "\n",
      "Epoch 00022: val_categorical_accuracy did not improve\n",
      "Epoch 23/30\n",
      "2700/2700 [==============================] - 3s 1ms/step - loss: 0.0497 - categorical_accuracy: 0.9900 - val_loss: 0.0881 - val_categorical_accuracy: 0.9811\n",
      "\n",
      "Epoch 00023: val_categorical_accuracy improved from 0.96556 to 0.98111, saving model to checkpoints/1524405313.503832/naive_regularized_gru-23-0.98.hdf5\n",
      "Epoch 24/30\n",
      "2700/2700 [==============================] - 3s 1ms/step - loss: 0.0358 - categorical_accuracy: 0.9948 - val_loss: 0.0853 - val_categorical_accuracy: 0.9800\n",
      "\n",
      "Epoch 00024: val_categorical_accuracy did not improve\n",
      "Epoch 25/30\n",
      "2700/2700 [==============================] - 3s 1ms/step - loss: 0.0256 - categorical_accuracy: 0.9963 - val_loss: 0.1611 - val_categorical_accuracy: 0.9578\n",
      "\n",
      "Epoch 00025: val_categorical_accuracy did not improve\n",
      "Epoch 26/30\n",
      "2700/2700 [==============================] - 3s 1ms/step - loss: 0.2062 - categorical_accuracy: 0.9367 - val_loss: 0.1181 - val_categorical_accuracy: 0.9711\n",
      "\n",
      "Epoch 00026: val_categorical_accuracy did not improve\n",
      "Epoch 27/30\n",
      "2700/2700 [==============================] - 3s 1ms/step - loss: 0.0620 - categorical_accuracy: 0.9856 - val_loss: 0.0853 - val_categorical_accuracy: 0.9822\n",
      "\n",
      "Epoch 00027: val_categorical_accuracy improved from 0.98111 to 0.98222, saving model to checkpoints/1524405313.503832/naive_regularized_gru-27-0.98.hdf5\n",
      "Epoch 28/30\n",
      "2700/2700 [==============================] - 3s 1ms/step - loss: 0.1181 - categorical_accuracy: 0.9696 - val_loss: 0.0998 - val_categorical_accuracy: 0.9756\n",
      "\n",
      "Epoch 00028: val_categorical_accuracy did not improve\n",
      "Epoch 29/30\n",
      "2700/2700 [==============================] - 3s 1ms/step - loss: 0.0336 - categorical_accuracy: 0.9911 - val_loss: 0.0937 - val_categorical_accuracy: 0.9744\n",
      "\n",
      "Epoch 00029: val_categorical_accuracy did not improve\n",
      "Epoch 30/30\n",
      "2700/2700 [==============================] - 3s 1ms/step - loss: 0.0245 - categorical_accuracy: 0.9948 - val_loss: 0.0894 - val_categorical_accuracy: 0.9811\n",
      "\n",
      "Epoch 00030: val_categorical_accuracy did not improve\n"
     ]
    }
   ],
   "source": [
    "mymodel.train(X_train, Y_train, X_valid, Y_valid)"
   ]
  },
  {
   "cell_type": "markdown",
   "metadata": {},
   "source": [
    "### Evaluate Model"
   ]
  },
  {
   "cell_type": "markdown",
   "metadata": {},
   "source": [
    "#### Test Set Accuracy"
   ]
  },
  {
   "cell_type": "code",
   "execution_count": 93,
   "metadata": {},
   "outputs": [
    {
     "name": "stdout",
     "output_type": "stream",
     "text": [
      "3600/3600 [==============================] - 6s 2ms/step\n",
      "Test Loss: 0.326, Test Acc: 92.083%\n"
     ]
    }
   ],
   "source": [
    "test_score = tuple(mymodel.model.evaluate(X_test, Y_test))\n",
    "print(\"Test Loss: %.3f, Test Acc: %.3f%%\" % (test_score[0], test_score[1] * 100))"
   ]
  },
  {
   "cell_type": "markdown",
   "metadata": {},
   "source": [
    "#### Recall, Precision, F1_Score on Validation set"
   ]
  },
  {
   "cell_type": "code",
   "execution_count": 94,
   "metadata": {},
   "outputs": [
    {
     "name": "stdout",
     "output_type": "stream",
     "text": [
      "900/900 [==============================] - 2s 2ms/step\n"
     ]
    },
    {
     "data": {
      "text/html": [
       "<div>\n",
       "<style scoped>\n",
       "    .dataframe tbody tr th:only-of-type {\n",
       "        vertical-align: middle;\n",
       "    }\n",
       "\n",
       "    .dataframe tbody tr th {\n",
       "        vertical-align: top;\n",
       "    }\n",
       "\n",
       "    .dataframe thead th {\n",
       "        text-align: right;\n",
       "    }\n",
       "</style>\n",
       "<table border=\"1\" class=\"dataframe\">\n",
       "  <thead>\n",
       "    <tr style=\"text-align: right;\">\n",
       "      <th></th>\n",
       "      <th>recall</th>\n",
       "      <th>precision</th>\n",
       "      <th>f1 score</th>\n",
       "      <th>#</th>\n",
       "    </tr>\n",
       "  </thead>\n",
       "  <tbody>\n",
       "    <tr>\n",
       "      <th>0</th>\n",
       "      <td>0.978261</td>\n",
       "      <td>1.000000</td>\n",
       "      <td>0.989011</td>\n",
       "      <td>90.0</td>\n",
       "    </tr>\n",
       "    <tr>\n",
       "      <th>1</th>\n",
       "      <td>0.976744</td>\n",
       "      <td>0.933333</td>\n",
       "      <td>0.954545</td>\n",
       "      <td>90.0</td>\n",
       "    </tr>\n",
       "    <tr>\n",
       "      <th>2</th>\n",
       "      <td>0.977778</td>\n",
       "      <td>0.977778</td>\n",
       "      <td>0.977778</td>\n",
       "      <td>90.0</td>\n",
       "    </tr>\n",
       "    <tr>\n",
       "      <th>3</th>\n",
       "      <td>0.988889</td>\n",
       "      <td>0.988889</td>\n",
       "      <td>0.988889</td>\n",
       "      <td>90.0</td>\n",
       "    </tr>\n",
       "    <tr>\n",
       "      <th>4</th>\n",
       "      <td>0.937500</td>\n",
       "      <td>1.000000</td>\n",
       "      <td>0.967742</td>\n",
       "      <td>90.0</td>\n",
       "    </tr>\n",
       "    <tr>\n",
       "      <th>5</th>\n",
       "      <td>0.978261</td>\n",
       "      <td>1.000000</td>\n",
       "      <td>0.989011</td>\n",
       "      <td>90.0</td>\n",
       "    </tr>\n",
       "    <tr>\n",
       "      <th>6</th>\n",
       "      <td>1.000000</td>\n",
       "      <td>0.988889</td>\n",
       "      <td>0.994413</td>\n",
       "      <td>90.0</td>\n",
       "    </tr>\n",
       "    <tr>\n",
       "      <th>7</th>\n",
       "      <td>1.000000</td>\n",
       "      <td>0.966667</td>\n",
       "      <td>0.983051</td>\n",
       "      <td>90.0</td>\n",
       "    </tr>\n",
       "    <tr>\n",
       "      <th>8</th>\n",
       "      <td>0.988764</td>\n",
       "      <td>0.977778</td>\n",
       "      <td>0.983240</td>\n",
       "      <td>90.0</td>\n",
       "    </tr>\n",
       "    <tr>\n",
       "      <th>9</th>\n",
       "      <td>0.988764</td>\n",
       "      <td>0.977778</td>\n",
       "      <td>0.983240</td>\n",
       "      <td>90.0</td>\n",
       "    </tr>\n",
       "  </tbody>\n",
       "</table>\n",
       "</div>"
      ],
      "text/plain": [
       "     recall  precision  f1 score     #\n",
       "0  0.978261   1.000000  0.989011  90.0\n",
       "1  0.976744   0.933333  0.954545  90.0\n",
       "2  0.977778   0.977778  0.977778  90.0\n",
       "3  0.988889   0.988889  0.988889  90.0\n",
       "4  0.937500   1.000000  0.967742  90.0\n",
       "5  0.978261   1.000000  0.989011  90.0\n",
       "6  1.000000   0.988889  0.994413  90.0\n",
       "7  1.000000   0.966667  0.983051  90.0\n",
       "8  0.988764   0.977778  0.983240  90.0\n",
       "9  0.988764   0.977778  0.983240  90.0"
      ]
     },
     "execution_count": 94,
     "metadata": {},
     "output_type": "execute_result"
    }
   ],
   "source": [
    "from utils.evaluation import get_evaluation_metrics, get_confusion_matrix\n",
    "\n",
    "Y_predicted_valid = mymodel.model.predict_classes(X_valid, verbose=1)\n",
    "rpf_valid = get_evaluation_metrics(Y_valid, Y_predicted_valid)\n",
    "rpf_valid"
   ]
  },
  {
   "cell_type": "markdown",
   "metadata": {},
   "source": [
    "Average F1 Score for Validation Set"
   ]
  },
  {
   "cell_type": "code",
   "execution_count": 95,
   "metadata": {},
   "outputs": [
    {
     "data": {
      "text/plain": [
       "recall        0.981496\n",
       "precision     0.981111\n",
       "f1 score      0.981092\n",
       "#            90.000000\n",
       "dtype: float64"
      ]
     },
     "execution_count": 95,
     "metadata": {},
     "output_type": "execute_result"
    }
   ],
   "source": [
    "rpf_valid.mean()"
   ]
  },
  {
   "cell_type": "markdown",
   "metadata": {},
   "source": [
    "#### Recall, Precision, F1_Score on Test set"
   ]
  },
  {
   "cell_type": "code",
   "execution_count": 96,
   "metadata": {},
   "outputs": [
    {
     "name": "stdout",
     "output_type": "stream",
     "text": [
      "3600/3600 [==============================] - 6s 2ms/step\n"
     ]
    },
    {
     "data": {
      "text/html": [
       "<div>\n",
       "<style scoped>\n",
       "    .dataframe tbody tr th:only-of-type {\n",
       "        vertical-align: middle;\n",
       "    }\n",
       "\n",
       "    .dataframe tbody tr th {\n",
       "        vertical-align: top;\n",
       "    }\n",
       "\n",
       "    .dataframe thead th {\n",
       "        text-align: right;\n",
       "    }\n",
       "</style>\n",
       "<table border=\"1\" class=\"dataframe\">\n",
       "  <thead>\n",
       "    <tr style=\"text-align: right;\">\n",
       "      <th></th>\n",
       "      <th>recall</th>\n",
       "      <th>precision</th>\n",
       "      <th>f1 score</th>\n",
       "      <th>#</th>\n",
       "    </tr>\n",
       "  </thead>\n",
       "  <tbody>\n",
       "    <tr>\n",
       "      <th>0</th>\n",
       "      <td>0.966574</td>\n",
       "      <td>0.963889</td>\n",
       "      <td>0.965229</td>\n",
       "      <td>360.0</td>\n",
       "    </tr>\n",
       "    <tr>\n",
       "      <th>1</th>\n",
       "      <td>0.882952</td>\n",
       "      <td>0.963889</td>\n",
       "      <td>0.921647</td>\n",
       "      <td>360.0</td>\n",
       "    </tr>\n",
       "    <tr>\n",
       "      <th>2</th>\n",
       "      <td>0.863524</td>\n",
       "      <td>0.966667</td>\n",
       "      <td>0.912189</td>\n",
       "      <td>360.0</td>\n",
       "    </tr>\n",
       "    <tr>\n",
       "      <th>3</th>\n",
       "      <td>0.982759</td>\n",
       "      <td>0.950000</td>\n",
       "      <td>0.966102</td>\n",
       "      <td>360.0</td>\n",
       "    </tr>\n",
       "    <tr>\n",
       "      <th>4</th>\n",
       "      <td>0.935310</td>\n",
       "      <td>0.963889</td>\n",
       "      <td>0.949384</td>\n",
       "      <td>360.0</td>\n",
       "    </tr>\n",
       "    <tr>\n",
       "      <th>5</th>\n",
       "      <td>0.891892</td>\n",
       "      <td>0.916667</td>\n",
       "      <td>0.904110</td>\n",
       "      <td>360.0</td>\n",
       "    </tr>\n",
       "    <tr>\n",
       "      <th>6</th>\n",
       "      <td>0.985673</td>\n",
       "      <td>0.955556</td>\n",
       "      <td>0.970381</td>\n",
       "      <td>360.0</td>\n",
       "    </tr>\n",
       "    <tr>\n",
       "      <th>7</th>\n",
       "      <td>0.965779</td>\n",
       "      <td>0.705556</td>\n",
       "      <td>0.815409</td>\n",
       "      <td>360.0</td>\n",
       "    </tr>\n",
       "    <tr>\n",
       "      <th>8</th>\n",
       "      <td>0.921283</td>\n",
       "      <td>0.877778</td>\n",
       "      <td>0.899004</td>\n",
       "      <td>360.0</td>\n",
       "    </tr>\n",
       "    <tr>\n",
       "      <th>9</th>\n",
       "      <td>0.847880</td>\n",
       "      <td>0.944444</td>\n",
       "      <td>0.893561</td>\n",
       "      <td>360.0</td>\n",
       "    </tr>\n",
       "  </tbody>\n",
       "</table>\n",
       "</div>"
      ],
      "text/plain": [
       "     recall  precision  f1 score      #\n",
       "0  0.966574   0.963889  0.965229  360.0\n",
       "1  0.882952   0.963889  0.921647  360.0\n",
       "2  0.863524   0.966667  0.912189  360.0\n",
       "3  0.982759   0.950000  0.966102  360.0\n",
       "4  0.935310   0.963889  0.949384  360.0\n",
       "5  0.891892   0.916667  0.904110  360.0\n",
       "6  0.985673   0.955556  0.970381  360.0\n",
       "7  0.965779   0.705556  0.815409  360.0\n",
       "8  0.921283   0.877778  0.899004  360.0\n",
       "9  0.847880   0.944444  0.893561  360.0"
      ]
     },
     "execution_count": 96,
     "metadata": {},
     "output_type": "execute_result"
    }
   ],
   "source": [
    "from utils.evaluation import get_evaluation_metrics, get_confusion_matrix\n",
    "\n",
    "Y_predicted_test = mymodel.model.predict_classes(X_test, verbose=1)\n",
    "rpf_test = get_evaluation_metrics(Y_test, Y_predicted_test)\n",
    "rpf_test"
   ]
  },
  {
   "cell_type": "markdown",
   "metadata": {},
   "source": [
    "Average F1 Score for Test Set"
   ]
  },
  {
   "cell_type": "code",
   "execution_count": 97,
   "metadata": {},
   "outputs": [
    {
     "data": {
      "text/plain": [
       "recall         0.924363\n",
       "precision      0.920833\n",
       "f1 score       0.919702\n",
       "#            360.000000\n",
       "dtype: float64"
      ]
     },
     "execution_count": 97,
     "metadata": {},
     "output_type": "execute_result"
    }
   ],
   "source": [
    "rpf_test.mean()"
   ]
  },
  {
   "cell_type": "markdown",
   "metadata": {},
   "source": [
    "##### Increase default plotsize for matplotlib"
   ]
  },
  {
   "cell_type": "code",
   "execution_count": 98,
   "metadata": {},
   "outputs": [],
   "source": [
    "import matplotlib.pyplot as plt\n",
    "plt.rcParams['figure.figsize'] = [15, 10]"
   ]
  },
  {
   "cell_type": "markdown",
   "metadata": {},
   "source": [
    "#### Plot Validation Set Confusion Matrix"
   ]
  },
  {
   "cell_type": "code",
   "execution_count": 99,
   "metadata": {},
   "outputs": [
    {
     "data": {
      "image/png": "[encoded data removed]",
      "text/plain": [
       "<Figure size 720x720 with 2 Axes>"
      ]
     },
     "metadata": {},
     "output_type": "display_data"
    }
   ],
   "source": [
    "from utils.evaluation import get_confusion_matrix\n",
    "# Confusion Matrix\n",
    "confmat = get_confusion_matrix(Y_valid, Y_predicted_valid, plot=True)"
   ]
  },
  {
   "cell_type": "markdown",
   "metadata": {},
   "source": [
    "#### Plot Test Set Confusion Matrix"
   ]
  },
  {
   "cell_type": "code",
   "execution_count": 100,
   "metadata": {},
   "outputs": [
    {
     "data": {
      "image/png": "[encoded data removed]",
      "text/plain": [
       "<Figure size 720x720 with 2 Axes>"
      ]
     },
     "metadata": {},
     "output_type": "display_data"
    }
   ],
   "source": [
    "from utils.evaluation import get_confusion_matrix\n",
    "# Confusion Matrix\n",
    "confmat = get_confusion_matrix(Y_test, Y_predicted_test, plot=True)"
   ]
  },
  {
   "cell_type": "markdown",
   "metadata": {},
   "source": [
    "# Backup Code\n",
    "-----"
   ]
  },
  {
   "cell_type": "code",
   "execution_count": 11,
   "metadata": {},
   "outputs": [],
   "source": [
    "from keras.models import load_model\n",
    "mymodel.model = load_model(\"checkpoints/1523369406.7123575/naive_overfit_gru-30-0.97.hdf5\")"
   ]
  },
  {
   "cell_type": "code",
   "execution_count": null,
   "metadata": {},
   "outputs": [],
   "source": []
  }
 ],
 "metadata": {
  "kernelspec": {
   "display_name": "Python 3",
   "language": "python",
   "name": "python3"
  },
  "language_info": {
   "codemirror_mode": {
    "name": "ipython",
    "version": 3
   },
   "file_extension": ".py",
   "mimetype": "text/x-python",
   "name": "python",
   "nbconvert_exporter": "python",
   "pygments_lexer": "ipython3",
   "version": "3.6.4"
  }
 },
 "nbformat": 4,
 "nbformat_minor": 2
}

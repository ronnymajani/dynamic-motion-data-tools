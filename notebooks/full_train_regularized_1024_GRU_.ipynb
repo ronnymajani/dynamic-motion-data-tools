{
 "cells": [
  {
   "cell_type": "code",
   "execution_count": 1,
   "metadata": {},
   "outputs": [],
   "source": [
    "# allow the notebook to access the parent directory so we can import the other modules\n",
    "# https://stackoverflow.com/a/35273613\n",
    "import os\n",
    "import sys\n",
    "nb_dir = os.path.split(os.getcwd())[0]\n",
    "if nb_dir not in sys.path:\n",
    "    sys.path.append(nb_dir)"
   ]
  },
  {
   "cell_type": "markdown",
   "metadata": {},
   "source": [
    "# Data Preparation\n",
    "-----"
   ]
  },
  {
   "cell_type": "markdown",
   "metadata": {},
   "source": [
    "### Constants and Folder Paths"
   ]
  },
  {
   "cell_type": "code",
   "execution_count": 2,
   "metadata": {},
   "outputs": [],
   "source": [
    "import os\n",
    "dataset_folder_path = os.path.join(\"..\", \"files\", \"dataset\")"
   ]
  },
  {
   "cell_type": "markdown",
   "metadata": {},
   "source": [
    "### Load Data and Split into *Test*, *Train/Valid*"
   ]
  },
  {
   "cell_type": "code",
   "execution_count": 3,
   "metadata": {},
   "outputs": [],
   "source": [
    "from data.DataSet import DataSet\n",
    "dataset = DataSet()\n",
    "dataset.load(dataset_folder_path, test_set_percentage=0, validation_set_percentage=0)"
   ]
  },
  {
   "cell_type": "code",
   "execution_count": 4,
   "metadata": {},
   "outputs": [
    {
     "name": "stdout",
     "output_type": "stream",
     "text": [
      "3600\n",
      "0\n"
     ]
    }
   ],
   "source": [
    "print(len(dataset.train_data))\n",
    "print(len(dataset.test_data))"
   ]
  },
  {
   "cell_type": "markdown",
   "metadata": {},
   "source": [
    "### Data Preprocessing"
   ]
  },
  {
   "cell_type": "code",
   "execution_count": 5,
   "metadata": {},
   "outputs": [],
   "source": [
    "NUM_SAMPLES = 50\n",
    "from utils.preprocessing import *\n",
    "from functools import partial\n",
    "dataset.apply(apply_mean_centering)\n",
    "dataset.apply(apply_unit_distance_normalization)\n",
    "dataset.apply(partial(spline_interpolate_and_resample, num_samples=NUM_SAMPLES))\n",
    "dataset.expand(reverse_digit_sequence)"
   ]
  },
  {
   "cell_type": "code",
   "execution_count": 6,
   "metadata": {},
   "outputs": [
    {
     "name": "stdout",
     "output_type": "stream",
     "text": [
      "7200\n",
      "0\n"
     ]
    }
   ],
   "source": [
    "print(len(dataset.train_data))\n",
    "print(len(dataset.test_data))"
   ]
  },
  {
   "cell_type": "markdown",
   "metadata": {},
   "source": [
    "### Extract Data"
   ]
  },
  {
   "cell_type": "code",
   "execution_count": 7,
   "metadata": {},
   "outputs": [],
   "source": [
    "import numpy as np\n",
    "from sklearn.model_selection import train_test_split\n",
    "\n",
    "X_train = np.array(dataset.train_data)\n",
    "X_valid = np.array(dataset.valid_data)\n",
    "# Convert labels to numpy array and OneHot encode them\n",
    "encoder, Y_train, Y_valid, _ = dataset.onehot_encode_labels()"
   ]
  },
  {
   "cell_type": "markdown",
   "metadata": {},
   "source": [
    "----------\n",
    "# Neural Network Setup and Training\n",
    "----------"
   ]
  },
  {
   "cell_type": "markdown",
   "metadata": {},
   "source": [
    "## **Regularized 1024 GRU**"
   ]
  },
  {
   "cell_type": "markdown",
   "metadata": {},
   "source": [
    "### Parameters"
   ]
  },
  {
   "cell_type": "code",
   "execution_count": 8,
   "metadata": {},
   "outputs": [],
   "source": [
    "PARAM_NUM_EPOCHS = 30\n",
    "PARAM_BATCH_SIZE = 300"
   ]
  },
  {
   "cell_type": "markdown",
   "metadata": {},
   "source": [
    "### Setup Model"
   ]
  },
  {
   "cell_type": "code",
   "execution_count": 9,
   "metadata": {},
   "outputs": [
    {
     "name": "stderr",
     "output_type": "stream",
     "text": [
      "Using TensorFlow backend.\n"
     ]
    },
    {
     "name": "stdout",
     "output_type": "stream",
     "text": [
      "\n",
      "\n",
      "----------\n",
      "\n",
      "Optimizer: <class 'keras.optimizers.Nadam'>\n",
      "Batch Size: 300\n",
      "Number of Epochs: 30\n",
      "\n",
      "_________________________________________________________________\n",
      "Layer (type)                 Output Shape              Param #   \n",
      "=================================================================\n",
      "gru_1 (GRU)                  (None, 50, 1024)          3154944   \n",
      "_________________________________________________________________\n",
      "dropout_1 (Dropout)          (None, 50, 1024)          0         \n",
      "_________________________________________________________________\n",
      "gru_2 (GRU)                  (None, 1024)              6294528   \n",
      "_________________________________________________________________\n",
      "dropout_2 (Dropout)          (None, 1024)              0         \n",
      "_________________________________________________________________\n",
      "dense_1 (Dense)              (None, 256)               262400    \n",
      "_________________________________________________________________\n",
      "activation_1 (Activation)    (None, 256)               0         \n",
      "_________________________________________________________________\n",
      "dense_2 (Dense)              (None, 10)                2570      \n",
      "_________________________________________________________________\n",
      "activation_2 (Activation)    (None, 10)                0         \n",
      "=================================================================\n",
      "Total params: 9,714,442\n",
      "Trainable params: 9,714,442\n",
      "Non-trainable params: 0\n",
      "_________________________________________________________________\n",
      "\n",
      "\n",
      "----------\n",
      "\n",
      "\n"
     ]
    }
   ],
   "source": [
    "from models.regularized_1024_gru import Regularized1024GRU\n",
    "from utils.evaluation import cross_validate_model\n",
    "\n",
    "mymodel = Regularized1024GRU(X_train.shape[1:])\n",
    "mymodel.batch_size = PARAM_BATCH_SIZE\n",
    "mymodel.num_epochs = PARAM_NUM_EPOCHS\n",
    "mymodel.disable_callbacks()\n",
    "mymodel.initialize()\n",
    "print(mymodel)"
   ]
  },
  {
   "cell_type": "markdown",
   "metadata": {},
   "source": [
    "#### Save Model Summary"
   ]
  },
  {
   "cell_type": "code",
   "execution_count": 10,
   "metadata": {},
   "outputs": [
    {
     "name": "stdout",
     "output_type": "stream",
     "text": [
      "Summary saved to ../files/checkpoints/1525023024.8125896/summary.txt\n",
      "Model config saved to ../files/checkpoints/1525023024.8125896/model.txt\n"
     ]
    }
   ],
   "source": [
    "mymodel.save_summary(dataset.get_recorded_operations())\n",
    "mymodel.save_config()"
   ]
  },
  {
   "cell_type": "markdown",
   "metadata": {},
   "source": [
    "### Train Model (without evalutaion)"
   ]
  },
  {
   "cell_type": "code",
   "execution_count": 11,
   "metadata": {
    "scrolled": true
   },
   "outputs": [
    {
     "name": "stdout",
     "output_type": "stream",
     "text": [
      "Epoch 1/30\n",
      "7200/7200 [==============================] - 14s 2ms/step - loss: 1.9224 - categorical_accuracy: 0.2863\n",
      "Epoch 2/30\n",
      "7200/7200 [==============================] - 13s 2ms/step - loss: 1.3869 - categorical_accuracy: 0.5171\n",
      "Epoch 3/30\n",
      "7200/7200 [==============================] - 13s 2ms/step - loss: 0.8122 - categorical_accuracy: 0.7365\n",
      "Epoch 4/30\n",
      "7200/7200 [==============================] - 13s 2ms/step - loss: 0.4388 - categorical_accuracy: 0.8589\n",
      "Epoch 5/30\n",
      "7200/7200 [==============================] - 13s 2ms/step - loss: 0.2670 - categorical_accuracy: 0.9194\n",
      "Epoch 6/30\n",
      "7200/7200 [==============================] - 13s 2ms/step - loss: 0.1654 - categorical_accuracy: 0.9554\n",
      "Epoch 7/30\n",
      "7200/7200 [==============================] - 13s 2ms/step - loss: 0.1252 - categorical_accuracy: 0.9661\n",
      "Epoch 8/30\n",
      "7200/7200 [==============================] - 13s 2ms/step - loss: 0.0977 - categorical_accuracy: 0.9740\n",
      "Epoch 9/30\n",
      "7200/7200 [==============================] - 13s 2ms/step - loss: 0.0837 - categorical_accuracy: 0.9788\n",
      "Epoch 10/30\n",
      "7200/7200 [==============================] - 13s 2ms/step - loss: 0.0623 - categorical_accuracy: 0.9824\n",
      "Epoch 11/30\n",
      "7200/7200 [==============================] - 13s 2ms/step - loss: 0.0511 - categorical_accuracy: 0.9874\n",
      "Epoch 12/30\n",
      "7200/7200 [==============================] - 13s 2ms/step - loss: 0.0728 - categorical_accuracy: 0.9817\n",
      "Epoch 13/30\n",
      "7200/7200 [==============================] - 13s 2ms/step - loss: 0.0745 - categorical_accuracy: 0.9803\n",
      "Epoch 14/30\n",
      "7200/7200 [==============================] - 13s 2ms/step - loss: 0.0422 - categorical_accuracy: 0.9888\n",
      "Epoch 15/30\n",
      "7200/7200 [==============================] - 13s 2ms/step - loss: 0.0365 - categorical_accuracy: 0.9910\n",
      "Epoch 16/30\n",
      "7200/7200 [==============================] - 13s 2ms/step - loss: 0.0335 - categorical_accuracy: 0.9918\n",
      "Epoch 17/30\n",
      "7200/7200 [==============================] - 13s 2ms/step - loss: 0.0340 - categorical_accuracy: 0.9906\n",
      "Epoch 18/30\n",
      "7200/7200 [==============================] - 13s 2ms/step - loss: 0.0277 - categorical_accuracy: 0.9926\n",
      "Epoch 19/30\n",
      "7200/7200 [==============================] - 13s 2ms/step - loss: 0.0213 - categorical_accuracy: 0.9940\n",
      "Epoch 20/30\n",
      "7200/7200 [==============================] - 13s 2ms/step - loss: 0.0314 - categorical_accuracy: 0.9900\n",
      "Epoch 21/30\n",
      "7200/7200 [==============================] - 13s 2ms/step - loss: 0.0185 - categorical_accuracy: 0.9956\n",
      "Epoch 22/30\n",
      "7200/7200 [==============================] - 13s 2ms/step - loss: 0.0218 - categorical_accuracy: 0.9946\n",
      "Epoch 23/30\n",
      "7200/7200 [==============================] - 13s 2ms/step - loss: 0.0234 - categorical_accuracy: 0.9933\n",
      "Epoch 24/30\n",
      "7200/7200 [==============================] - 13s 2ms/step - loss: 0.0165 - categorical_accuracy: 0.9958\n",
      "Epoch 25/30\n",
      "7200/7200 [==============================] - 13s 2ms/step - loss: 0.0143 - categorical_accuracy: 0.9957\n",
      "Epoch 26/30\n",
      "7200/7200 [==============================] - 13s 2ms/step - loss: 0.0202 - categorical_accuracy: 0.9960\n",
      "Epoch 27/30\n",
      "7200/7200 [==============================] - 13s 2ms/step - loss: 0.0181 - categorical_accuracy: 0.9960\n",
      "Epoch 28/30\n",
      "7200/7200 [==============================] - 13s 2ms/step - loss: 0.0116 - categorical_accuracy: 0.9968\n",
      "Epoch 29/30\n",
      "7200/7200 [==============================] - 13s 2ms/step - loss: 0.0118 - categorical_accuracy: 0.9975\n",
      "Epoch 30/30\n",
      "7200/7200 [==============================] - 13s 2ms/step - loss: 0.0159 - categorical_accuracy: 0.9949\n"
     ]
    }
   ],
   "source": [
    "mymodel.train(X_train, Y_train)"
   ]
  },
  {
   "cell_type": "markdown",
   "metadata": {},
   "source": [
    "### Save Model"
   ]
  },
  {
   "cell_type": "code",
   "execution_count": 12,
   "metadata": {},
   "outputs": [],
   "source": [
    "mymodel.save()"
   ]
  },
  {
   "cell_type": "code",
   "execution_count": null,
   "metadata": {},
   "outputs": [],
   "source": []
  }
 ],
 "metadata": {
  "kernelspec": {
   "display_name": "Python 3",
   "language": "python",
   "name": "python3"
  },
  "language_info": {
   "codemirror_mode": {
    "name": "ipython",
    "version": 3
   },
   "file_extension": ".py",
   "mimetype": "text/x-python",
   "name": "python",
   "nbconvert_exporter": "python",
   "pygments_lexer": "ipython3",
   "version": "3.6.4"
  }
 },
 "nbformat": 4,
 "nbformat_minor": 2
}

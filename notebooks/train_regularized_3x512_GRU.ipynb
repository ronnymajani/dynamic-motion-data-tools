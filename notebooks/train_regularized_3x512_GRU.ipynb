{
 "cells": [
  {
   "cell_type": "code",
   "execution_count": 1,
   "metadata": {},
   "outputs": [],
   "source": [
    "# allow the notebook to access the parent directory so we can import the other modules\n",
    "# https://stackoverflow.com/a/35273613\n",
    "import os\n",
    "import sys\n",
    "nb_dir = os.path.split(os.getcwd())[0]\n",
    "if nb_dir not in sys.path:\n",
    "    sys.path.append(nb_dir)"
   ]
  },
  {
   "cell_type": "markdown",
   "metadata": {},
   "source": [
    "# Data Preparation\n",
    "-----"
   ]
  },
  {
   "cell_type": "markdown",
   "metadata": {},
   "source": [
    "### Constants and Folder Paths"
   ]
  },
  {
   "cell_type": "code",
   "execution_count": 2,
   "metadata": {},
   "outputs": [],
   "source": [
    "import os\n",
    "dataset_folder_path = os.path.join(\"..\", \"files\", \"dataset\")"
   ]
  },
  {
   "cell_type": "code",
   "execution_count": 3,
   "metadata": {},
   "outputs": [
    {
     "name": "stdout",
     "output_type": "stream",
     "text": [
      "36 files found!\n",
      "Training Data Len: 1900\n",
      "Validation Data Len: 1000\n",
      "Test Data Len: 700\n"
     ]
    }
   ],
   "source": [
    "from data.DataSet import DataSet\n",
    "dataset = DataSet()\n",
    "dataset.load(dataset_folder_path, test_set_percentage=0.2, validation_set_percentage=0.3333)\n",
    "\n",
    "print(\"Training Data Len:\", len(dataset.train_data))\n",
    "print(\"Validation Data Len:\", len(dataset.valid_data))\n",
    "print(\"Test Data Len:\", len(dataset.test_data))"
   ]
  },
  {
   "cell_type": "markdown",
   "metadata": {},
   "source": [
    "### Data Preprocessing"
   ]
  },
  {
   "cell_type": "code",
   "execution_count": 4,
   "metadata": {},
   "outputs": [],
   "source": [
    "NUM_SAMPLES = 50\n",
    "ANGLES_TO_ROTATE = [5, 10, 15, 45, -5, -10, -15, -45]"
   ]
  },
  {
   "cell_type": "code",
   "execution_count": 5,
   "metadata": {},
   "outputs": [
    {
     "name": "stdout",
     "output_type": "stream",
     "text": [
      "Training Data Len: 34200\n",
      "Validation Data Len: 18000\n",
      "Test Data Len: 12600\n"
     ]
    }
   ],
   "source": [
    "from utils.preprocessing import *\n",
    "from functools import partial\n",
    "dataset.apply(apply_mean_centering)\n",
    "dataset.apply(apply_unit_distance_normalization)\n",
    "dataset.apply(partial(spline_interpolate_and_resample, num_samples=NUM_SAMPLES))\n",
    "dataset.expand_many(partial(rotate_digit, degrees=ANGLES_TO_ROTATE))\n",
    "dataset.expand(reverse_digit_sequence)\n",
    "\n",
    "print(\"Training Data Len:\", len(dataset.train_data))\n",
    "print(\"Validation Data Len:\", len(dataset.valid_data))\n",
    "print(\"Test Data Len:\", len(dataset.test_data))"
   ]
  },
  {
   "cell_type": "markdown",
   "metadata": {},
   "source": [
    "### Split Dataset into *Train*, *Valid*, and *Test*"
   ]
  },
  {
   "cell_type": "code",
   "execution_count": 6,
   "metadata": {},
   "outputs": [
    {
     "name": "stdout",
     "output_type": "stream",
     "text": [
      "Training Data Shape: (34200, 50, 2)\n",
      "Training Labels Shape: (34200, 10)\n",
      "Validation Data Shape: (18000, 50, 2)\n",
      "Validation Labels Shape: (18000, 10)\n",
      "Test Data Shape: (12600, 50, 2)\n",
      "Test Labels Shape: (12600, 10)\n"
     ]
    }
   ],
   "source": [
    "import numpy as np\n",
    "from sklearn.model_selection import train_test_split\n",
    "\n",
    "X_train = np.array(dataset.train_data)\n",
    "X_valid = np.array(dataset.valid_data)\n",
    "X_test = np.array(dataset.test_data)\n",
    "\n",
    "# Convert labels to numpy array and OneHot encode them\n",
    "encoder, Y_train, Y_valid, Y_test = dataset.onehot_encode_labels()\n",
    "\n",
    "print(\"Training Data Shape:\", X_train.shape)\n",
    "print(\"Training Labels Shape:\", Y_train.shape)\n",
    "print(\"Validation Data Shape:\", X_valid.shape)\n",
    "print(\"Validation Labels Shape:\", Y_valid.shape)\n",
    "print(\"Test Data Shape:\", X_test.shape)\n",
    "print(\"Test Labels Shape:\", Y_test.shape)"
   ]
  },
  {
   "cell_type": "markdown",
   "metadata": {},
   "source": [
    "----------\n",
    "# Neural Network Setup and Training\n",
    "----------"
   ]
  },
  {
   "cell_type": "markdown",
   "metadata": {},
   "source": [
    "## **Regularized 3x512 GRU**"
   ]
  },
  {
   "cell_type": "markdown",
   "metadata": {},
   "source": [
    "### Parameters"
   ]
  },
  {
   "cell_type": "code",
   "execution_count": 7,
   "metadata": {},
   "outputs": [],
   "source": [
    "PARAM_NUM_EPOCHS = 20\n",
    "PARAM_BATCH_SIZE = 500"
   ]
  },
  {
   "cell_type": "markdown",
   "metadata": {},
   "source": [
    "### Setup Model"
   ]
  },
  {
   "cell_type": "code",
   "execution_count": 9,
   "metadata": {},
   "outputs": [
    {
     "name": "stdout",
     "output_type": "stream",
     "text": [
      "\n",
      "\n",
      "----------\n",
      "\n",
      "Optimizer: <class 'keras.optimizers.Nadam'>\n",
      "Batch Size: 500\n",
      "Number of Epochs: 20\n",
      "\n",
      "_________________________________________________________________\n",
      "Layer (type)                 Output Shape              Param #   \n",
      "=================================================================\n",
      "gru_1 (GRU)                  (None, 50, 512)           791040    \n",
      "_________________________________________________________________\n",
      "dropout_1 (Dropout)          (None, 50, 512)           0         \n",
      "_________________________________________________________________\n",
      "gru_2 (GRU)                  (None, 50, 512)           1575936   \n",
      "_________________________________________________________________\n",
      "dropout_2 (Dropout)          (None, 50, 512)           0         \n",
      "_________________________________________________________________\n",
      "gru_3 (GRU)                  (None, 512)               1575936   \n",
      "_________________________________________________________________\n",
      "dropout_3 (Dropout)          (None, 512)               0         \n",
      "_________________________________________________________________\n",
      "dense_1 (Dense)              (None, 256)               131328    \n",
      "_________________________________________________________________\n",
      "activation_1 (Activation)    (None, 256)               0         \n",
      "_________________________________________________________________\n",
      "dropout_4 (Dropout)          (None, 256)               0         \n",
      "_________________________________________________________________\n",
      "dense_2 (Dense)              (None, 10)                2570      \n",
      "_________________________________________________________________\n",
      "activation_2 (Activation)    (None, 10)                0         \n",
      "=================================================================\n",
      "Total params: 4,076,810\n",
      "Trainable params: 4,076,810\n",
      "Non-trainable params: 0\n",
      "_________________________________________________________________\n",
      "\n",
      "\n",
      "----------\n",
      "\n",
      "\n"
     ]
    }
   ],
   "source": [
    "from models.regularized_3x512_gru import Regularized3x512GRU\n",
    "import os.path\n",
    "\n",
    "mymodel = Regularized3x512GRU(X_train.shape[1:], output_path=os.path.join(\"..\", \"files\"))\n",
    "mymodel.batch_size = PARAM_BATCH_SIZE\n",
    "mymodel.num_epochs = PARAM_NUM_EPOCHS\n",
    "mymodel.initialize()\n",
    "print(mymodel)"
   ]
  },
  {
   "cell_type": "markdown",
   "metadata": {},
   "source": [
    "#### Save Model Summary"
   ]
  },
  {
   "cell_type": "code",
   "execution_count": null,
   "metadata": {},
   "outputs": [],
   "source": [
    "mymodel.save_summary(dataset.get_recorded_operations())\n",
    "mymodel.save_config()"
   ]
  },
  {
   "cell_type": "markdown",
   "metadata": {},
   "source": [
    "### Train Model"
   ]
  },
  {
   "cell_type": "code",
   "execution_count": null,
   "metadata": {
    "scrolled": true
   },
   "outputs": [],
   "source": [
    "mymodel.train(X_train, Y_train, X_valid, Y_valid)"
   ]
  },
  {
   "cell_type": "markdown",
   "metadata": {},
   "source": [
    "### Evaluate Model"
   ]
  },
  {
   "cell_type": "markdown",
   "metadata": {},
   "source": [
    "#### Test Set Accuracy"
   ]
  },
  {
   "cell_type": "code",
   "execution_count": 11,
   "metadata": {},
   "outputs": [
    {
     "name": "stdout",
     "output_type": "stream",
     "text": [
      "12600/12600 [==============================] - 10s 758us/step\n",
      "Test Loss: 0.109, Test Acc: 97.857%\n"
     ]
    }
   ],
   "source": [
    "test_score = tuple(mymodel.model.evaluate(X_test, Y_test))\n",
    "print(\"Test Loss: %.3f, Test Acc: %.3f%%\" % (test_score[0], test_score[1] * 100))"
   ]
  },
  {
   "cell_type": "markdown",
   "metadata": {},
   "source": [
    "#### Recall, Precision, F1_Score on Validation set"
   ]
  },
  {
   "cell_type": "code",
   "execution_count": 12,
   "metadata": {},
   "outputs": [
    {
     "name": "stdout",
     "output_type": "stream",
     "text": [
      "18000/18000 [==============================] - 13s 727us/step\n"
     ]
    },
    {
     "data": {
      "text/html": [
       "<div>\n",
       "<style scoped>\n",
       "    .dataframe tbody tr th:only-of-type {\n",
       "        vertical-align: middle;\n",
       "    }\n",
       "\n",
       "    .dataframe tbody tr th {\n",
       "        vertical-align: top;\n",
       "    }\n",
       "\n",
       "    .dataframe thead th {\n",
       "        text-align: right;\n",
       "    }\n",
       "</style>\n",
       "<table border=\"1\" class=\"dataframe\">\n",
       "  <thead>\n",
       "    <tr style=\"text-align: right;\">\n",
       "      <th></th>\n",
       "      <th>recall</th>\n",
       "      <th>precision</th>\n",
       "      <th>f1 score</th>\n",
       "      <th>#</th>\n",
       "    </tr>\n",
       "  </thead>\n",
       "  <tbody>\n",
       "    <tr>\n",
       "      <th>0</th>\n",
       "      <td>0.987243</td>\n",
       "      <td>0.988889</td>\n",
       "      <td>0.988066</td>\n",
       "      <td>1800.0</td>\n",
       "    </tr>\n",
       "    <tr>\n",
       "      <th>1</th>\n",
       "      <td>0.991912</td>\n",
       "      <td>0.953889</td>\n",
       "      <td>0.972529</td>\n",
       "      <td>1800.0</td>\n",
       "    </tr>\n",
       "    <tr>\n",
       "      <th>2</th>\n",
       "      <td>0.983680</td>\n",
       "      <td>0.971111</td>\n",
       "      <td>0.977355</td>\n",
       "      <td>1800.0</td>\n",
       "    </tr>\n",
       "    <tr>\n",
       "      <th>3</th>\n",
       "      <td>0.981997</td>\n",
       "      <td>1.000000</td>\n",
       "      <td>0.990917</td>\n",
       "      <td>1800.0</td>\n",
       "    </tr>\n",
       "    <tr>\n",
       "      <th>4</th>\n",
       "      <td>0.965312</td>\n",
       "      <td>0.989444</td>\n",
       "      <td>0.977229</td>\n",
       "      <td>1800.0</td>\n",
       "    </tr>\n",
       "    <tr>\n",
       "      <th>5</th>\n",
       "      <td>0.995362</td>\n",
       "      <td>0.953889</td>\n",
       "      <td>0.974184</td>\n",
       "      <td>1800.0</td>\n",
       "    </tr>\n",
       "    <tr>\n",
       "      <th>6</th>\n",
       "      <td>0.988950</td>\n",
       "      <td>0.994444</td>\n",
       "      <td>0.991690</td>\n",
       "      <td>1800.0</td>\n",
       "    </tr>\n",
       "    <tr>\n",
       "      <th>7</th>\n",
       "      <td>0.932248</td>\n",
       "      <td>0.986111</td>\n",
       "      <td>0.958423</td>\n",
       "      <td>1800.0</td>\n",
       "    </tr>\n",
       "    <tr>\n",
       "      <th>8</th>\n",
       "      <td>0.985091</td>\n",
       "      <td>0.991111</td>\n",
       "      <td>0.988092</td>\n",
       "      <td>1800.0</td>\n",
       "    </tr>\n",
       "    <tr>\n",
       "      <th>9</th>\n",
       "      <td>0.979557</td>\n",
       "      <td>0.958333</td>\n",
       "      <td>0.968829</td>\n",
       "      <td>1800.0</td>\n",
       "    </tr>\n",
       "  </tbody>\n",
       "</table>\n",
       "</div>"
      ],
      "text/plain": [
       "     recall  precision  f1 score       #\n",
       "0  0.987243   0.988889  0.988066  1800.0\n",
       "1  0.991912   0.953889  0.972529  1800.0\n",
       "2  0.983680   0.971111  0.977355  1800.0\n",
       "3  0.981997   1.000000  0.990917  1800.0\n",
       "4  0.965312   0.989444  0.977229  1800.0\n",
       "5  0.995362   0.953889  0.974184  1800.0\n",
       "6  0.988950   0.994444  0.991690  1800.0\n",
       "7  0.932248   0.986111  0.958423  1800.0\n",
       "8  0.985091   0.991111  0.988092  1800.0\n",
       "9  0.979557   0.958333  0.968829  1800.0"
      ]
     },
     "execution_count": 12,
     "metadata": {},
     "output_type": "execute_result"
    }
   ],
   "source": [
    "from utils.evaluation import get_evaluation_metrics, get_confusion_matrix\n",
    "\n",
    "Y_predicted_valid = mymodel.model.predict_classes(X_valid, verbose=1)\n",
    "rpf_valid = get_evaluation_metrics(Y_valid, Y_predicted_valid)\n",
    "rpf_valid"
   ]
  },
  {
   "cell_type": "markdown",
   "metadata": {},
   "source": [
    "Average F1 Score for Validation Set"
   ]
  },
  {
   "cell_type": "code",
   "execution_count": 13,
   "metadata": {},
   "outputs": [
    {
     "data": {
      "text/plain": [
       "recall          0.979135\n",
       "precision       0.978722\n",
       "f1 score        0.978731\n",
       "#            1800.000000\n",
       "dtype: float64"
      ]
     },
     "execution_count": 13,
     "metadata": {},
     "output_type": "execute_result"
    }
   ],
   "source": [
    "rpf_valid.mean()"
   ]
  },
  {
   "cell_type": "markdown",
   "metadata": {},
   "source": [
    "#### Recall, Precision, F1_Score on Test set"
   ]
  },
  {
   "cell_type": "code",
   "execution_count": 14,
   "metadata": {},
   "outputs": [
    {
     "name": "stdout",
     "output_type": "stream",
     "text": [
      "12600/12600 [==============================] - 9s 719us/step\n"
     ]
    },
    {
     "data": {
      "text/html": [
       "<div>\n",
       "<style scoped>\n",
       "    .dataframe tbody tr th:only-of-type {\n",
       "        vertical-align: middle;\n",
       "    }\n",
       "\n",
       "    .dataframe tbody tr th {\n",
       "        vertical-align: top;\n",
       "    }\n",
       "\n",
       "    .dataframe thead th {\n",
       "        text-align: right;\n",
       "    }\n",
       "</style>\n",
       "<table border=\"1\" class=\"dataframe\">\n",
       "  <thead>\n",
       "    <tr style=\"text-align: right;\">\n",
       "      <th></th>\n",
       "      <th>recall</th>\n",
       "      <th>precision</th>\n",
       "      <th>f1 score</th>\n",
       "      <th>#</th>\n",
       "    </tr>\n",
       "  </thead>\n",
       "  <tbody>\n",
       "    <tr>\n",
       "      <th>0</th>\n",
       "      <td>0.988255</td>\n",
       "      <td>0.934921</td>\n",
       "      <td>0.960848</td>\n",
       "      <td>1260.0</td>\n",
       "    </tr>\n",
       "    <tr>\n",
       "      <th>1</th>\n",
       "      <td>0.943009</td>\n",
       "      <td>0.984921</td>\n",
       "      <td>0.963509</td>\n",
       "      <td>1260.0</td>\n",
       "    </tr>\n",
       "    <tr>\n",
       "      <th>2</th>\n",
       "      <td>0.974379</td>\n",
       "      <td>0.996032</td>\n",
       "      <td>0.985086</td>\n",
       "      <td>1260.0</td>\n",
       "    </tr>\n",
       "    <tr>\n",
       "      <th>3</th>\n",
       "      <td>0.998381</td>\n",
       "      <td>0.978571</td>\n",
       "      <td>0.988377</td>\n",
       "      <td>1260.0</td>\n",
       "    </tr>\n",
       "    <tr>\n",
       "      <th>4</th>\n",
       "      <td>0.978005</td>\n",
       "      <td>0.988095</td>\n",
       "      <td>0.983024</td>\n",
       "      <td>1260.0</td>\n",
       "    </tr>\n",
       "    <tr>\n",
       "      <th>5</th>\n",
       "      <td>0.996732</td>\n",
       "      <td>0.968254</td>\n",
       "      <td>0.982287</td>\n",
       "      <td>1260.0</td>\n",
       "    </tr>\n",
       "    <tr>\n",
       "      <th>6</th>\n",
       "      <td>0.986443</td>\n",
       "      <td>0.981746</td>\n",
       "      <td>0.984089</td>\n",
       "      <td>1260.0</td>\n",
       "    </tr>\n",
       "    <tr>\n",
       "      <th>7</th>\n",
       "      <td>0.977795</td>\n",
       "      <td>0.978571</td>\n",
       "      <td>0.978183</td>\n",
       "      <td>1260.0</td>\n",
       "    </tr>\n",
       "    <tr>\n",
       "      <th>8</th>\n",
       "      <td>0.977866</td>\n",
       "      <td>0.981746</td>\n",
       "      <td>0.979802</td>\n",
       "      <td>1260.0</td>\n",
       "    </tr>\n",
       "    <tr>\n",
       "      <th>9</th>\n",
       "      <td>0.968266</td>\n",
       "      <td>0.992857</td>\n",
       "      <td>0.980408</td>\n",
       "      <td>1260.0</td>\n",
       "    </tr>\n",
       "  </tbody>\n",
       "</table>\n",
       "</div>"
      ],
      "text/plain": [
       "     recall  precision  f1 score       #\n",
       "0  0.988255   0.934921  0.960848  1260.0\n",
       "1  0.943009   0.984921  0.963509  1260.0\n",
       "2  0.974379   0.996032  0.985086  1260.0\n",
       "3  0.998381   0.978571  0.988377  1260.0\n",
       "4  0.978005   0.988095  0.983024  1260.0\n",
       "5  0.996732   0.968254  0.982287  1260.0\n",
       "6  0.986443   0.981746  0.984089  1260.0\n",
       "7  0.977795   0.978571  0.978183  1260.0\n",
       "8  0.977866   0.981746  0.979802  1260.0\n",
       "9  0.968266   0.992857  0.980408  1260.0"
      ]
     },
     "execution_count": 14,
     "metadata": {},
     "output_type": "execute_result"
    }
   ],
   "source": [
    "from utils.evaluation import get_evaluation_metrics, get_confusion_matrix\n",
    "\n",
    "Y_predicted_test = mymodel.model.predict_classes(X_test, verbose=1)\n",
    "rpf_test = get_evaluation_metrics(Y_test, Y_predicted_test)\n",
    "rpf_test"
   ]
  },
  {
   "cell_type": "markdown",
   "metadata": {},
   "source": [
    "Average F1 Score for Test Set"
   ]
  },
  {
   "cell_type": "code",
   "execution_count": 15,
   "metadata": {},
   "outputs": [
    {
     "data": {
      "text/plain": [
       "recall          0.978913\n",
       "precision       0.978571\n",
       "f1 score        0.978561\n",
       "#            1260.000000\n",
       "dtype: float64"
      ]
     },
     "execution_count": 15,
     "metadata": {},
     "output_type": "execute_result"
    }
   ],
   "source": [
    "rpf_test.mean()"
   ]
  },
  {
   "cell_type": "markdown",
   "metadata": {},
   "source": [
    "##### Increase default plotsize for matplotlib"
   ]
  },
  {
   "cell_type": "code",
   "execution_count": 16,
   "metadata": {},
   "outputs": [],
   "source": [
    "import matplotlib.pyplot as plt\n",
    "plt.rcParams['figure.figsize'] = [15, 10]"
   ]
  },
  {
   "cell_type": "markdown",
   "metadata": {},
   "source": [
    "#### Plot Validation Set Confusion Matrix"
   ]
  },
  {
   "cell_type": "code",
   "execution_count": 17,
   "metadata": {},
   "outputs": [
    {
     "data": {
      "image/png": "[encoded data removed]",
      "text/plain": [
       "<Figure size 720x720 with 2 Axes>"
      ]
     },
     "metadata": {},
     "output_type": "display_data"
    }
   ],
   "source": [
    "from utils.evaluation import get_confusion_matrix\n",
    "# Confusion Matrix\n",
    "confmat = get_confusion_matrix(Y_valid, Y_predicted_valid, plot=True)"
   ]
  },
  {
   "cell_type": "markdown",
   "metadata": {},
   "source": [
    "#### Plot Test Set Confusion Matrix"
   ]
  },
  {
   "cell_type": "code",
   "execution_count": 18,
   "metadata": {},
   "outputs": [
    {
     "data": {
      "image/png": "[encoded data removed]",
      "text/plain": [
       "<Figure size 720x720 with 2 Axes>"
      ]
     },
     "metadata": {},
     "output_type": "display_data"
    }
   ],
   "source": [
    "from utils.evaluation import get_confusion_matrix\n",
    "# Confusion Matrix\n",
    "confmat = get_confusion_matrix(Y_test, Y_predicted_test, plot=True)"
   ]
  },
  {
   "cell_type": "markdown",
   "metadata": {},
   "source": [
    "# Backup Code\n",
    "-----"
   ]
  },
  {
   "cell_type": "code",
   "execution_count": 10,
   "metadata": {},
   "outputs": [],
   "source": [
    "from keras.models import load_model\n",
    "mymodel.model = load_model(\"../files/checkpoints/1525696834.4091375/unregularized_512_gru-30-0.97.hdf5\")"
   ]
  },
  {
   "cell_type": "code",
   "execution_count": null,
   "metadata": {},
   "outputs": [],
   "source": []
  }
 ],
 "metadata": {
  "kernelspec": {
   "display_name": "Python 3",
   "language": "python",
   "name": "python3"
  },
  "language_info": {
   "codemirror_mode": {
    "name": "ipython",
    "version": 3
   },
   "file_extension": ".py",
   "mimetype": "text/x-python",
   "name": "python",
   "nbconvert_exporter": "python",
   "pygments_lexer": "ipython3",
   "version": "3.6.4"
  }
 },
 "nbformat": 4,
 "nbformat_minor": 2
}

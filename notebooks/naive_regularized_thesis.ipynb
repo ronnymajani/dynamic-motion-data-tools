{
 "cells": [
  {
   "cell_type": "code",
   "execution_count": null,
   "metadata": {},
   "outputs": [],
   "source": [
    "# allow the notebook to access the parent directory so we can import the other modules\n",
    "# https://stackoverflow.com/a/35273613\n",
    "import os\n",
    "import sys\n",
    "nb_dir = os.path.split(os.getcwd())[0]\n",
    "if nb_dir not in sys.path:\n",
    "    sys.path.append(nb_dir)"
   ]
  },
  {
   "cell_type": "markdown",
   "metadata": {},
   "source": [
    "# Data Preparation\n",
    "-----"
   ]
  },
  {
   "cell_type": "markdown",
   "metadata": {},
   "source": [
    "### Constants and Folder Paths"
   ]
  },
  {
   "cell_type": "code",
   "execution_count": 136,
   "metadata": {},
   "outputs": [],
   "source": [
    "dataset_folder_path = os.path.join(\"files\", \"dataset\")\n",
    "NUM_SAMPLES = 50"
   ]
  },
  {
   "cell_type": "markdown",
   "metadata": {},
   "source": [
    "### Load Data and Split into *Test*, *Train/Valid*"
   ]
  },
  {
   "cell_type": "code",
   "execution_count": 145,
   "metadata": {},
   "outputs": [],
   "source": [
    "from data.DataSet import DataSet\n",
    "dataset = DataSet()\n",
    "dataset.load(dataset_folder_path, test_set_percentage=0.5)"
   ]
  },
  {
   "cell_type": "code",
   "execution_count": 146,
   "metadata": {},
   "outputs": [
    {
     "name": "stdout",
     "output_type": "stream",
     "text": [
      "1800\n",
      "1800\n"
     ]
    }
   ],
   "source": [
    "print(len(dataset.train_data))\n",
    "print(len(dataset.test_data))"
   ]
  },
  {
   "cell_type": "markdown",
   "metadata": {},
   "source": [
    "### Data Preprocessing"
   ]
  },
  {
   "cell_type": "code",
   "execution_count": 147,
   "metadata": {},
   "outputs": [],
   "source": [
    "from utils.preprocessing import *\n",
    "from functools import partial\n",
    "dataset.apply(apply_mean_centering)\n",
    "dataset.apply(apply_unit_distance_normalization)\n",
    "#dataset.apply(partial(normalize_pressure_value, max_pressure_val=512))\n",
    "dataset.apply(partial(spline_interpolate_and_resample, num_samples=NUM_SAMPLES))\n",
    "dataset.expand(reverse_digit_sequence)\n",
    "# dataset.apply(lambda digit: convert_xy_to_derivative(digit, normalize=False))\n",
    "#dataset.apply(partial(convert_xy_to_derivative, normalize=True))"
   ]
  },
  {
   "cell_type": "code",
   "execution_count": 148,
   "metadata": {},
   "outputs": [
    {
     "name": "stdout",
     "output_type": "stream",
     "text": [
      "3600\n",
      "3600\n"
     ]
    }
   ],
   "source": [
    "print(len(dataset.train_data))\n",
    "print(len(dataset.test_data))"
   ]
  },
  {
   "cell_type": "markdown",
   "metadata": {},
   "source": [
    "### Split Dataset into *Train*, *Valid*, and *Test*"
   ]
  },
  {
   "cell_type": "code",
   "execution_count": 149,
   "metadata": {},
   "outputs": [],
   "source": [
    "import numpy as np\n",
    "from sklearn.model_selection import train_test_split\n",
    "\n",
    "X_train_valid = np.array(dataset.train_data)\n",
    "X_test = np.array(dataset.test_data)\n",
    "# Convert labels to numpy array and OneHot encode them\n",
    "encoder, train_valid_labels, Y_test = dataset.get_labels_as_numpy(onehot=True)\n",
    "train_valid_labels = train_valid_labels.astype('float32').todense()\n",
    "Y_test = Y_test.astype('float32').todense()\n",
    "# Split Data\n",
    "X_train, X_valid, Y_train, Y_valid = train_test_split(X_train_valid, train_valid_labels, shuffle=True, stratify=train_valid_labels, random_state=42)"
   ]
  },
  {
   "cell_type": "markdown",
   "metadata": {},
   "source": [
    "----------\n",
    "# Neural Network Setup and Training\n",
    "----------"
   ]
  },
  {
   "cell_type": "markdown",
   "metadata": {},
   "source": [
    "## **Regularized Naive GRU**"
   ]
  },
  {
   "cell_type": "markdown",
   "metadata": {},
   "source": [
    "### Parameters"
   ]
  },
  {
   "cell_type": "code",
   "execution_count": 150,
   "metadata": {},
   "outputs": [],
   "source": [
    "PARAM_NUM_EPOCHS = 30\n",
    "PARAM_BATCH_SIZE = 300"
   ]
  },
  {
   "cell_type": "markdown",
   "metadata": {},
   "source": [
    "### Setup Model"
   ]
  },
  {
   "cell_type": "code",
   "execution_count": 151,
   "metadata": {},
   "outputs": [
    {
     "name": "stdout",
     "output_type": "stream",
     "text": [
      "\n",
      "\n",
      "----------\n",
      "\n",
      "Optimizer: <class 'keras.optimizers.Nadam'>\n",
      "Batch Size: 300\n",
      "Number of Epochs: 30\n",
      "\n",
      "_________________________________________________________________\n",
      "Layer (type)                 Output Shape              Param #   \n",
      "=================================================================\n",
      "gru_15 (GRU)                 (None, 50, 256)           198912    \n",
      "_________________________________________________________________\n",
      "dropout_15 (Dropout)         (None, 50, 256)           0         \n",
      "_________________________________________________________________\n",
      "gru_16 (GRU)                 (None, 256)               393984    \n",
      "_________________________________________________________________\n",
      "dropout_16 (Dropout)         (None, 256)               0         \n",
      "_________________________________________________________________\n",
      "dense_8 (Dense)              (None, 10)                2570      \n",
      "_________________________________________________________________\n",
      "activation_8 (Activation)    (None, 10)                0         \n",
      "=================================================================\n",
      "Total params: 595,466\n",
      "Trainable params: 595,466\n",
      "Non-trainable params: 0\n",
      "_________________________________________________________________\n",
      "\n",
      "\n",
      "----------\n",
      "\n",
      "\n"
     ]
    }
   ],
   "source": [
    "from models.regularized_gru import NaiveRegularizedGRU\n",
    "\n",
    "mymodel = NaiveRegularizedGRU(X_train.shape[1:])\n",
    "mymodel.batch_size = PARAM_BATCH_SIZE\n",
    "mymodel.num_epochs = PARAM_NUM_EPOCHS\n",
    "mymodel.initialize()\n",
    "print(mymodel)"
   ]
  },
  {
   "cell_type": "markdown",
   "metadata": {},
   "source": [
    "#### Save Model Summary"
   ]
  },
  {
   "cell_type": "code",
   "execution_count": 152,
   "metadata": {},
   "outputs": [],
   "source": [
    "mymodel.save_summary(dataset.get_recorded_operations())\n",
    "mymodel.save_config()"
   ]
  },
  {
   "cell_type": "markdown",
   "metadata": {},
   "source": [
    "### Train Model"
   ]
  },
  {
   "cell_type": "code",
   "execution_count": 153,
   "metadata": {},
   "outputs": [
    {
     "name": "stdout",
     "output_type": "stream",
     "text": [
      "Train on 2700 samples, validate on 900 samples\n",
      "Epoch 1/30\n",
      "2700/2700 [==============================] - 1s 494us/step - loss: 2.1803 - categorical_accuracy: 0.1863 - val_loss: 2.1012 - val_categorical_accuracy: 0.1911\n",
      "\n",
      "Epoch 00001: val_categorical_accuracy improved from -inf to 0.19111, saving model to checkpoints/1524406933.4725032/naive_regularized_gru-01-0.19.hdf5\n",
      "Epoch 2/30\n",
      "2700/2700 [==============================] - 1s 283us/step - loss: 2.0356 - categorical_accuracy: 0.2422 - val_loss: 1.8963 - val_categorical_accuracy: 0.2844\n",
      "\n",
      "Epoch 00002: val_categorical_accuracy improved from 0.19111 to 0.28444, saving model to checkpoints/1524406933.4725032/naive_regularized_gru-02-0.28.hdf5\n",
      "Epoch 3/30\n",
      "2700/2700 [==============================] - 1s 284us/step - loss: 1.9089 - categorical_accuracy: 0.2985 - val_loss: 1.5668 - val_categorical_accuracy: 0.4489\n",
      "\n",
      "Epoch 00003: val_categorical_accuracy improved from 0.28444 to 0.44889, saving model to checkpoints/1524406933.4725032/naive_regularized_gru-03-0.45.hdf5\n",
      "Epoch 4/30\n",
      "2700/2700 [==============================] - 1s 283us/step - loss: 1.5094 - categorical_accuracy: 0.4633 - val_loss: 1.3060 - val_categorical_accuracy: 0.5678\n",
      "\n",
      "Epoch 00004: val_categorical_accuracy improved from 0.44889 to 0.56778, saving model to checkpoints/1524406933.4725032/naive_regularized_gru-04-0.57.hdf5\n",
      "Epoch 5/30\n",
      "2700/2700 [==============================] - 1s 291us/step - loss: 1.1662 - categorical_accuracy: 0.5956 - val_loss: 1.1464 - val_categorical_accuracy: 0.5789\n",
      "\n",
      "Epoch 00005: val_categorical_accuracy improved from 0.56778 to 0.57889, saving model to checkpoints/1524406933.4725032/naive_regularized_gru-05-0.58.hdf5\n",
      "Epoch 6/30\n",
      "2700/2700 [==============================] - 1s 292us/step - loss: 0.9108 - categorical_accuracy: 0.6833 - val_loss: 0.5888 - val_categorical_accuracy: 0.8322\n",
      "\n",
      "Epoch 00006: val_categorical_accuracy improved from 0.57889 to 0.83222, saving model to checkpoints/1524406933.4725032/naive_regularized_gru-06-0.83.hdf5\n",
      "Epoch 7/30\n",
      "2700/2700 [==============================] - 1s 289us/step - loss: 0.5560 - categorical_accuracy: 0.8133 - val_loss: 0.4276 - val_categorical_accuracy: 0.8678\n",
      "\n",
      "Epoch 00007: val_categorical_accuracy improved from 0.83222 to 0.86778, saving model to checkpoints/1524406933.4725032/naive_regularized_gru-07-0.87.hdf5\n",
      "Epoch 8/30\n",
      "2700/2700 [==============================] - 1s 294us/step - loss: 0.5177 - categorical_accuracy: 0.8319 - val_loss: 0.3228 - val_categorical_accuracy: 0.9111\n",
      "\n",
      "Epoch 00008: val_categorical_accuracy improved from 0.86778 to 0.91111, saving model to checkpoints/1524406933.4725032/naive_regularized_gru-08-0.91.hdf5\n",
      "Epoch 9/30\n",
      "2700/2700 [==============================] - 1s 288us/step - loss: 0.2794 - categorical_accuracy: 0.9167 - val_loss: 0.2611 - val_categorical_accuracy: 0.9289\n",
      "\n",
      "Epoch 00009: val_categorical_accuracy improved from 0.91111 to 0.92889, saving model to checkpoints/1524406933.4725032/naive_regularized_gru-09-0.93.hdf5\n",
      "Epoch 10/30\n",
      "2700/2700 [==============================] - 1s 295us/step - loss: 0.2038 - categorical_accuracy: 0.9396 - val_loss: 0.2299 - val_categorical_accuracy: 0.9311\n",
      "\n",
      "Epoch 00010: val_categorical_accuracy improved from 0.92889 to 0.93111, saving model to checkpoints/1524406933.4725032/naive_regularized_gru-10-0.93.hdf5\n",
      "Epoch 11/30\n",
      "2700/2700 [==============================] - 1s 291us/step - loss: 0.1635 - categorical_accuracy: 0.9511 - val_loss: 0.1851 - val_categorical_accuracy: 0.9500\n",
      "\n",
      "Epoch 00011: val_categorical_accuracy improved from 0.93111 to 0.95000, saving model to checkpoints/1524406933.4725032/naive_regularized_gru-11-0.95.hdf5\n",
      "Epoch 12/30\n",
      "2700/2700 [==============================] - 1s 293us/step - loss: 0.3425 - categorical_accuracy: 0.8911 - val_loss: 0.3892 - val_categorical_accuracy: 0.8711\n",
      "\n",
      "Epoch 00012: val_categorical_accuracy did not improve\n",
      "Epoch 13/30\n",
      "2700/2700 [==============================] - 1s 289us/step - loss: 0.1409 - categorical_accuracy: 0.9615 - val_loss: 0.1672 - val_categorical_accuracy: 0.9633\n",
      "\n",
      "Epoch 00013: val_categorical_accuracy improved from 0.95000 to 0.96333, saving model to checkpoints/1524406933.4725032/naive_regularized_gru-13-0.96.hdf5\n",
      "Epoch 14/30\n",
      "2700/2700 [==============================] - 1s 289us/step - loss: 0.0864 - categorical_accuracy: 0.9796 - val_loss: 0.1394 - val_categorical_accuracy: 0.9722\n",
      "\n",
      "Epoch 00014: val_categorical_accuracy improved from 0.96333 to 0.97222, saving model to checkpoints/1524406933.4725032/naive_regularized_gru-14-0.97.hdf5\n",
      "Epoch 15/30\n",
      "2700/2700 [==============================] - 1s 292us/step - loss: 0.0601 - categorical_accuracy: 0.9881 - val_loss: 0.1274 - val_categorical_accuracy: 0.9711\n",
      "\n",
      "Epoch 00015: val_categorical_accuracy did not improve\n",
      "Epoch 16/30\n",
      "2700/2700 [==============================] - 1s 291us/step - loss: 0.0512 - categorical_accuracy: 0.9904 - val_loss: 0.1235 - val_categorical_accuracy: 0.9722\n",
      "\n",
      "Epoch 00016: val_categorical_accuracy did not improve\n",
      "Epoch 17/30\n",
      "2700/2700 [==============================] - 1s 293us/step - loss: 0.0436 - categorical_accuracy: 0.9919 - val_loss: 0.1334 - val_categorical_accuracy: 0.9700\n",
      "\n",
      "Epoch 00017: val_categorical_accuracy did not improve\n",
      "Epoch 18/30\n",
      "2700/2700 [==============================] - 1s 297us/step - loss: 0.0753 - categorical_accuracy: 0.9804 - val_loss: 0.4058 - val_categorical_accuracy: 0.9011\n",
      "\n",
      "Epoch 00018: val_categorical_accuracy did not improve\n",
      "Epoch 19/30\n",
      "2700/2700 [==============================] - 1s 292us/step - loss: 0.9798 - categorical_accuracy: 0.7207 - val_loss: 0.6189 - val_categorical_accuracy: 0.8178\n",
      "\n",
      "Epoch 00019: val_categorical_accuracy did not improve\n",
      "Epoch 20/30\n",
      "2700/2700 [==============================] - 1s 332us/step - loss: 0.2476 - categorical_accuracy: 0.9293 - val_loss: 0.1759 - val_categorical_accuracy: 0.9600\n",
      "\n",
      "Epoch 00020: val_categorical_accuracy did not improve\n",
      "Epoch 21/30\n",
      "2700/2700 [==============================] - 1s 332us/step - loss: 0.1164 - categorical_accuracy: 0.9700 - val_loss: 0.1472 - val_categorical_accuracy: 0.9689\n",
      "\n",
      "Epoch 00021: val_categorical_accuracy did not improve\n",
      "Epoch 22/30\n",
      "2700/2700 [==============================] - 1s 334us/step - loss: 0.0748 - categorical_accuracy: 0.9830 - val_loss: 0.1360 - val_categorical_accuracy: 0.9678\n",
      "\n",
      "Epoch 00022: val_categorical_accuracy did not improve\n",
      "Epoch 23/30\n",
      "2700/2700 [==============================] - 1s 311us/step - loss: 0.0539 - categorical_accuracy: 0.9889 - val_loss: 0.1305 - val_categorical_accuracy: 0.9722\n",
      "\n",
      "Epoch 00023: val_categorical_accuracy did not improve\n",
      "Epoch 24/30\n",
      "2700/2700 [==============================] - 1s 314us/step - loss: 0.0410 - categorical_accuracy: 0.9907 - val_loss: 0.1367 - val_categorical_accuracy: 0.9700\n",
      "\n",
      "Epoch 00024: val_categorical_accuracy did not improve\n",
      "Epoch 25/30\n",
      "2700/2700 [==============================] - 1s 311us/step - loss: 0.0328 - categorical_accuracy: 0.9937 - val_loss: 0.1310 - val_categorical_accuracy: 0.9733\n",
      "\n",
      "Epoch 00025: val_categorical_accuracy improved from 0.97222 to 0.97333, saving model to checkpoints/1524406933.4725032/naive_regularized_gru-25-0.97.hdf5\n",
      "Epoch 26/30\n",
      "2700/2700 [==============================] - 1s 333us/step - loss: 0.0248 - categorical_accuracy: 0.9967 - val_loss: 0.1169 - val_categorical_accuracy: 0.9756\n",
      "\n",
      "Epoch 00026: val_categorical_accuracy improved from 0.97333 to 0.97556, saving model to checkpoints/1524406933.4725032/naive_regularized_gru-26-0.98.hdf5\n",
      "Epoch 27/30\n",
      "2700/2700 [==============================] - 1s 322us/step - loss: 0.0224 - categorical_accuracy: 0.9963 - val_loss: 0.1167 - val_categorical_accuracy: 0.9767\n",
      "\n",
      "Epoch 00027: val_categorical_accuracy improved from 0.97556 to 0.97667, saving model to checkpoints/1524406933.4725032/naive_regularized_gru-27-0.98.hdf5\n",
      "Epoch 28/30\n",
      "2700/2700 [==============================] - 1s 308us/step - loss: 0.0221 - categorical_accuracy: 0.9970 - val_loss: 0.1223 - val_categorical_accuracy: 0.9767\n",
      "\n",
      "Epoch 00028: val_categorical_accuracy improved from 0.97667 to 0.97667, saving model to checkpoints/1524406933.4725032/naive_regularized_gru-28-0.98.hdf5\n",
      "Epoch 29/30\n",
      "2700/2700 [==============================] - 1s 316us/step - loss: 0.0181 - categorical_accuracy: 0.9970 - val_loss: 0.1169 - val_categorical_accuracy: 0.9756\n",
      "\n",
      "Epoch 00029: val_categorical_accuracy did not improve\n",
      "Epoch 30/30\n",
      "2700/2700 [==============================] - 1s 314us/step - loss: 0.0181 - categorical_accuracy: 0.9963 - val_loss: 0.1139 - val_categorical_accuracy: 0.9733\n",
      "\n",
      "Epoch 00030: val_categorical_accuracy did not improve\n"
     ]
    }
   ],
   "source": [
    "mymodel.train(X_train, Y_train, X_valid, Y_valid)"
   ]
  },
  {
   "cell_type": "markdown",
   "metadata": {},
   "source": [
    "### Evaluate Model"
   ]
  },
  {
   "cell_type": "markdown",
   "metadata": {},
   "source": [
    "#### Test Set Accuracy"
   ]
  },
  {
   "cell_type": "code",
   "execution_count": 154,
   "metadata": {},
   "outputs": [
    {
     "name": "stdout",
     "output_type": "stream",
     "text": [
      "3600/3600 [==============================] - 2s 490us/step\n",
      "Test Loss: 0.294, Test Acc: 93.056%\n"
     ]
    }
   ],
   "source": [
    "test_score = tuple(mymodel.model.evaluate(X_test, Y_test))\n",
    "print(\"Test Loss: %.3f, Test Acc: %.3f%%\" % (test_score[0], test_score[1] * 100))"
   ]
  },
  {
   "cell_type": "markdown",
   "metadata": {},
   "source": [
    "#### Recall, Precision, F1_Score on Validation set"
   ]
  },
  {
   "cell_type": "code",
   "execution_count": 155,
   "metadata": {},
   "outputs": [
    {
     "name": "stdout",
     "output_type": "stream",
     "text": [
      "900/900 [==============================] - 1s 947us/step\n"
     ]
    },
    {
     "data": {
      "text/html": [
       "<div>\n",
       "<style scoped>\n",
       "    .dataframe tbody tr th:only-of-type {\n",
       "        vertical-align: middle;\n",
       "    }\n",
       "\n",
       "    .dataframe tbody tr th {\n",
       "        vertical-align: top;\n",
       "    }\n",
       "\n",
       "    .dataframe thead th {\n",
       "        text-align: right;\n",
       "    }\n",
       "</style>\n",
       "<table border=\"1\" class=\"dataframe\">\n",
       "  <thead>\n",
       "    <tr style=\"text-align: right;\">\n",
       "      <th></th>\n",
       "      <th>recall</th>\n",
       "      <th>precision</th>\n",
       "      <th>f1 score</th>\n",
       "      <th>#</th>\n",
       "    </tr>\n",
       "  </thead>\n",
       "  <tbody>\n",
       "    <tr>\n",
       "      <th>0</th>\n",
       "      <td>0.989011</td>\n",
       "      <td>1.000000</td>\n",
       "      <td>0.994475</td>\n",
       "      <td>90.0</td>\n",
       "    </tr>\n",
       "    <tr>\n",
       "      <th>1</th>\n",
       "      <td>0.977273</td>\n",
       "      <td>0.955556</td>\n",
       "      <td>0.966292</td>\n",
       "      <td>90.0</td>\n",
       "    </tr>\n",
       "    <tr>\n",
       "      <th>2</th>\n",
       "      <td>0.946237</td>\n",
       "      <td>0.977778</td>\n",
       "      <td>0.961749</td>\n",
       "      <td>90.0</td>\n",
       "    </tr>\n",
       "    <tr>\n",
       "      <th>3</th>\n",
       "      <td>1.000000</td>\n",
       "      <td>1.000000</td>\n",
       "      <td>1.000000</td>\n",
       "      <td>90.0</td>\n",
       "    </tr>\n",
       "    <tr>\n",
       "      <th>4</th>\n",
       "      <td>0.965909</td>\n",
       "      <td>0.944444</td>\n",
       "      <td>0.955056</td>\n",
       "      <td>90.0</td>\n",
       "    </tr>\n",
       "    <tr>\n",
       "      <th>5</th>\n",
       "      <td>0.965909</td>\n",
       "      <td>0.944444</td>\n",
       "      <td>0.955056</td>\n",
       "      <td>90.0</td>\n",
       "    </tr>\n",
       "    <tr>\n",
       "      <th>6</th>\n",
       "      <td>0.977528</td>\n",
       "      <td>0.966667</td>\n",
       "      <td>0.972067</td>\n",
       "      <td>90.0</td>\n",
       "    </tr>\n",
       "    <tr>\n",
       "      <th>7</th>\n",
       "      <td>1.000000</td>\n",
       "      <td>0.966667</td>\n",
       "      <td>0.983051</td>\n",
       "      <td>90.0</td>\n",
       "    </tr>\n",
       "    <tr>\n",
       "      <th>8</th>\n",
       "      <td>0.967391</td>\n",
       "      <td>0.988889</td>\n",
       "      <td>0.978022</td>\n",
       "      <td>90.0</td>\n",
       "    </tr>\n",
       "    <tr>\n",
       "      <th>9</th>\n",
       "      <td>0.946809</td>\n",
       "      <td>0.988889</td>\n",
       "      <td>0.967391</td>\n",
       "      <td>90.0</td>\n",
       "    </tr>\n",
       "  </tbody>\n",
       "</table>\n",
       "</div>"
      ],
      "text/plain": [
       "     recall  precision  f1 score     #\n",
       "0  0.989011   1.000000  0.994475  90.0\n",
       "1  0.977273   0.955556  0.966292  90.0\n",
       "2  0.946237   0.977778  0.961749  90.0\n",
       "3  1.000000   1.000000  1.000000  90.0\n",
       "4  0.965909   0.944444  0.955056  90.0\n",
       "5  0.965909   0.944444  0.955056  90.0\n",
       "6  0.977528   0.966667  0.972067  90.0\n",
       "7  1.000000   0.966667  0.983051  90.0\n",
       "8  0.967391   0.988889  0.978022  90.0\n",
       "9  0.946809   0.988889  0.967391  90.0"
      ]
     },
     "execution_count": 155,
     "metadata": {},
     "output_type": "execute_result"
    }
   ],
   "source": [
    "from utils.evaluation import get_evaluation_metrics, get_confusion_matrix\n",
    "\n",
    "Y_predicted_valid = mymodel.model.predict_classes(X_valid, verbose=1)\n",
    "rpf_valid = get_evaluation_metrics(Y_valid, Y_predicted_valid)\n",
    "rpf_valid"
   ]
  },
  {
   "cell_type": "markdown",
   "metadata": {},
   "source": [
    "Average F1 Score for Validation Set"
   ]
  },
  {
   "cell_type": "code",
   "execution_count": 156,
   "metadata": {},
   "outputs": [
    {
     "data": {
      "text/plain": [
       "recall        0.973607\n",
       "precision     0.973333\n",
       "f1 score      0.973316\n",
       "#            90.000000\n",
       "dtype: float64"
      ]
     },
     "execution_count": 156,
     "metadata": {},
     "output_type": "execute_result"
    }
   ],
   "source": [
    "rpf_valid.mean()"
   ]
  },
  {
   "cell_type": "markdown",
   "metadata": {},
   "source": [
    "#### Recall, Precision, F1_Score on Test set"
   ]
  },
  {
   "cell_type": "code",
   "execution_count": 157,
   "metadata": {},
   "outputs": [
    {
     "name": "stdout",
     "output_type": "stream",
     "text": [
      "3600/3600 [==============================] - 2s 481us/step\n"
     ]
    },
    {
     "data": {
      "text/html": [
       "<div>\n",
       "<style scoped>\n",
       "    .dataframe tbody tr th:only-of-type {\n",
       "        vertical-align: middle;\n",
       "    }\n",
       "\n",
       "    .dataframe tbody tr th {\n",
       "        vertical-align: top;\n",
       "    }\n",
       "\n",
       "    .dataframe thead th {\n",
       "        text-align: right;\n",
       "    }\n",
       "</style>\n",
       "<table border=\"1\" class=\"dataframe\">\n",
       "  <thead>\n",
       "    <tr style=\"text-align: right;\">\n",
       "      <th></th>\n",
       "      <th>recall</th>\n",
       "      <th>precision</th>\n",
       "      <th>f1 score</th>\n",
       "      <th>#</th>\n",
       "    </tr>\n",
       "  </thead>\n",
       "  <tbody>\n",
       "    <tr>\n",
       "      <th>0</th>\n",
       "      <td>0.908377</td>\n",
       "      <td>0.963889</td>\n",
       "      <td>0.935310</td>\n",
       "      <td>360.0</td>\n",
       "    </tr>\n",
       "    <tr>\n",
       "      <th>1</th>\n",
       "      <td>0.963483</td>\n",
       "      <td>0.952778</td>\n",
       "      <td>0.958101</td>\n",
       "      <td>360.0</td>\n",
       "    </tr>\n",
       "    <tr>\n",
       "      <th>2</th>\n",
       "      <td>0.928571</td>\n",
       "      <td>0.975000</td>\n",
       "      <td>0.951220</td>\n",
       "      <td>360.0</td>\n",
       "    </tr>\n",
       "    <tr>\n",
       "      <th>3</th>\n",
       "      <td>0.945504</td>\n",
       "      <td>0.963889</td>\n",
       "      <td>0.954608</td>\n",
       "      <td>360.0</td>\n",
       "    </tr>\n",
       "    <tr>\n",
       "      <th>4</th>\n",
       "      <td>0.955357</td>\n",
       "      <td>0.891667</td>\n",
       "      <td>0.922414</td>\n",
       "      <td>360.0</td>\n",
       "    </tr>\n",
       "    <tr>\n",
       "      <th>5</th>\n",
       "      <td>0.846154</td>\n",
       "      <td>0.916667</td>\n",
       "      <td>0.880000</td>\n",
       "      <td>360.0</td>\n",
       "    </tr>\n",
       "    <tr>\n",
       "      <th>6</th>\n",
       "      <td>0.965318</td>\n",
       "      <td>0.927778</td>\n",
       "      <td>0.946176</td>\n",
       "      <td>360.0</td>\n",
       "    </tr>\n",
       "    <tr>\n",
       "      <th>7</th>\n",
       "      <td>0.941828</td>\n",
       "      <td>0.944444</td>\n",
       "      <td>0.943135</td>\n",
       "      <td>360.0</td>\n",
       "    </tr>\n",
       "    <tr>\n",
       "      <th>8</th>\n",
       "      <td>0.927326</td>\n",
       "      <td>0.886111</td>\n",
       "      <td>0.906250</td>\n",
       "      <td>360.0</td>\n",
       "    </tr>\n",
       "    <tr>\n",
       "      <th>9</th>\n",
       "      <td>0.935294</td>\n",
       "      <td>0.883333</td>\n",
       "      <td>0.908571</td>\n",
       "      <td>360.0</td>\n",
       "    </tr>\n",
       "  </tbody>\n",
       "</table>\n",
       "</div>"
      ],
      "text/plain": [
       "     recall  precision  f1 score      #\n",
       "0  0.908377   0.963889  0.935310  360.0\n",
       "1  0.963483   0.952778  0.958101  360.0\n",
       "2  0.928571   0.975000  0.951220  360.0\n",
       "3  0.945504   0.963889  0.954608  360.0\n",
       "4  0.955357   0.891667  0.922414  360.0\n",
       "5  0.846154   0.916667  0.880000  360.0\n",
       "6  0.965318   0.927778  0.946176  360.0\n",
       "7  0.941828   0.944444  0.943135  360.0\n",
       "8  0.927326   0.886111  0.906250  360.0\n",
       "9  0.935294   0.883333  0.908571  360.0"
      ]
     },
     "execution_count": 157,
     "metadata": {},
     "output_type": "execute_result"
    }
   ],
   "source": [
    "from utils.evaluation import get_evaluation_metrics, get_confusion_matrix\n",
    "\n",
    "Y_predicted_test = mymodel.model.predict_classes(X_test, verbose=1)\n",
    "rpf_test = get_evaluation_metrics(Y_test, Y_predicted_test)\n",
    "rpf_test"
   ]
  },
  {
   "cell_type": "markdown",
   "metadata": {},
   "source": [
    "Average F1 Score for Test Set"
   ]
  },
  {
   "cell_type": "code",
   "execution_count": 158,
   "metadata": {},
   "outputs": [
    {
     "data": {
      "text/plain": [
       "recall         0.931721\n",
       "precision      0.930556\n",
       "f1 score       0.930578\n",
       "#            360.000000\n",
       "dtype: float64"
      ]
     },
     "execution_count": 158,
     "metadata": {},
     "output_type": "execute_result"
    }
   ],
   "source": [
    "rpf_test.mean()"
   ]
  },
  {
   "cell_type": "markdown",
   "metadata": {},
   "source": [
    "##### Increase default plotsize for matplotlib"
   ]
  },
  {
   "cell_type": "code",
   "execution_count": 159,
   "metadata": {},
   "outputs": [],
   "source": [
    "import matplotlib.pyplot as plt\n",
    "plt.rcParams['figure.figsize'] = [15, 10]"
   ]
  },
  {
   "cell_type": "markdown",
   "metadata": {},
   "source": [
    "#### Plot Validation Set Confusion Matrix"
   ]
  },
  {
   "cell_type": "code",
   "execution_count": 160,
   "metadata": {},
   "outputs": [
    {
     "data": {
      "image/png": "[encoded data removed]",
      "text/plain": [
       "<Figure size 720x720 with 2 Axes>"
      ]
     },
     "metadata": {},
     "output_type": "display_data"
    }
   ],
   "source": [
    "from utils.evaluation import get_confusion_matrix\n",
    "# Confusion Matrix\n",
    "confmat = get_confusion_matrix(Y_valid, Y_predicted_valid, plot=True)"
   ]
  },
  {
   "cell_type": "markdown",
   "metadata": {},
   "source": [
    "#### Plot Test Set Confusion Matrix"
   ]
  },
  {
   "cell_type": "code",
   "execution_count": 161,
   "metadata": {},
   "outputs": [
    {
     "data": {
      "image/png": "[encoded data removed]",
      "text/plain": [
       "<Figure size 720x720 with 2 Axes>"
      ]
     },
     "metadata": {},
     "output_type": "display_data"
    }
   ],
   "source": [
    "from utils.evaluation import get_confusion_matrix\n",
    "# Confusion Matrix\n",
    "confmat = get_confusion_matrix(Y_test, Y_predicted_test, plot=True)"
   ]
  },
  {
   "cell_type": "markdown",
   "metadata": {},
   "source": [
    "# Backup Code\n",
    "-----"
   ]
  },
  {
   "cell_type": "code",
   "execution_count": 11,
   "metadata": {},
   "outputs": [],
   "source": [
    "from keras.models import load_model\n",
    "mymodel.model = load_model(\"checkpoints/1523369406.7123575/naive_overfit_gru-30-0.97.hdf5\")"
   ]
  },
  {
   "cell_type": "code",
   "execution_count": null,
   "metadata": {},
   "outputs": [],
   "source": []
  }
 ],
 "metadata": {
  "kernelspec": {
   "display_name": "Python 3",
   "language": "python",
   "name": "python3"
  },
  "language_info": {
   "codemirror_mode": {
    "name": "ipython",
    "version": 3
   },
   "file_extension": ".py",
   "mimetype": "text/x-python",
   "name": "python",
   "nbconvert_exporter": "python",
   "pygments_lexer": "ipython3",
   "version": "3.6.4"
  }
 },
 "nbformat": 4,
 "nbformat_minor": 2
}

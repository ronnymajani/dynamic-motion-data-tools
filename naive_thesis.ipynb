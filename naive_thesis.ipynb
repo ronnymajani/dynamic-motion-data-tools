{
 "cells": [
  {
   "cell_type": "markdown",
   "metadata": {},
   "source": [
    "##### Increase default plotsize for matplotlib"
   ]
  },
  {
   "cell_type": "code",
   "execution_count": 15,
   "metadata": {},
   "outputs": [],
   "source": [
    "import matplotlib.pyplot as plt\n",
    "plt.rcParams['figure.figsize'] = [15, 10]"
   ]
  },
  {
   "cell_type": "markdown",
   "metadata": {},
   "source": [
    "# Data Preparation\n",
    "-----"
   ]
  },
  {
   "cell_type": "markdown",
   "metadata": {},
   "source": [
    "### Constants and Folder Paths"
   ]
  },
  {
   "cell_type": "code",
   "execution_count": 16,
   "metadata": {},
   "outputs": [],
   "source": [
    "dataset_folder_path = 'temp'\n",
    "NUM_SAMPLES = 200"
   ]
  },
  {
   "cell_type": "markdown",
   "metadata": {},
   "source": [
    "### Load Data"
   ]
  },
  {
   "cell_type": "code",
   "execution_count": 17,
   "metadata": {},
   "outputs": [],
   "source": [
    "from data.DataSet import DataSet\n",
    "dataset = DataSet(dataset_folder_path)"
   ]
  },
  {
   "cell_type": "markdown",
   "metadata": {},
   "source": [
    "### Data Preprocessing"
   ]
  },
  {
   "cell_type": "code",
   "execution_count": 18,
   "metadata": {},
   "outputs": [],
   "source": [
    "from utils.preprocessing import *\n",
    "from functools import partial\n",
    "dataset.apply(apply_mean_centering)\n",
    "dataset.apply(apply_unit_distance_normalization)\n",
    "#dataset.apply(partial(normalize_pressure_value, max_pressure_val=512))\n",
    "dataset.apply(partial(spline_interpolate_and_resample, num_samples=NUM_SAMPLES))\n",
    "dataset.expand(reverse_digit_sequence)\n",
    "# dataset.apply(lambda digit: convert_xy_to_derivative(digit, normalize=False))\n",
    "#dataset.apply(partial(convert_xy_to_derivative, normalize=True))"
   ]
  },
  {
   "cell_type": "markdown",
   "metadata": {},
   "source": [
    "### Split Dataset into *Train*, *Valid*, and *Test*"
   ]
  },
  {
   "cell_type": "code",
   "execution_count": 19,
   "metadata": {},
   "outputs": [],
   "source": [
    "# Imports\n",
    "import numpy as np\n",
    "from sklearn.model_selection import train_test_split\n",
    "\n",
    "data = np.array(dataset.data)\n",
    "# Convert labels to numpy array and OneHot encode them\n",
    "encoder, labels = dataset.get_labels_as_numpy(onehot=True)\n",
    "labels = labels.astype('float32').todense()\n",
    "# Split Data\n",
    "X_train_valid, X_test, Y_train_valid, Y_test = train_test_split(data, labels, shuffle=True, stratify=labels, random_state=42)\n",
    "X_train, X_valid, Y_train, Y_valid = train_test_split(X_train_valid, Y_train_valid, shuffle=True, stratify=Y_train_valid, random_state=42)"
   ]
  },
  {
   "cell_type": "markdown",
   "metadata": {},
   "source": [
    "# Neural Network Setup and Training\n",
    "----------"
   ]
  },
  {
   "cell_type": "markdown",
   "metadata": {},
   "source": [
    "### Parameters"
   ]
  },
  {
   "cell_type": "code",
   "execution_count": 20,
   "metadata": {},
   "outputs": [],
   "source": [
    "PARAM_NUM_EPOCHS = 30\n",
    "PARAM_BATCH_SIZE = 300"
   ]
  },
  {
   "cell_type": "markdown",
   "metadata": {},
   "source": [
    "### Setup Model"
   ]
  },
  {
   "cell_type": "code",
   "execution_count": 21,
   "metadata": {},
   "outputs": [
    {
     "name": "stdout",
     "output_type": "stream",
     "text": [
      "\n",
      "\n",
      "----------\n",
      "\n",
      "Optimizer: <class 'keras.optimizers.Adam'>\n",
      "Batch Size: 300\n",
      "Number of Epochs: 30\n",
      "\n",
      "_________________________________________________________________\n",
      "Layer (type)                 Output Shape              Param #   \n",
      "=================================================================\n",
      "gru_3 (GRU)                  (None, 200, 256)          198912    \n",
      "_________________________________________________________________\n",
      "gru_4 (GRU)                  (None, 256)               393984    \n",
      "_________________________________________________________________\n",
      "dense_2 (Dense)              (None, 10)                2570      \n",
      "_________________________________________________________________\n",
      "activation_2 (Activation)    (None, 10)                0         \n",
      "=================================================================\n",
      "Total params: 595,466\n",
      "Trainable params: 595,466\n",
      "Non-trainable params: 0\n",
      "_________________________________________________________________\n",
      "\n",
      "\n",
      "----------\n",
      "\n",
      "\n"
     ]
    }
   ],
   "source": [
    "from models.naive_gru import NaiveGRU\n",
    "\n",
    "mymodel = NaiveGRU(X_train.shape[1:])\n",
    "mymodel.batch_size = PARAM_BATCH_SIZE\n",
    "mymodel.num_epochs = PARAM_NUM_EPOCHS\n",
    "mymodel.initialize()\n",
    "print(mymodel)"
   ]
  },
  {
   "cell_type": "markdown",
   "metadata": {},
   "source": [
    "#### Save Model Summary"
   ]
  },
  {
   "cell_type": "code",
   "execution_count": 22,
   "metadata": {},
   "outputs": [],
   "source": [
    "mymodel.save_summary(dataset.get_recorded_operations())\n",
    "mymodel.save_config()"
   ]
  },
  {
   "cell_type": "markdown",
   "metadata": {},
   "source": [
    "### Train Model"
   ]
  },
  {
   "cell_type": "code",
   "execution_count": 23,
   "metadata": {},
   "outputs": [
    {
     "name": "stdout",
     "output_type": "stream",
     "text": [
      "Train on 4050 samples, validate on 1350 samples\n",
      "Epoch 1/30\n",
      "4050/4050 [==============================] - 5s 1ms/step - loss: 2.1786 - categorical_accuracy: 0.2143 - val_loss: 2.1164 - val_categorical_accuracy: 0.2281\n",
      "\n",
      "Epoch 00001: val_categorical_accuracy improved from -inf to 0.22815, saving model to checkpoints/1523388930.4312782/naive_overfit_gru-01-0.23.hdf5\n",
      "Epoch 2/30\n",
      "4050/4050 [==============================] - 4s 1ms/step - loss: 2.0961 - categorical_accuracy: 0.2407 - val_loss: 2.0671 - val_categorical_accuracy: 0.2348\n",
      "\n",
      "Epoch 00002: val_categorical_accuracy improved from 0.22815 to 0.23481, saving model to checkpoints/1523388930.4312782/naive_overfit_gru-02-0.23.hdf5\n",
      "Epoch 3/30\n",
      "4050/4050 [==============================] - 4s 1ms/step - loss: 1.9963 - categorical_accuracy: 0.2491 - val_loss: 1.8829 - val_categorical_accuracy: 0.2496\n",
      "\n",
      "Epoch 00003: val_categorical_accuracy improved from 0.23481 to 0.24963, saving model to checkpoints/1523388930.4312782/naive_overfit_gru-03-0.25.hdf5\n",
      "Epoch 4/30\n",
      "4050/4050 [==============================] - 5s 1ms/step - loss: 1.8231 - categorical_accuracy: 0.3099 - val_loss: 1.7470 - val_categorical_accuracy: 0.3185\n",
      "\n",
      "Epoch 00004: val_categorical_accuracy improved from 0.24963 to 0.31852, saving model to checkpoints/1523388930.4312782/naive_overfit_gru-04-0.32.hdf5\n",
      "Epoch 5/30\n",
      "4050/4050 [==============================] - 5s 1ms/step - loss: 1.6132 - categorical_accuracy: 0.4158 - val_loss: 1.4964 - val_categorical_accuracy: 0.4459\n",
      "\n",
      "Epoch 00005: val_categorical_accuracy improved from 0.31852 to 0.44593, saving model to checkpoints/1523388930.4312782/naive_overfit_gru-05-0.45.hdf5\n",
      "Epoch 6/30\n",
      "4050/4050 [==============================] - 5s 1ms/step - loss: 1.3806 - categorical_accuracy: 0.5067 - val_loss: 1.2420 - val_categorical_accuracy: 0.5585\n",
      "\n",
      "Epoch 00006: val_categorical_accuracy improved from 0.44593 to 0.55852, saving model to checkpoints/1523388930.4312782/naive_overfit_gru-06-0.56.hdf5\n",
      "Epoch 7/30\n",
      "4050/4050 [==============================] - 5s 1ms/step - loss: 1.1512 - categorical_accuracy: 0.5872 - val_loss: 0.9718 - val_categorical_accuracy: 0.6481\n",
      "\n",
      "Epoch 00007: val_categorical_accuracy improved from 0.55852 to 0.64815, saving model to checkpoints/1523388930.4312782/naive_overfit_gru-07-0.65.hdf5\n",
      "Epoch 8/30\n",
      "4050/4050 [==============================] - 4s 1ms/step - loss: 0.9248 - categorical_accuracy: 0.6869 - val_loss: 0.7775 - val_categorical_accuracy: 0.7526\n",
      "\n",
      "Epoch 00008: val_categorical_accuracy improved from 0.64815 to 0.75259, saving model to checkpoints/1523388930.4312782/naive_overfit_gru-08-0.75.hdf5\n",
      "Epoch 9/30\n",
      "4050/4050 [==============================] - 4s 1ms/step - loss: 0.6663 - categorical_accuracy: 0.7921 - val_loss: 0.5781 - val_categorical_accuracy: 0.8096\n",
      "\n",
      "Epoch 00009: val_categorical_accuracy improved from 0.75259 to 0.80963, saving model to checkpoints/1523388930.4312782/naive_overfit_gru-09-0.81.hdf5\n",
      "Epoch 10/30\n",
      "4050/4050 [==============================] - 5s 1ms/step - loss: 0.5342 - categorical_accuracy: 0.8291 - val_loss: 0.4722 - val_categorical_accuracy: 0.8585\n",
      "\n",
      "Epoch 00010: val_categorical_accuracy improved from 0.80963 to 0.85852, saving model to checkpoints/1523388930.4312782/naive_overfit_gru-10-0.86.hdf5\n",
      "Epoch 11/30\n",
      "4050/4050 [==============================] - 5s 1ms/step - loss: 0.4543 - categorical_accuracy: 0.8652 - val_loss: 0.3758 - val_categorical_accuracy: 0.8733\n",
      "\n",
      "Epoch 00011: val_categorical_accuracy improved from 0.85852 to 0.87333, saving model to checkpoints/1523388930.4312782/naive_overfit_gru-11-0.87.hdf5\n",
      "Epoch 12/30\n",
      "4050/4050 [==============================] - 4s 1ms/step - loss: 0.4084 - categorical_accuracy: 0.8733 - val_loss: 0.3601 - val_categorical_accuracy: 0.8837\n",
      "\n",
      "Epoch 00012: val_categorical_accuracy improved from 0.87333 to 0.88370, saving model to checkpoints/1523388930.4312782/naive_overfit_gru-12-0.88.hdf5\n",
      "Epoch 13/30\n",
      "4050/4050 [==============================] - 5s 1ms/step - loss: 0.2972 - categorical_accuracy: 0.9156 - val_loss: 0.2303 - val_categorical_accuracy: 0.9319\n",
      "\n",
      "Epoch 00013: val_categorical_accuracy improved from 0.88370 to 0.93185, saving model to checkpoints/1523388930.4312782/naive_overfit_gru-13-0.93.hdf5\n",
      "Epoch 14/30\n",
      "4050/4050 [==============================] - 5s 1ms/step - loss: 0.2155 - categorical_accuracy: 0.9370 - val_loss: 0.1950 - val_categorical_accuracy: 0.9422\n",
      "\n",
      "Epoch 00014: val_categorical_accuracy improved from 0.93185 to 0.94222, saving model to checkpoints/1523388930.4312782/naive_overfit_gru-14-0.94.hdf5\n",
      "Epoch 15/30\n",
      "4050/4050 [==============================] - 5s 1ms/step - loss: 0.1693 - categorical_accuracy: 0.9570 - val_loss: 0.1514 - val_categorical_accuracy: 0.9615\n",
      "\n",
      "Epoch 00015: val_categorical_accuracy improved from 0.94222 to 0.96148, saving model to checkpoints/1523388930.4312782/naive_overfit_gru-15-0.96.hdf5\n",
      "Epoch 16/30\n",
      "4050/4050 [==============================] - 5s 1ms/step - loss: 0.1467 - categorical_accuracy: 0.9593 - val_loss: 0.1806 - val_categorical_accuracy: 0.9496\n",
      "\n",
      "Epoch 00016: val_categorical_accuracy did not improve\n",
      "Epoch 17/30\n",
      "4050/4050 [==============================] - 4s 1ms/step - loss: 0.6448 - categorical_accuracy: 0.8084 - val_loss: 0.4973 - val_categorical_accuracy: 0.8430\n",
      "\n",
      "Epoch 00017: val_categorical_accuracy did not improve\n",
      "Epoch 18/30\n",
      "4050/4050 [==============================] - 4s 1ms/step - loss: 0.3665 - categorical_accuracy: 0.8891 - val_loss: 0.2643 - val_categorical_accuracy: 0.9230\n",
      "\n",
      "Epoch 00018: val_categorical_accuracy did not improve\n",
      "Epoch 19/30\n",
      "4050/4050 [==============================] - 4s 1ms/step - loss: 0.2130 - categorical_accuracy: 0.9410 - val_loss: 0.1834 - val_categorical_accuracy: 0.9526\n",
      "\n",
      "Epoch 00019: val_categorical_accuracy did not improve\n",
      "Epoch 20/30\n",
      "4050/4050 [==============================] - 5s 1ms/step - loss: 0.1530 - categorical_accuracy: 0.9593 - val_loss: 0.1480 - val_categorical_accuracy: 0.9593\n",
      "\n",
      "Epoch 00020: val_categorical_accuracy did not improve\n",
      "Epoch 21/30\n",
      "4050/4050 [==============================] - 5s 1ms/step - loss: 0.1303 - categorical_accuracy: 0.9667 - val_loss: 0.1395 - val_categorical_accuracy: 0.9630\n",
      "\n",
      "Epoch 00021: val_categorical_accuracy improved from 0.96148 to 0.96296, saving model to checkpoints/1523388930.4312782/naive_overfit_gru-21-0.96.hdf5\n",
      "Epoch 22/30\n",
      "4050/4050 [==============================] - 5s 1ms/step - loss: 0.1111 - categorical_accuracy: 0.9672 - val_loss: 0.1123 - val_categorical_accuracy: 0.9704\n",
      "\n",
      "Epoch 00022: val_categorical_accuracy improved from 0.96296 to 0.97037, saving model to checkpoints/1523388930.4312782/naive_overfit_gru-22-0.97.hdf5\n",
      "Epoch 23/30\n",
      "4050/4050 [==============================] - 4s 1ms/step - loss: 0.0818 - categorical_accuracy: 0.9800 - val_loss: 0.1027 - val_categorical_accuracy: 0.9763\n",
      "\n",
      "Epoch 00023: val_categorical_accuracy improved from 0.97037 to 0.97630, saving model to checkpoints/1523388930.4312782/naive_overfit_gru-23-0.98.hdf5\n",
      "Epoch 24/30\n",
      "4050/4050 [==============================] - 5s 1ms/step - loss: 0.0760 - categorical_accuracy: 0.9807 - val_loss: 0.0987 - val_categorical_accuracy: 0.9778\n",
      "\n",
      "Epoch 00024: val_categorical_accuracy improved from 0.97630 to 0.97778, saving model to checkpoints/1523388930.4312782/naive_overfit_gru-24-0.98.hdf5\n",
      "Epoch 25/30\n",
      "4050/4050 [==============================] - 5s 1ms/step - loss: 0.0772 - categorical_accuracy: 0.9800 - val_loss: 0.1173 - val_categorical_accuracy: 0.9689\n",
      "\n",
      "Epoch 00025: val_categorical_accuracy did not improve\n",
      "Epoch 26/30\n",
      "4050/4050 [==============================] - 4s 1ms/step - loss: 0.0751 - categorical_accuracy: 0.9802 - val_loss: 0.0906 - val_categorical_accuracy: 0.9785\n",
      "\n",
      "Epoch 00026: val_categorical_accuracy improved from 0.97778 to 0.97852, saving model to checkpoints/1523388930.4312782/naive_overfit_gru-26-0.98.hdf5\n",
      "Epoch 27/30\n",
      "4050/4050 [==============================] - 4s 1ms/step - loss: 0.0623 - categorical_accuracy: 0.9857 - val_loss: 0.1007 - val_categorical_accuracy: 0.9763\n",
      "\n",
      "Epoch 00027: val_categorical_accuracy did not improve\n",
      "Epoch 28/30\n",
      "4050/4050 [==============================] - 4s 1ms/step - loss: 0.0644 - categorical_accuracy: 0.9862 - val_loss: 0.1045 - val_categorical_accuracy: 0.9726\n",
      "\n",
      "Epoch 00028: val_categorical_accuracy did not improve\n",
      "Epoch 29/30\n",
      "4050/4050 [==============================] - 4s 1ms/step - loss: 0.0519 - categorical_accuracy: 0.9886 - val_loss: 0.0849 - val_categorical_accuracy: 0.9807\n",
      "\n",
      "Epoch 00029: val_categorical_accuracy improved from 0.97852 to 0.98074, saving model to checkpoints/1523388930.4312782/naive_overfit_gru-29-0.98.hdf5\n",
      "Epoch 30/30\n",
      "4050/4050 [==============================] - 4s 1ms/step - loss: 0.0477 - categorical_accuracy: 0.9889 - val_loss: 0.0981 - val_categorical_accuracy: 0.9748\n",
      "\n",
      "Epoch 00030: val_categorical_accuracy did not improve\n"
     ]
    }
   ],
   "source": [
    "mymodel.train(X_train, Y_train, X_valid, Y_valid)"
   ]
  },
  {
   "cell_type": "markdown",
   "metadata": {},
   "source": [
    "### Evaluate Model"
   ]
  },
  {
   "cell_type": "markdown",
   "metadata": {},
   "source": [
    "#### Test Set Accuracy"
   ]
  },
  {
   "cell_type": "code",
   "execution_count": 24,
   "metadata": {},
   "outputs": [
    {
     "name": "stdout",
     "output_type": "stream",
     "text": [
      "1800/1800 [==============================] - 3s 2ms/step\n",
      "Test Loss: 0.119, Test Acc: 97.389%\n"
     ]
    }
   ],
   "source": [
    "test_score = tuple(mymodel.model.evaluate(X_test, Y_test))\n",
    "print(\"Test Loss: %.3f, Test Acc: %.3f%%\" % (test_score[0], test_score[1] * 100))"
   ]
  },
  {
   "cell_type": "markdown",
   "metadata": {},
   "source": [
    "#### Recall, Precision, F1_Score on Validation set"
   ]
  },
  {
   "cell_type": "code",
   "execution_count": 25,
   "metadata": {},
   "outputs": [
    {
     "name": "stdout",
     "output_type": "stream",
     "text": [
      "1350/1350 [==============================] - 3s 2ms/step\n"
     ]
    },
    {
     "data": {
      "text/html": [
       "<div>\n",
       "<style scoped>\n",
       "    .dataframe tbody tr th:only-of-type {\n",
       "        vertical-align: middle;\n",
       "    }\n",
       "\n",
       "    .dataframe tbody tr th {\n",
       "        vertical-align: top;\n",
       "    }\n",
       "\n",
       "    .dataframe thead th {\n",
       "        text-align: right;\n",
       "    }\n",
       "</style>\n",
       "<table border=\"1\" class=\"dataframe\">\n",
       "  <thead>\n",
       "    <tr style=\"text-align: right;\">\n",
       "      <th></th>\n",
       "      <th>recall</th>\n",
       "      <th>precision</th>\n",
       "      <th>f1 score</th>\n",
       "      <th>#</th>\n",
       "    </tr>\n",
       "  </thead>\n",
       "  <tbody>\n",
       "    <tr>\n",
       "      <th>0</th>\n",
       "      <td>0.985294</td>\n",
       "      <td>0.992593</td>\n",
       "      <td>0.988930</td>\n",
       "      <td>135.0</td>\n",
       "    </tr>\n",
       "    <tr>\n",
       "      <th>1</th>\n",
       "      <td>0.970370</td>\n",
       "      <td>0.970370</td>\n",
       "      <td>0.970370</td>\n",
       "      <td>135.0</td>\n",
       "    </tr>\n",
       "    <tr>\n",
       "      <th>2</th>\n",
       "      <td>0.937063</td>\n",
       "      <td>0.992593</td>\n",
       "      <td>0.964029</td>\n",
       "      <td>135.0</td>\n",
       "    </tr>\n",
       "    <tr>\n",
       "      <th>3</th>\n",
       "      <td>0.977612</td>\n",
       "      <td>0.970370</td>\n",
       "      <td>0.973978</td>\n",
       "      <td>135.0</td>\n",
       "    </tr>\n",
       "    <tr>\n",
       "      <th>4</th>\n",
       "      <td>1.000000</td>\n",
       "      <td>0.948148</td>\n",
       "      <td>0.973384</td>\n",
       "      <td>135.0</td>\n",
       "    </tr>\n",
       "    <tr>\n",
       "      <th>5</th>\n",
       "      <td>0.992248</td>\n",
       "      <td>0.948148</td>\n",
       "      <td>0.969697</td>\n",
       "      <td>135.0</td>\n",
       "    </tr>\n",
       "    <tr>\n",
       "      <th>6</th>\n",
       "      <td>0.985401</td>\n",
       "      <td>1.000000</td>\n",
       "      <td>0.992647</td>\n",
       "      <td>135.0</td>\n",
       "    </tr>\n",
       "    <tr>\n",
       "      <th>7</th>\n",
       "      <td>0.969697</td>\n",
       "      <td>0.948148</td>\n",
       "      <td>0.958801</td>\n",
       "      <td>135.0</td>\n",
       "    </tr>\n",
       "    <tr>\n",
       "      <th>8</th>\n",
       "      <td>0.970803</td>\n",
       "      <td>0.985185</td>\n",
       "      <td>0.977941</td>\n",
       "      <td>135.0</td>\n",
       "    </tr>\n",
       "    <tr>\n",
       "      <th>9</th>\n",
       "      <td>0.964029</td>\n",
       "      <td>0.992593</td>\n",
       "      <td>0.978102</td>\n",
       "      <td>135.0</td>\n",
       "    </tr>\n",
       "  </tbody>\n",
       "</table>\n",
       "</div>"
      ],
      "text/plain": [
       "     recall  precision  f1 score      #\n",
       "0  0.985294   0.992593  0.988930  135.0\n",
       "1  0.970370   0.970370  0.970370  135.0\n",
       "2  0.937063   0.992593  0.964029  135.0\n",
       "3  0.977612   0.970370  0.973978  135.0\n",
       "4  1.000000   0.948148  0.973384  135.0\n",
       "5  0.992248   0.948148  0.969697  135.0\n",
       "6  0.985401   1.000000  0.992647  135.0\n",
       "7  0.969697   0.948148  0.958801  135.0\n",
       "8  0.970803   0.985185  0.977941  135.0\n",
       "9  0.964029   0.992593  0.978102  135.0"
      ]
     },
     "execution_count": 25,
     "metadata": {},
     "output_type": "execute_result"
    }
   ],
   "source": [
    "from utils.evaluation import get_evaluation_metrics, get_confusion_matrix\n",
    "\n",
    "Y_predicted_valid = mymodel.model.predict_classes(X_valid, verbose=1)\n",
    "rpf = get_evaluation_metrics(Y_valid, Y_predicted_valid)\n",
    "rpf"
   ]
  },
  {
   "cell_type": "code",
   "execution_count": 26,
   "metadata": {},
   "outputs": [
    {
     "name": "stdout",
     "output_type": "stream",
     "text": [
      "1800/1800 [==============================] - 3s 2ms/step\n"
     ]
    },
    {
     "data": {
      "text/html": [
       "<div>\n",
       "<style scoped>\n",
       "    .dataframe tbody tr th:only-of-type {\n",
       "        vertical-align: middle;\n",
       "    }\n",
       "\n",
       "    .dataframe tbody tr th {\n",
       "        vertical-align: top;\n",
       "    }\n",
       "\n",
       "    .dataframe thead th {\n",
       "        text-align: right;\n",
       "    }\n",
       "</style>\n",
       "<table border=\"1\" class=\"dataframe\">\n",
       "  <thead>\n",
       "    <tr style=\"text-align: right;\">\n",
       "      <th></th>\n",
       "      <th>recall</th>\n",
       "      <th>precision</th>\n",
       "      <th>f1 score</th>\n",
       "      <th>#</th>\n",
       "    </tr>\n",
       "  </thead>\n",
       "  <tbody>\n",
       "    <tr>\n",
       "      <th>0</th>\n",
       "      <td>0.962567</td>\n",
       "      <td>1.000000</td>\n",
       "      <td>0.980926</td>\n",
       "      <td>180.0</td>\n",
       "    </tr>\n",
       "    <tr>\n",
       "      <th>1</th>\n",
       "      <td>0.983240</td>\n",
       "      <td>0.977778</td>\n",
       "      <td>0.980501</td>\n",
       "      <td>180.0</td>\n",
       "    </tr>\n",
       "    <tr>\n",
       "      <th>2</th>\n",
       "      <td>0.956522</td>\n",
       "      <td>0.977778</td>\n",
       "      <td>0.967033</td>\n",
       "      <td>180.0</td>\n",
       "    </tr>\n",
       "    <tr>\n",
       "      <th>3</th>\n",
       "      <td>0.988889</td>\n",
       "      <td>0.988889</td>\n",
       "      <td>0.988889</td>\n",
       "      <td>180.0</td>\n",
       "    </tr>\n",
       "    <tr>\n",
       "      <th>4</th>\n",
       "      <td>0.972222</td>\n",
       "      <td>0.972222</td>\n",
       "      <td>0.972222</td>\n",
       "      <td>180.0</td>\n",
       "    </tr>\n",
       "    <tr>\n",
       "      <th>5</th>\n",
       "      <td>0.982353</td>\n",
       "      <td>0.927778</td>\n",
       "      <td>0.954286</td>\n",
       "      <td>180.0</td>\n",
       "    </tr>\n",
       "    <tr>\n",
       "      <th>6</th>\n",
       "      <td>0.988889</td>\n",
       "      <td>0.988889</td>\n",
       "      <td>0.988889</td>\n",
       "      <td>180.0</td>\n",
       "    </tr>\n",
       "    <tr>\n",
       "      <th>7</th>\n",
       "      <td>0.971751</td>\n",
       "      <td>0.955556</td>\n",
       "      <td>0.963585</td>\n",
       "      <td>180.0</td>\n",
       "    </tr>\n",
       "    <tr>\n",
       "      <th>8</th>\n",
       "      <td>0.966851</td>\n",
       "      <td>0.972222</td>\n",
       "      <td>0.969529</td>\n",
       "      <td>180.0</td>\n",
       "    </tr>\n",
       "    <tr>\n",
       "      <th>9</th>\n",
       "      <td>0.967033</td>\n",
       "      <td>0.977778</td>\n",
       "      <td>0.972376</td>\n",
       "      <td>180.0</td>\n",
       "    </tr>\n",
       "  </tbody>\n",
       "</table>\n",
       "</div>"
      ],
      "text/plain": [
       "     recall  precision  f1 score      #\n",
       "0  0.962567   1.000000  0.980926  180.0\n",
       "1  0.983240   0.977778  0.980501  180.0\n",
       "2  0.956522   0.977778  0.967033  180.0\n",
       "3  0.988889   0.988889  0.988889  180.0\n",
       "4  0.972222   0.972222  0.972222  180.0\n",
       "5  0.982353   0.927778  0.954286  180.0\n",
       "6  0.988889   0.988889  0.988889  180.0\n",
       "7  0.971751   0.955556  0.963585  180.0\n",
       "8  0.966851   0.972222  0.969529  180.0\n",
       "9  0.967033   0.977778  0.972376  180.0"
      ]
     },
     "execution_count": 26,
     "metadata": {},
     "output_type": "execute_result"
    }
   ],
   "source": [
    "from utils.evaluation import get_evaluation_metrics, get_confusion_matrix\n",
    "\n",
    "Y_predicted_test = mymodel.model.predict_classes(X_test, verbose=1)\n",
    "rpf = get_evaluation_metrics(Y_test, Y_predicted_test)\n",
    "rpf"
   ]
  },
  {
   "cell_type": "markdown",
   "metadata": {},
   "source": [
    "#### Plot Confusion Matrix"
   ]
  },
  {
   "cell_type": "code",
   "execution_count": 27,
   "metadata": {},
   "outputs": [
    {
     "data": {
      "image/png": "[encoded data removed]",
      "text/plain": [
       "<Figure size 720x720 with 2 Axes>"
      ]
     },
     "metadata": {},
     "output_type": "display_data"
    }
   ],
   "source": [
    "from utils.evaluation import get_confusion_matrix\n",
    "# Confusion Matrix\n",
    "confmat = get_confusion_matrix(Y_valid, Y_predicted_valid, plot=True)"
   ]
  },
  {
   "cell_type": "code",
   "execution_count": 28,
   "metadata": {},
   "outputs": [
    {
     "data": {
      "image/png": "[encoded data removed]",
      "text/plain": [
       "<Figure size 720x720 with 2 Axes>"
      ]
     },
     "metadata": {},
     "output_type": "display_data"
    }
   ],
   "source": [
    "from utils.evaluation import get_confusion_matrix\n",
    "# Confusion Matrix\n",
    "confmat = get_confusion_matrix(Y_test, Y_predicted_test, plot=True)"
   ]
  },
  {
   "cell_type": "markdown",
   "metadata": {},
   "source": [
    "# Backup Code\n",
    "-----"
   ]
  },
  {
   "cell_type": "code",
   "execution_count": 11,
   "metadata": {},
   "outputs": [],
   "source": [
    "from keras.models import load_model\n",
    "mymodel.model = load_model(\"checkpoints/1523369406.7123575/naive_overfit_gru-30-0.97.hdf5\")"
   ]
  },
  {
   "cell_type": "code",
   "execution_count": null,
   "metadata": {},
   "outputs": [],
   "source": []
  }
 ],
 "metadata": {
  "kernelspec": {
   "display_name": "Python 3",
   "language": "python",
   "name": "python3"
  },
  "language_info": {
   "codemirror_mode": {
    "name": "ipython",
    "version": 3
   },
   "file_extension": ".py",
   "mimetype": "text/x-python",
   "name": "python",
   "nbconvert_exporter": "python",
   "pygments_lexer": "ipython3",
   "version": "3.6.4"
  }
 },
 "nbformat": 4,
 "nbformat_minor": 2
}

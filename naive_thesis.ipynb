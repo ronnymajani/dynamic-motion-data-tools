{
 "cells": [
  {
   "cell_type": "markdown",
   "metadata": {},
   "source": [
    "### Definitions, Contsants, and Paths"
   ]
  },
  {
   "cell_type": "code",
   "execution_count": 1,
   "metadata": {},
   "outputs": [],
   "source": [
    "# Constants\n",
    "PARAM_NUM_EPOCHS = 30\n",
    "PARAM_BATCH_SIZE = 300\n",
    "NUM_SAMPLES = 200\n",
    "\n",
    "# Paths\n",
    "dataset_folder_path = 'temp'\n",
    "tensorboard_logs_path = \"logs\"\n",
    "checkpoints_save_folder_path = 'checkpoints'\n",
    "checkpoints_save_prefix = 'gru-spline'"
   ]
  },
  {
   "cell_type": "markdown",
   "metadata": {},
   "source": [
    "### Data Preparation"
   ]
  },
  {
   "cell_type": "code",
   "execution_count": 2,
   "metadata": {},
   "outputs": [],
   "source": [
    "# Imports\n",
    "from utils.preprocessing import *\n",
    "from data.DataSet import DataSet\n",
    "from functools import partial\n",
    "\n",
    "dataset = DataSet(dataset_folder_path)\n",
    "dataset.apply(apply_mean_centering)\n",
    "dataset.apply(apply_unit_distance_normalization)\n",
    "#dataset.apply(partial(normalize_pressure_value, max_pressure_val=512))\n",
    "dataset.apply(partial(spline_interpolate_and_resample, num_samples=NUM_SAMPLES))\n",
    "dataset.expand(reverse_digit_sequence)\n",
    "# dataset.apply(lambda digit: convert_xy_to_derivative(digit, normalize=False))\n",
    "#dataset.apply(partial(convert_xy_to_derivative, normalize=True))"
   ]
  },
  {
   "cell_type": "markdown",
   "metadata": {},
   "source": [
    "### Split Dataset into *Train*, *Valid*, and *Test*"
   ]
  },
  {
   "cell_type": "code",
   "execution_count": 3,
   "metadata": {},
   "outputs": [],
   "source": [
    "# Imports\n",
    "import numpy as np\n",
    "from sklearn.model_selection import train_test_split\n",
    "\n",
    "data = np.array(dataset.data)\n",
    "# Convert labels to numpy array and OneHot encode them\n",
    "encoder, labels = dataset.get_labels_as_numpy(onehot=True)\n",
    "labels = labels.astype('float32').todense()\n",
    "# Split Data\n",
    "X_train_valid, X_test, Y_train_valid, Y_test = train_test_split(data, labels, shuffle=True, stratify=labels, random_state=42)\n",
    "X_train, X_valid, Y_train, Y_valid = train_test_split(X_train_valid, Y_train_valid, shuffle=True, stratify=Y_train_valid, random_state=42)"
   ]
  },
  {
   "cell_type": "markdown",
   "metadata": {},
   "source": [
    "### Setup Model"
   ]
  },
  {
   "cell_type": "code",
   "execution_count": 4,
   "metadata": {},
   "outputs": [
    {
     "name": "stderr",
     "output_type": "stream",
     "text": [
      "Using TensorFlow backend.\n"
     ]
    },
    {
     "name": "stdout",
     "output_type": "stream",
     "text": [
      "\n",
      "\n",
      "----------\n",
      "\n",
      "Optimizer: <class 'keras.optimizers.Adam'>\n",
      "Batch Size: 300\n",
      "Number of Epochs: 30\n",
      "\n",
      "_________________________________________________________________\n",
      "Layer (type)                 Output Shape              Param #   \n",
      "=================================================================\n",
      "gru_1 (GRU)                  (None, 200, 256)          198912    \n",
      "_________________________________________________________________\n",
      "gru_2 (GRU)                  (None, 256)               393984    \n",
      "_________________________________________________________________\n",
      "dense_1 (Dense)              (None, 10)                2570      \n",
      "_________________________________________________________________\n",
      "activation_1 (Activation)    (None, 10)                0         \n",
      "=================================================================\n",
      "Total params: 595,466\n",
      "Trainable params: 595,466\n",
      "Non-trainable params: 0\n",
      "_________________________________________________________________\n",
      "\n",
      "\n",
      "----------\n",
      "\n",
      "\n"
     ]
    }
   ],
   "source": [
    "from models.naive_gru import NaiveGRU\n",
    "\n",
    "mymodel = NaiveGRU(X_train.shape[1:])\n",
    "mymodel.batch_size = PARAM_BATCH_SIZE\n",
    "mymodel.num_epochs = PARAM_NUM_EPOCHS\n",
    "mymodel.initialize()\n",
    "print(mymodel)"
   ]
  },
  {
   "cell_type": "markdown",
   "metadata": {},
   "source": [
    "#### Save Model Summary"
   ]
  },
  {
   "cell_type": "code",
   "execution_count": 5,
   "metadata": {},
   "outputs": [],
   "source": [
    "mymodel.save_summary(dataset.get_recorded_operations())\n",
    "mymodel.save_config()"
   ]
  },
  {
   "cell_type": "markdown",
   "metadata": {},
   "source": [
    "### Train Model"
   ]
  },
  {
   "cell_type": "code",
   "execution_count": 6,
   "metadata": {},
   "outputs": [
    {
     "name": "stdout",
     "output_type": "stream",
     "text": [
      "Train on 3037 samples, validate on 1013 samples\n",
      "Epoch 1/30\n",
      "3037/3037 [==============================] - 4s 1ms/step - loss: 2.2028 - categorical_accuracy: 0.1801 - val_loss: 2.1441 - val_categorical_accuracy: 0.2280\n",
      "\n",
      "Epoch 00001: val_categorical_accuracy improved from -inf to 0.22804, saving model to checkpoints/1523369406.7123575/naive_overfit_gru-01-0.23.hdf5\n",
      "Epoch 2/30\n",
      "3037/3037 [==============================] - 3s 1ms/step - loss: 2.1271 - categorical_accuracy: 0.2371 - val_loss: 2.1104 - val_categorical_accuracy: 0.2221\n",
      "\n",
      "Epoch 00002: val_categorical_accuracy did not improve\n",
      "Epoch 3/30\n",
      "3037/3037 [==============================] - 3s 1ms/step - loss: 2.0970 - categorical_accuracy: 0.2170 - val_loss: 2.0451 - val_categorical_accuracy: 0.2340\n",
      "\n",
      "Epoch 00003: val_categorical_accuracy improved from 0.22804 to 0.23396, saving model to checkpoints/1523369406.7123575/naive_overfit_gru-03-0.23.hdf5\n",
      "Epoch 4/30\n",
      "3037/3037 [==============================] - 3s 1ms/step - loss: 1.9906 - categorical_accuracy: 0.2509 - val_loss: 1.9200 - val_categorical_accuracy: 0.2438\n",
      "\n",
      "Epoch 00004: val_categorical_accuracy improved from 0.23396 to 0.24383, saving model to checkpoints/1523369406.7123575/naive_overfit_gru-04-0.24.hdf5\n",
      "Epoch 5/30\n",
      "3037/3037 [==============================] - 3s 1ms/step - loss: 1.8867 - categorical_accuracy: 0.2644 - val_loss: 1.7833 - val_categorical_accuracy: 0.3060\n",
      "\n",
      "Epoch 00005: val_categorical_accuracy improved from 0.24383 to 0.30602, saving model to checkpoints/1523369406.7123575/naive_overfit_gru-05-0.31.hdf5\n",
      "Epoch 6/30\n",
      "3037/3037 [==============================] - 3s 1ms/step - loss: 1.7487 - categorical_accuracy: 0.3500 - val_loss: 1.6558 - val_categorical_accuracy: 0.3860\n",
      "\n",
      "Epoch 00006: val_categorical_accuracy improved from 0.30602 to 0.38598, saving model to checkpoints/1523369406.7123575/naive_overfit_gru-06-0.39.hdf5\n",
      "Epoch 7/30\n",
      "3037/3037 [==============================] - 3s 1ms/step - loss: 1.5763 - categorical_accuracy: 0.4146 - val_loss: 1.4914 - val_categorical_accuracy: 0.4334\n",
      "\n",
      "Epoch 00007: val_categorical_accuracy improved from 0.38598 to 0.43337, saving model to checkpoints/1523369406.7123575/naive_overfit_gru-07-0.43.hdf5\n",
      "Epoch 8/30\n",
      "3037/3037 [==============================] - 3s 1ms/step - loss: 1.4264 - categorical_accuracy: 0.4722 - val_loss: 1.3335 - val_categorical_accuracy: 0.4936\n",
      "\n",
      "Epoch 00008: val_categorical_accuracy improved from 0.43337 to 0.49358, saving model to checkpoints/1523369406.7123575/naive_overfit_gru-08-0.49.hdf5\n",
      "Epoch 9/30\n",
      "3037/3037 [==============================] - 3s 1ms/step - loss: 1.2688 - categorical_accuracy: 0.5245 - val_loss: 1.3131 - val_categorical_accuracy: 0.4975\n",
      "\n",
      "Epoch 00009: val_categorical_accuracy improved from 0.49358 to 0.49753, saving model to checkpoints/1523369406.7123575/naive_overfit_gru-09-0.50.hdf5\n",
      "Epoch 10/30\n",
      "3037/3037 [==============================] - 3s 1ms/step - loss: 1.1706 - categorical_accuracy: 0.5617 - val_loss: 1.1310 - val_categorical_accuracy: 0.5933\n",
      "\n",
      "Epoch 00010: val_categorical_accuracy improved from 0.49753 to 0.59329, saving model to checkpoints/1523369406.7123575/naive_overfit_gru-10-0.59.hdf5\n",
      "Epoch 11/30\n",
      "3037/3037 [==============================] - 3s 1ms/step - loss: 1.0176 - categorical_accuracy: 0.6414 - val_loss: 1.0271 - val_categorical_accuracy: 0.6338\n",
      "\n",
      "Epoch 00011: val_categorical_accuracy improved from 0.59329 to 0.63376, saving model to checkpoints/1523369406.7123575/naive_overfit_gru-11-0.63.hdf5\n",
      "Epoch 12/30\n",
      "3037/3037 [==============================] - 4s 1ms/step - loss: 0.8867 - categorical_accuracy: 0.7027 - val_loss: 0.8110 - val_categorical_accuracy: 0.7266\n",
      "\n",
      "Epoch 00012: val_categorical_accuracy improved from 0.63376 to 0.72655, saving model to checkpoints/1523369406.7123575/naive_overfit_gru-12-0.73.hdf5\n",
      "Epoch 13/30\n",
      "3037/3037 [==============================] - 3s 1ms/step - loss: 0.6954 - categorical_accuracy: 0.7639 - val_loss: 0.6774 - val_categorical_accuracy: 0.7927\n",
      "\n",
      "Epoch 00013: val_categorical_accuracy improved from 0.72655 to 0.79269, saving model to checkpoints/1523369406.7123575/naive_overfit_gru-13-0.79.hdf5\n",
      "Epoch 14/30\n",
      "3037/3037 [==============================] - 4s 1ms/step - loss: 0.5739 - categorical_accuracy: 0.8077 - val_loss: 0.5434 - val_categorical_accuracy: 0.8292\n",
      "\n",
      "Epoch 00014: val_categorical_accuracy improved from 0.79269 to 0.82922, saving model to checkpoints/1523369406.7123575/naive_overfit_gru-14-0.83.hdf5\n",
      "Epoch 15/30\n",
      "3037/3037 [==============================] - 3s 1ms/step - loss: 0.4720 - categorical_accuracy: 0.8459 - val_loss: 0.4530 - val_categorical_accuracy: 0.8539\n",
      "\n",
      "Epoch 00015: val_categorical_accuracy improved from 0.82922 to 0.85390, saving model to checkpoints/1523369406.7123575/naive_overfit_gru-15-0.85.hdf5\n",
      "Epoch 16/30\n",
      "3037/3037 [==============================] - 3s 1ms/step - loss: 0.3956 - categorical_accuracy: 0.8716 - val_loss: 0.4039 - val_categorical_accuracy: 0.8677\n",
      "\n",
      "Epoch 00016: val_categorical_accuracy improved from 0.85390 to 0.86772, saving model to checkpoints/1523369406.7123575/naive_overfit_gru-16-0.87.hdf5\n",
      "Epoch 17/30\n",
      "3037/3037 [==============================] - 3s 1ms/step - loss: 0.3272 - categorical_accuracy: 0.9019 - val_loss: 0.3217 - val_categorical_accuracy: 0.9013\n",
      "\n",
      "Epoch 00017: val_categorical_accuracy improved from 0.86772 to 0.90128, saving model to checkpoints/1523369406.7123575/naive_overfit_gru-17-0.90.hdf5\n",
      "Epoch 18/30\n",
      "3037/3037 [==============================] - 3s 1ms/step - loss: 0.2714 - categorical_accuracy: 0.9193 - val_loss: 0.2929 - val_categorical_accuracy: 0.9121\n",
      "\n",
      "Epoch 00018: val_categorical_accuracy improved from 0.90128 to 0.91214, saving model to checkpoints/1523369406.7123575/naive_overfit_gru-18-0.91.hdf5\n",
      "Epoch 19/30\n",
      "3037/3037 [==============================] - 3s 1ms/step - loss: 0.2149 - categorical_accuracy: 0.9378 - val_loss: 0.2850 - val_categorical_accuracy: 0.9210\n",
      "\n",
      "Epoch 00019: val_categorical_accuracy improved from 0.91214 to 0.92103, saving model to checkpoints/1523369406.7123575/naive_overfit_gru-19-0.92.hdf5\n",
      "Epoch 20/30\n",
      "3037/3037 [==============================] - 3s 1ms/step - loss: 0.1979 - categorical_accuracy: 0.9417 - val_loss: 0.2477 - val_categorical_accuracy: 0.9447\n",
      "\n",
      "Epoch 00020: val_categorical_accuracy improved from 0.92103 to 0.94472, saving model to checkpoints/1523369406.7123575/naive_overfit_gru-20-0.94.hdf5\n",
      "Epoch 21/30\n",
      "3037/3037 [==============================] - 3s 1ms/step - loss: 0.2402 - categorical_accuracy: 0.9269 - val_loss: 0.3115 - val_categorical_accuracy: 0.9131\n",
      "\n",
      "Epoch 00021: val_categorical_accuracy did not improve\n",
      "Epoch 22/30\n",
      "3037/3037 [==============================] - 3s 1ms/step - loss: 0.2277 - categorical_accuracy: 0.9312 - val_loss: 0.2148 - val_categorical_accuracy: 0.9467\n",
      "\n",
      "Epoch 00022: val_categorical_accuracy improved from 0.94472 to 0.94669, saving model to checkpoints/1523369406.7123575/naive_overfit_gru-22-0.95.hdf5\n",
      "Epoch 23/30\n",
      "3037/3037 [==============================] - 4s 1ms/step - loss: 0.1730 - categorical_accuracy: 0.9500 - val_loss: 0.2060 - val_categorical_accuracy: 0.9408\n",
      "\n",
      "Epoch 00023: val_categorical_accuracy did not improve\n",
      "Epoch 24/30\n",
      "3037/3037 [==============================] - 4s 1ms/step - loss: 0.1525 - categorical_accuracy: 0.9552 - val_loss: 0.2127 - val_categorical_accuracy: 0.9477\n",
      "\n",
      "Epoch 00024: val_categorical_accuracy improved from 0.94669 to 0.94768, saving model to checkpoints/1523369406.7123575/naive_overfit_gru-24-0.95.hdf5\n",
      "Epoch 25/30\n",
      "3037/3037 [==============================] - 3s 1ms/step - loss: 0.1242 - categorical_accuracy: 0.9651 - val_loss: 0.1682 - val_categorical_accuracy: 0.9536\n",
      "\n",
      "Epoch 00025: val_categorical_accuracy improved from 0.94768 to 0.95360, saving model to checkpoints/1523369406.7123575/naive_overfit_gru-25-0.95.hdf5\n",
      "Epoch 26/30\n",
      "3037/3037 [==============================] - 3s 1ms/step - loss: 0.1010 - categorical_accuracy: 0.9730 - val_loss: 0.1776 - val_categorical_accuracy: 0.9576\n",
      "\n",
      "Epoch 00026: val_categorical_accuracy improved from 0.95360 to 0.95755, saving model to checkpoints/1523369406.7123575/naive_overfit_gru-26-0.96.hdf5\n",
      "Epoch 27/30\n",
      "3037/3037 [==============================] - 3s 1ms/step - loss: 0.0796 - categorical_accuracy: 0.9770 - val_loss: 0.1606 - val_categorical_accuracy: 0.9635\n",
      "\n",
      "Epoch 00027: val_categorical_accuracy improved from 0.95755 to 0.96347, saving model to checkpoints/1523369406.7123575/naive_overfit_gru-27-0.96.hdf5\n",
      "Epoch 28/30\n",
      "3037/3037 [==============================] - 3s 1ms/step - loss: 0.0694 - categorical_accuracy: 0.9802 - val_loss: 0.1393 - val_categorical_accuracy: 0.9664\n",
      "\n",
      "Epoch 00028: val_categorical_accuracy improved from 0.96347 to 0.96644, saving model to checkpoints/1523369406.7123575/naive_overfit_gru-28-0.97.hdf5\n",
      "Epoch 29/30\n",
      "3037/3037 [==============================] - 3s 1ms/step - loss: 0.0534 - categorical_accuracy: 0.9862 - val_loss: 0.1398 - val_categorical_accuracy: 0.9684\n",
      "\n",
      "Epoch 00029: val_categorical_accuracy improved from 0.96644 to 0.96841, saving model to checkpoints/1523369406.7123575/naive_overfit_gru-29-0.97.hdf5\n",
      "Epoch 30/30\n",
      "3037/3037 [==============================] - 3s 1ms/step - loss: 0.0424 - categorical_accuracy: 0.9905 - val_loss: 0.1265 - val_categorical_accuracy: 0.9704\n",
      "\n",
      "Epoch 00030: val_categorical_accuracy improved from 0.96841 to 0.97039, saving model to checkpoints/1523369406.7123575/naive_overfit_gru-30-0.97.hdf5\n"
     ]
    }
   ],
   "source": [
    "mymodel.train(X_train, Y_train, X_valid, Y_valid)"
   ]
  },
  {
   "cell_type": "markdown",
   "metadata": {},
   "source": [
    "### Evaluate Model"
   ]
  },
  {
   "cell_type": "markdown",
   "metadata": {},
   "source": [
    "#### Test Set Accuracy"
   ]
  },
  {
   "cell_type": "code",
   "execution_count": 7,
   "metadata": {},
   "outputs": [
    {
     "name": "stdout",
     "output_type": "stream",
     "text": [
      "1350/1350 [==============================] - 2s 2ms/step\n",
      "Test Loss: 0.151, Test Acc: 96.963%\n"
     ]
    }
   ],
   "source": [
    "test_score = tuple(mymodel.model.evaluate(X_test, Y_test))\n",
    "print(\"Test Loss: %.3f, Test Acc: %.3f%%\" % (test_score[0], test_score[1] * 100))"
   ]
  },
  {
   "cell_type": "markdown",
   "metadata": {},
   "source": [
    "#### Recall, Precision, F1_Score on Validation set"
   ]
  },
  {
   "cell_type": "code",
   "execution_count": 8,
   "metadata": {},
   "outputs": [
    {
     "name": "stdout",
     "output_type": "stream",
     "text": [
      "1013/1013 [==============================] - 2s 2ms/step\n"
     ]
    },
    {
     "data": {
      "text/html": [
       "<div>\n",
       "<style scoped>\n",
       "    .dataframe tbody tr th:only-of-type {\n",
       "        vertical-align: middle;\n",
       "    }\n",
       "\n",
       "    .dataframe tbody tr th {\n",
       "        vertical-align: top;\n",
       "    }\n",
       "\n",
       "    .dataframe thead th {\n",
       "        text-align: right;\n",
       "    }\n",
       "</style>\n",
       "<table border=\"1\" class=\"dataframe\">\n",
       "  <thead>\n",
       "    <tr style=\"text-align: right;\">\n",
       "      <th></th>\n",
       "      <th>recall</th>\n",
       "      <th>precision</th>\n",
       "      <th>f1 score</th>\n",
       "      <th>#</th>\n",
       "    </tr>\n",
       "  </thead>\n",
       "  <tbody>\n",
       "    <tr>\n",
       "      <th>0</th>\n",
       "      <td>0.952830</td>\n",
       "      <td>1.000000</td>\n",
       "      <td>0.975845</td>\n",
       "      <td>101.0</td>\n",
       "    </tr>\n",
       "    <tr>\n",
       "      <th>1</th>\n",
       "      <td>0.969697</td>\n",
       "      <td>0.950495</td>\n",
       "      <td>0.960000</td>\n",
       "      <td>101.0</td>\n",
       "    </tr>\n",
       "    <tr>\n",
       "      <th>2</th>\n",
       "      <td>0.960396</td>\n",
       "      <td>0.960396</td>\n",
       "      <td>0.960396</td>\n",
       "      <td>101.0</td>\n",
       "    </tr>\n",
       "    <tr>\n",
       "      <th>3</th>\n",
       "      <td>1.000000</td>\n",
       "      <td>1.000000</td>\n",
       "      <td>1.000000</td>\n",
       "      <td>102.0</td>\n",
       "    </tr>\n",
       "    <tr>\n",
       "      <th>4</th>\n",
       "      <td>0.979592</td>\n",
       "      <td>0.950495</td>\n",
       "      <td>0.964824</td>\n",
       "      <td>101.0</td>\n",
       "    </tr>\n",
       "    <tr>\n",
       "      <th>5</th>\n",
       "      <td>0.970000</td>\n",
       "      <td>0.950980</td>\n",
       "      <td>0.960396</td>\n",
       "      <td>102.0</td>\n",
       "    </tr>\n",
       "    <tr>\n",
       "      <th>6</th>\n",
       "      <td>0.980392</td>\n",
       "      <td>0.980392</td>\n",
       "      <td>0.980392</td>\n",
       "      <td>102.0</td>\n",
       "    </tr>\n",
       "    <tr>\n",
       "      <th>7</th>\n",
       "      <td>0.961165</td>\n",
       "      <td>0.980198</td>\n",
       "      <td>0.970588</td>\n",
       "      <td>101.0</td>\n",
       "    </tr>\n",
       "    <tr>\n",
       "      <th>8</th>\n",
       "      <td>0.951923</td>\n",
       "      <td>0.980198</td>\n",
       "      <td>0.965854</td>\n",
       "      <td>101.0</td>\n",
       "    </tr>\n",
       "    <tr>\n",
       "      <th>9</th>\n",
       "      <td>0.979592</td>\n",
       "      <td>0.950495</td>\n",
       "      <td>0.964824</td>\n",
       "      <td>101.0</td>\n",
       "    </tr>\n",
       "  </tbody>\n",
       "</table>\n",
       "</div>"
      ],
      "text/plain": [
       "     recall  precision  f1 score      #\n",
       "0  0.952830   1.000000  0.975845  101.0\n",
       "1  0.969697   0.950495  0.960000  101.0\n",
       "2  0.960396   0.960396  0.960396  101.0\n",
       "3  1.000000   1.000000  1.000000  102.0\n",
       "4  0.979592   0.950495  0.964824  101.0\n",
       "5  0.970000   0.950980  0.960396  102.0\n",
       "6  0.980392   0.980392  0.980392  102.0\n",
       "7  0.961165   0.980198  0.970588  101.0\n",
       "8  0.951923   0.980198  0.965854  101.0\n",
       "9  0.979592   0.950495  0.964824  101.0"
      ]
     },
     "execution_count": 8,
     "metadata": {},
     "output_type": "execute_result"
    }
   ],
   "source": [
    "from utils.evaluation import get_evaluation_metrics, get_confusion_matrix\n",
    "\n",
    "Y_predicted_valid = mymodel.model.predict_classes(X_valid, verbose=1)\n",
    "rpf = get_evaluation_metrics(Y_valid, Y_predicted_valid)\n",
    "rpf"
   ]
  },
  {
   "cell_type": "markdown",
   "metadata": {},
   "source": [
    "#### Plot Confusion Matrix"
   ]
  },
  {
   "cell_type": "code",
   "execution_count": 9,
   "metadata": {},
   "outputs": [
    {
     "data": {
      "image/png": "[encoded data removed]",
      "text/plain": [
       "<Figure size 288x288 with 1 Axes>"
      ]
     },
     "metadata": {},
     "output_type": "display_data"
    }
   ],
   "source": [
    "from utils.evaluation import get_confusion_matrix\n",
    "# Confusion Matrix\n",
    "confmat = get_confusion_matrix(Y_valid, Y_predicted_valid, plot=True)"
   ]
  },
  {
   "cell_type": "code",
   "execution_count": 18,
   "metadata": {},
   "outputs": [
    {
     "data": {
      "image/png": "[encoded data removed]",
      "text/plain": [
       "<Figure size 288x288 with 1 Axes>"
      ]
     },
     "metadata": {},
     "output_type": "display_data"
    }
   ],
   "source": [
    "import matplotlib.cm\n",
    "from utils.plot import show_mat\n",
    "show_mat(confmat, hide_ticks=True, uniform_ticks=True, cmap=matplotlib.cm.Spectral)"
   ]
  },
  {
   "cell_type": "code",
   "execution_count": 21,
   "metadata": {},
   "outputs": [
    {
     "ename": "RuntimeError",
     "evalue": "No mappable was found to use for colorbar creation. First define a mappable such as an image (with imshow) or a contour set (with contourf).",
     "output_type": "error",
     "traceback": [
      "\u001b[0;31m---------------------------------------------------------------------------\u001b[0m",
      "\u001b[0;31mRuntimeError\u001b[0m                              Traceback (most recent call last)",
      "\u001b[0;32m<ipython-input-21-c92af294bdd8>\u001b[0m in \u001b[0;36m<module>\u001b[0;34m()\u001b[0m\n\u001b[1;32m      1\u001b[0m \u001b[0;32mimport\u001b[0m \u001b[0mmatplotlib\u001b[0m\u001b[0;34m.\u001b[0m\u001b[0mpyplot\u001b[0m \u001b[0;32mas\u001b[0m \u001b[0mplt\u001b[0m\u001b[0;34m\u001b[0m\u001b[0m\n\u001b[0;32m----> 2\u001b[0;31m \u001b[0mplt\u001b[0m\u001b[0;34m.\u001b[0m\u001b[0mcolorbar\u001b[0m\u001b[0;34m(\u001b[0m\u001b[0;34m)\u001b[0m\u001b[0;34m\u001b[0m\u001b[0m\n\u001b[0m",
      "\u001b[0;32m~/Apps/anaconda3/envs/thesis/lib/python3.6/site-packages/matplotlib/pyplot.py\u001b[0m in \u001b[0;36mcolorbar\u001b[0;34m(mappable, cax, ax, **kw)\u001b[0m\n\u001b[1;32m   2319\u001b[0m         \u001b[0mmappable\u001b[0m \u001b[0;34m=\u001b[0m \u001b[0mgci\u001b[0m\u001b[0;34m(\u001b[0m\u001b[0;34m)\u001b[0m\u001b[0;34m\u001b[0m\u001b[0m\n\u001b[1;32m   2320\u001b[0m         \u001b[0;32mif\u001b[0m \u001b[0mmappable\u001b[0m \u001b[0;32mis\u001b[0m \u001b[0;32mNone\u001b[0m\u001b[0;34m:\u001b[0m\u001b[0;34m\u001b[0m\u001b[0m\n\u001b[0;32m-> 2321\u001b[0;31m             raise RuntimeError('No mappable was found to use for colorbar '\n\u001b[0m\u001b[1;32m   2322\u001b[0m                                \u001b[0;34m'creation. First define a mappable such as '\u001b[0m\u001b[0;34m\u001b[0m\u001b[0m\n\u001b[1;32m   2323\u001b[0m                                \u001b[0;34m'an image (with imshow) or a contour set ('\u001b[0m\u001b[0;34m\u001b[0m\u001b[0m\n",
      "\u001b[0;31mRuntimeError\u001b[0m: No mappable was found to use for colorbar creation. First define a mappable such as an image (with imshow) or a contour set (with contourf)."
     ]
    },
    {
     "data": {
      "text/plain": [
       "<Figure size 432x288 with 0 Axes>"
      ]
     },
     "metadata": {},
     "output_type": "display_data"
    }
   ],
   "source": []
  },
  {
   "cell_type": "code",
   "execution_count": null,
   "metadata": {},
   "outputs": [],
   "source": []
  }
 ],
 "metadata": {
  "kernelspec": {
   "display_name": "Python 3",
   "language": "python",
   "name": "python3"
  },
  "language_info": {
   "codemirror_mode": {
    "name": "ipython",
    "version": 3
   },
   "file_extension": ".py",
   "mimetype": "text/x-python",
   "name": "python",
   "nbconvert_exporter": "python",
   "pygments_lexer": "ipython3",
   "version": "3.6.4"
  }
 },
 "nbformat": 4,
 "nbformat_minor": 2
}

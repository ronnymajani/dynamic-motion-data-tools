{
 "cells": [
  {
   "cell_type": "code",
   "execution_count": 1,
   "metadata": {},
   "outputs": [],
   "source": [
    "# allow the notebook to access the parent directory so we can import the other modules\n",
    "# https://stackoverflow.com/a/35273613\n",
    "import os\n",
    "import sys\n",
    "nb_dir = os.path.split(os.getcwd())[0]\n",
    "if nb_dir not in sys.path:\n",
    "    sys.path.append(nb_dir)"
   ]
  },
  {
   "cell_type": "markdown",
   "metadata": {},
   "source": [
    "# Data Preparation\n",
    "-----"
   ]
  },
  {
   "cell_type": "markdown",
   "metadata": {},
   "source": [
    "### Constants and Folder Paths"
   ]
  },
  {
   "cell_type": "code",
   "execution_count": 2,
   "metadata": {},
   "outputs": [],
   "source": [
    "import os\n",
    "dataset_folder_path = os.path.join(\"..\", \"files\", \"dataset\")"
   ]
  },
  {
   "cell_type": "code",
   "execution_count": 3,
   "metadata": {},
   "outputs": [
    {
     "name": "stdout",
     "output_type": "stream",
     "text": [
      "36 files found!\n",
      "Training Data Len: 1900\n",
      "Validation Data Len: 1000\n",
      "Test Data Len: 700\n"
     ]
    }
   ],
   "source": [
    "from data.DataSet import DataSet\n",
    "dataset = DataSet()\n",
    "dataset.load(dataset_folder_path, test_set_percentage=0.2, validation_set_percentage=0.3333)\n",
    "\n",
    "print(\"Training Data Len:\", len(dataset.train_data))\n",
    "print(\"Validation Data Len:\", len(dataset.valid_data))\n",
    "print(\"Test Data Len:\", len(dataset.test_data))"
   ]
  },
  {
   "cell_type": "markdown",
   "metadata": {},
   "source": [
    "### Data Preprocessing"
   ]
  },
  {
   "cell_type": "code",
   "execution_count": 4,
   "metadata": {},
   "outputs": [],
   "source": [
    "NUM_SAMPLES = 50\n",
    "ANGLES_TO_ROTATE = [5, 10, 15, 45, -5, -10, -15, -45]"
   ]
  },
  {
   "cell_type": "code",
   "execution_count": 5,
   "metadata": {},
   "outputs": [
    {
     "name": "stdout",
     "output_type": "stream",
     "text": [
      "Training Data Len: 34200\n",
      "Validation Data Len: 18000\n",
      "Test Data Len: 12600\n"
     ]
    }
   ],
   "source": [
    "from utils.preprocessing import *\n",
    "from functools import partial\n",
    "dataset.apply(apply_mean_centering)\n",
    "dataset.apply(apply_unit_distance_normalization)\n",
    "dataset.apply(partial(spline_interpolate_and_resample, num_samples=NUM_SAMPLES))\n",
    "dataset.expand_many(partial(rotate_digit, degrees=ANGLES_TO_ROTATE))\n",
    "dataset.expand(reverse_digit_sequence)\n",
    "\n",
    "print(\"Training Data Len:\", len(dataset.train_data))\n",
    "print(\"Validation Data Len:\", len(dataset.valid_data))\n",
    "print(\"Test Data Len:\", len(dataset.test_data))"
   ]
  },
  {
   "cell_type": "markdown",
   "metadata": {},
   "source": [
    "### Split Dataset into *Train*, *Valid*, and *Test*"
   ]
  },
  {
   "cell_type": "code",
   "execution_count": 6,
   "metadata": {},
   "outputs": [
    {
     "name": "stdout",
     "output_type": "stream",
     "text": [
      "Training Data Shape: (34200, 50, 2)\n",
      "Training Labels Shape: (34200, 10)\n",
      "Validation Data Shape: (18000, 50, 2)\n",
      "Validation Labels Shape: (18000, 10)\n",
      "Test Data Shape: (12600, 50, 2)\n",
      "Test Labels Shape: (12600, 10)\n"
     ]
    }
   ],
   "source": [
    "import numpy as np\n",
    "from sklearn.model_selection import train_test_split\n",
    "\n",
    "X_train = np.array(dataset.train_data)\n",
    "X_valid = np.array(dataset.valid_data)\n",
    "X_test = np.array(dataset.test_data)\n",
    "\n",
    "# Convert labels to numpy array and OneHot encode them\n",
    "encoder, Y_train, Y_valid, Y_test = dataset.onehot_encode_labels()\n",
    "\n",
    "print(\"Training Data Shape:\", X_train.shape)\n",
    "print(\"Training Labels Shape:\", Y_train.shape)\n",
    "print(\"Validation Data Shape:\", X_valid.shape)\n",
    "print(\"Validation Labels Shape:\", Y_valid.shape)\n",
    "print(\"Test Data Shape:\", X_test.shape)\n",
    "print(\"Test Labels Shape:\", Y_test.shape)"
   ]
  },
  {
   "cell_type": "markdown",
   "metadata": {},
   "source": [
    "----------\n",
    "# Neural Network Setup and Training\n",
    "----------"
   ]
  },
  {
   "cell_type": "markdown",
   "metadata": {},
   "source": [
    "## **Regularized 3x512 GRU**"
   ]
  },
  {
   "cell_type": "markdown",
   "metadata": {},
   "source": [
    "### Parameters"
   ]
  },
  {
   "cell_type": "code",
   "execution_count": 22,
   "metadata": {},
   "outputs": [],
   "source": [
    "PARAM_NUM_EPOCHS = 60\n",
    "PARAM_BATCH_SIZE = 500"
   ]
  },
  {
   "cell_type": "markdown",
   "metadata": {},
   "source": [
    "### Setup Model"
   ]
  },
  {
   "cell_type": "code",
   "execution_count": 23,
   "metadata": {},
   "outputs": [
    {
     "name": "stdout",
     "output_type": "stream",
     "text": [
      "\n",
      "\n",
      "----------\n",
      "\n",
      "Optimizer: <class 'keras.optimizers.Nadam'>\n",
      "Batch Size: 500\n",
      "Number of Epochs: 60\n",
      "\n",
      "_________________________________________________________________\n",
      "Layer (type)                 Output Shape              Param #   \n",
      "=================================================================\n",
      "gru_4 (GRU)                  (None, 50, 512)           791040    \n",
      "_________________________________________________________________\n",
      "dropout_5 (Dropout)          (None, 50, 512)           0         \n",
      "_________________________________________________________________\n",
      "gru_5 (GRU)                  (None, 50, 512)           1575936   \n",
      "_________________________________________________________________\n",
      "dropout_6 (Dropout)          (None, 50, 512)           0         \n",
      "_________________________________________________________________\n",
      "gru_6 (GRU)                  (None, 512)               1575936   \n",
      "_________________________________________________________________\n",
      "dropout_7 (Dropout)          (None, 512)               0         \n",
      "_________________________________________________________________\n",
      "dense_3 (Dense)              (None, 256)               131328    \n",
      "_________________________________________________________________\n",
      "activation_3 (Activation)    (None, 256)               0         \n",
      "_________________________________________________________________\n",
      "dropout_8 (Dropout)          (None, 256)               0         \n",
      "_________________________________________________________________\n",
      "dense_4 (Dense)              (None, 10)                2570      \n",
      "_________________________________________________________________\n",
      "activation_4 (Activation)    (None, 10)                0         \n",
      "=================================================================\n",
      "Total params: 4,076,810\n",
      "Trainable params: 4,076,810\n",
      "Non-trainable params: 0\n",
      "_________________________________________________________________\n",
      "\n",
      "\n",
      "----------\n",
      "\n",
      "\n"
     ]
    }
   ],
   "source": [
    "from models.regularized_3x512_gru import Regularized3x512GRU\n",
    "import os.path\n",
    "\n",
    "mymodel = Regularized3x512GRU(X_train.shape[1:], output_path=os.path.join(\"..\", \"files\"))\n",
    "mymodel.batch_size = PARAM_BATCH_SIZE\n",
    "mymodel.num_epochs = PARAM_NUM_EPOCHS\n",
    "mymodel.initialize()\n",
    "print(mymodel)"
   ]
  },
  {
   "cell_type": "markdown",
   "metadata": {},
   "source": [
    "#### Save Model Summary"
   ]
  },
  {
   "cell_type": "code",
   "execution_count": 24,
   "metadata": {},
   "outputs": [
    {
     "name": "stdout",
     "output_type": "stream",
     "text": [
      "Summary saved to ../files/checkpoints/1526508141.0371778/summary.txt\n",
      "Model config saved to ../files/checkpoints/1526508141.0371778/model.txt\n"
     ]
    }
   ],
   "source": [
    "mymodel.save_summary(dataset.get_recorded_operations())\n",
    "mymodel.save_config()"
   ]
  },
  {
   "cell_type": "markdown",
   "metadata": {},
   "source": [
    "### Train Model"
   ]
  },
  {
   "cell_type": "code",
   "execution_count": 25,
   "metadata": {
    "scrolled": true
   },
   "outputs": [
    {
     "name": "stdout",
     "output_type": "stream",
     "text": [
      "Train on 34200 samples, validate on 18000 samples\n",
      "Epoch 1/60\n",
      "34200/34200 [==============================] - 37s 1ms/step - loss: 1.9257 - categorical_accuracy: 0.5194 - val_loss: 0.9505 - val_categorical_accuracy: 0.7853\n",
      "\n",
      "Epoch 00001: val_categorical_accuracy improved from -inf to 0.78528, saving model to ../files/checkpoints/1526508141.0371778/regularized_3x512_gru-01-0.785.hdf5\n",
      "Epoch 2/60\n",
      "34200/34200 [==============================] - 38s 1ms/step - loss: 0.4605 - categorical_accuracy: 0.9219 - val_loss: 0.5139 - val_categorical_accuracy: 0.8993\n",
      "\n",
      "Epoch 00002: val_categorical_accuracy improved from 0.78528 to 0.89928, saving model to ../files/checkpoints/1526508141.0371778/regularized_3x512_gru-02-0.899.hdf5\n",
      "Epoch 3/60\n",
      "34200/34200 [==============================] - 37s 1ms/step - loss: 0.4220 - categorical_accuracy: 0.9249 - val_loss: 0.4448 - val_categorical_accuracy: 0.9104\n",
      "\n",
      "Epoch 00003: val_categorical_accuracy improved from 0.89928 to 0.91044, saving model to ../files/checkpoints/1526508141.0371778/regularized_3x512_gru-03-0.910.hdf5\n",
      "Epoch 4/60\n",
      "34200/34200 [==============================] - 37s 1ms/step - loss: 0.1570 - categorical_accuracy: 0.9857 - val_loss: 0.4147 - val_categorical_accuracy: 0.9120\n",
      "\n",
      "Epoch 00004: val_categorical_accuracy improved from 0.91044 to 0.91200, saving model to ../files/checkpoints/1526508141.0371778/regularized_3x512_gru-04-0.912.hdf5\n",
      "Epoch 5/60\n",
      "34200/34200 [==============================] - 37s 1ms/step - loss: 0.0987 - categorical_accuracy: 0.9919 - val_loss: 0.3618 - val_categorical_accuracy: 0.9198\n",
      "\n",
      "Epoch 00005: val_categorical_accuracy improved from 0.91200 to 0.91978, saving model to ../files/checkpoints/1526508141.0371778/regularized_3x512_gru-05-0.920.hdf5\n",
      "Epoch 6/60\n",
      "34200/34200 [==============================] - 37s 1ms/step - loss: 0.0712 - categorical_accuracy: 0.9937 - val_loss: 0.3854 - val_categorical_accuracy: 0.9127\n",
      "\n",
      "Epoch 00006: val_categorical_accuracy did not improve\n",
      "Epoch 7/60\n",
      "34200/34200 [==============================] - 38s 1ms/step - loss: 0.0575 - categorical_accuracy: 0.9942 - val_loss: 0.4155 - val_categorical_accuracy: 0.9158\n",
      "\n",
      "Epoch 00007: val_categorical_accuracy did not improve\n",
      "Epoch 8/60\n",
      "34200/34200 [==============================] - 38s 1ms/step - loss: 0.0478 - categorical_accuracy: 0.9945 - val_loss: 0.4112 - val_categorical_accuracy: 0.9182\n",
      "\n",
      "Epoch 00008: val_categorical_accuracy did not improve\n",
      "Epoch 9/60\n",
      "34200/34200 [==============================] - 38s 1ms/step - loss: 0.0459 - categorical_accuracy: 0.9937 - val_loss: 0.3371 - val_categorical_accuracy: 0.9263\n",
      "\n",
      "Epoch 00009: val_categorical_accuracy improved from 0.91978 to 0.92628, saving model to ../files/checkpoints/1526508141.0371778/regularized_3x512_gru-09-0.926.hdf5\n",
      "Epoch 10/60\n",
      "34200/34200 [==============================] - 38s 1ms/step - loss: 0.0330 - categorical_accuracy: 0.9961 - val_loss: 0.3586 - val_categorical_accuracy: 0.9266\n",
      "\n",
      "Epoch 00010: val_categorical_accuracy improved from 0.92628 to 0.92661, saving model to ../files/checkpoints/1526508141.0371778/regularized_3x512_gru-10-0.927.hdf5\n",
      "Epoch 11/60\n",
      "34200/34200 [==============================] - 37s 1ms/step - loss: 0.0402 - categorical_accuracy: 0.9938 - val_loss: 0.4002 - val_categorical_accuracy: 0.9178\n",
      "\n",
      "Epoch 00011: val_categorical_accuracy did not improve\n",
      "Epoch 12/60\n",
      "34200/34200 [==============================] - 37s 1ms/step - loss: 0.0325 - categorical_accuracy: 0.9954 - val_loss: 0.4402 - val_categorical_accuracy: 0.9124\n",
      "\n",
      "Epoch 00012: val_categorical_accuracy did not improve\n",
      "Epoch 13/60\n",
      "34200/34200 [==============================] - 37s 1ms/step - loss: 0.0407 - categorical_accuracy: 0.9937 - val_loss: 0.3498 - val_categorical_accuracy: 0.9303\n",
      "\n",
      "Epoch 00013: val_categorical_accuracy improved from 0.92661 to 0.93028, saving model to ../files/checkpoints/1526508141.0371778/regularized_3x512_gru-13-0.930.hdf5\n",
      "Epoch 14/60\n",
      "34200/34200 [==============================] - 39s 1ms/step - loss: 0.0300 - categorical_accuracy: 0.9962 - val_loss: 0.3881 - val_categorical_accuracy: 0.9226\n",
      "\n",
      "Epoch 00014: val_categorical_accuracy did not improve\n",
      "Epoch 15/60\n",
      "34200/34200 [==============================] - 38s 1ms/step - loss: 0.0300 - categorical_accuracy: 0.9957 - val_loss: 0.3793 - val_categorical_accuracy: 0.9336\n",
      "\n",
      "Epoch 00015: val_categorical_accuracy improved from 0.93028 to 0.93356, saving model to ../files/checkpoints/1526508141.0371778/regularized_3x512_gru-15-0.934.hdf5\n",
      "Epoch 16/60\n",
      "34200/34200 [==============================] - 37s 1ms/step - loss: 0.0285 - categorical_accuracy: 0.9961 - val_loss: 0.3835 - val_categorical_accuracy: 0.9219\n",
      "\n",
      "Epoch 00016: val_categorical_accuracy did not improve\n",
      "Epoch 17/60\n",
      "34200/34200 [==============================] - 37s 1ms/step - loss: 0.0247 - categorical_accuracy: 0.9971 - val_loss: 0.3883 - val_categorical_accuracy: 0.9257\n",
      "\n",
      "Epoch 00017: val_categorical_accuracy did not improve\n",
      "Epoch 18/60\n",
      "34200/34200 [==============================] - 36s 1ms/step - loss: 0.0302 - categorical_accuracy: 0.9956 - val_loss: 0.3735 - val_categorical_accuracy: 0.9249\n",
      "\n",
      "Epoch 00018: val_categorical_accuracy did not improve\n",
      "Epoch 19/60\n",
      "34200/34200 [==============================] - 36s 1ms/step - loss: 0.0289 - categorical_accuracy: 0.9955 - val_loss: 0.3575 - val_categorical_accuracy: 0.9335\n",
      "\n",
      "Epoch 00019: val_categorical_accuracy did not improve\n",
      "Epoch 20/60\n",
      "34200/34200 [==============================] - 37s 1ms/step - loss: 0.0218 - categorical_accuracy: 0.9977 - val_loss: 0.3675 - val_categorical_accuracy: 0.9341\n",
      "\n",
      "Epoch 00020: val_categorical_accuracy improved from 0.93356 to 0.93411, saving model to ../files/checkpoints/1526508141.0371778/regularized_3x512_gru-20-0.934.hdf5\n",
      "Epoch 21/60\n",
      "34200/34200 [==============================] - 37s 1ms/step - loss: 0.0449 - categorical_accuracy: 0.9922 - val_loss: 0.3196 - val_categorical_accuracy: 0.9372\n",
      "\n",
      "Epoch 00021: val_categorical_accuracy improved from 0.93411 to 0.93722, saving model to ../files/checkpoints/1526508141.0371778/regularized_3x512_gru-21-0.937.hdf5\n",
      "Epoch 22/60\n",
      "34200/34200 [==============================] - 37s 1ms/step - loss: 0.0259 - categorical_accuracy: 0.9968 - val_loss: 0.3477 - val_categorical_accuracy: 0.9372\n",
      "\n",
      "Epoch 00022: val_categorical_accuracy did not improve\n",
      "Epoch 23/60\n",
      "34200/34200 [==============================] - 39s 1ms/step - loss: 0.0215 - categorical_accuracy: 0.9974 - val_loss: 0.3624 - val_categorical_accuracy: 0.9289\n",
      "\n",
      "Epoch 00023: val_categorical_accuracy did not improve\n",
      "Epoch 24/60\n",
      "34200/34200 [==============================] - 37s 1ms/step - loss: 0.0232 - categorical_accuracy: 0.9972 - val_loss: 0.4018 - val_categorical_accuracy: 0.9309\n",
      "\n",
      "Epoch 00024: val_categorical_accuracy did not improve\n",
      "Epoch 25/60\n",
      "34200/34200 [==============================] - 36s 1ms/step - loss: 0.0287 - categorical_accuracy: 0.9952 - val_loss: 0.3461 - val_categorical_accuracy: 0.9341\n",
      "\n",
      "Epoch 00025: val_categorical_accuracy did not improve\n",
      "Epoch 26/60\n",
      "34200/34200 [==============================] - 36s 1ms/step - loss: 0.0295 - categorical_accuracy: 0.9957 - val_loss: 0.3718 - val_categorical_accuracy: 0.9297\n",
      "\n",
      "Epoch 00026: val_categorical_accuracy did not improve\n",
      "Epoch 27/60\n",
      "34200/34200 [==============================] - 37s 1ms/step - loss: 0.0180 - categorical_accuracy: 0.9985 - val_loss: 0.3548 - val_categorical_accuracy: 0.9367\n",
      "\n",
      "Epoch 00027: val_categorical_accuracy did not improve\n",
      "Epoch 28/60\n",
      "34200/34200 [==============================] - 38s 1ms/step - loss: 0.0150 - categorical_accuracy: 0.9985 - val_loss: 0.4540 - val_categorical_accuracy: 0.9163\n",
      "\n",
      "Epoch 00028: val_categorical_accuracy did not improve\n",
      "Epoch 29/60\n",
      "34200/34200 [==============================] - 37s 1ms/step - loss: 0.0305 - categorical_accuracy: 0.9947 - val_loss: 0.3585 - val_categorical_accuracy: 0.9333\n",
      "\n",
      "Epoch 00029: val_categorical_accuracy did not improve\n",
      "Epoch 30/60\n",
      "34200/34200 [==============================] - 37s 1ms/step - loss: 0.0342 - categorical_accuracy: 0.9946 - val_loss: 0.3670 - val_categorical_accuracy: 0.9364\n",
      "\n",
      "Epoch 00030: val_categorical_accuracy did not improve\n",
      "Epoch 31/60\n",
      "34200/34200 [==============================] - 37s 1ms/step - loss: 0.0230 - categorical_accuracy: 0.9975 - val_loss: 0.3951 - val_categorical_accuracy: 0.9308\n"
     ]
    },
    {
     "name": "stdout",
     "output_type": "stream",
     "text": [
      "\n",
      "Epoch 00031: val_categorical_accuracy did not improve\n",
      "Epoch 32/60\n",
      "34200/34200 [==============================] - 37s 1ms/step - loss: 0.0270 - categorical_accuracy: 0.9955 - val_loss: 0.4059 - val_categorical_accuracy: 0.9283\n",
      "\n",
      "Epoch 00032: val_categorical_accuracy did not improve\n",
      "Epoch 33/60\n",
      "34200/34200 [==============================] - 38s 1ms/step - loss: 0.0214 - categorical_accuracy: 0.9973 - val_loss: 0.3296 - val_categorical_accuracy: 0.9403\n",
      "\n",
      "Epoch 00033: val_categorical_accuracy improved from 0.93722 to 0.94028, saving model to ../files/checkpoints/1526508141.0371778/regularized_3x512_gru-33-0.940.hdf5\n",
      "Epoch 34/60\n",
      "34200/34200 [==============================] - 38s 1ms/step - loss: 0.0219 - categorical_accuracy: 0.9970 - val_loss: 0.2870 - val_categorical_accuracy: 0.9407\n",
      "\n",
      "Epoch 00034: val_categorical_accuracy improved from 0.94028 to 0.94067, saving model to ../files/checkpoints/1526508141.0371778/regularized_3x512_gru-34-0.941.hdf5\n",
      "Epoch 35/60\n",
      "34200/34200 [==============================] - 37s 1ms/step - loss: 0.0227 - categorical_accuracy: 0.9966 - val_loss: 0.3537 - val_categorical_accuracy: 0.9351\n",
      "\n",
      "Epoch 00035: val_categorical_accuracy did not improve\n",
      "Epoch 36/60\n",
      "34200/34200 [==============================] - 36s 1ms/step - loss: 0.0188 - categorical_accuracy: 0.9979 - val_loss: 0.4047 - val_categorical_accuracy: 0.9208\n",
      "\n",
      "Epoch 00036: val_categorical_accuracy did not improve\n",
      "Epoch 37/60\n",
      "34200/34200 [==============================] - 36s 1ms/step - loss: 0.0223 - categorical_accuracy: 0.9969 - val_loss: 0.3594 - val_categorical_accuracy: 0.9327\n",
      "\n",
      "Epoch 00037: val_categorical_accuracy did not improve\n",
      "Epoch 38/60\n",
      "34200/34200 [==============================] - 37s 1ms/step - loss: 0.0138 - categorical_accuracy: 0.9989 - val_loss: 0.3510 - val_categorical_accuracy: 0.9343\n",
      "\n",
      "Epoch 00038: val_categorical_accuracy did not improve\n",
      "Epoch 39/60\n",
      "34200/34200 [==============================] - 36s 1ms/step - loss: 0.0245 - categorical_accuracy: 0.9961 - val_loss: 0.3425 - val_categorical_accuracy: 0.9392\n",
      "\n",
      "Epoch 00039: val_categorical_accuracy did not improve\n",
      "Epoch 40/60\n",
      "34200/34200 [==============================] - 37s 1ms/step - loss: 0.0269 - categorical_accuracy: 0.9957 - val_loss: 0.3426 - val_categorical_accuracy: 0.9416\n",
      "\n",
      "Epoch 00040: val_categorical_accuracy improved from 0.94067 to 0.94156, saving model to ../files/checkpoints/1526508141.0371778/regularized_3x512_gru-40-0.942.hdf5\n",
      "Epoch 41/60\n",
      "34200/34200 [==============================] - 37s 1ms/step - loss: 0.0185 - categorical_accuracy: 0.9980 - val_loss: 0.3174 - val_categorical_accuracy: 0.9449\n",
      "\n",
      "Epoch 00041: val_categorical_accuracy improved from 0.94156 to 0.94489, saving model to ../files/checkpoints/1526508141.0371778/regularized_3x512_gru-41-0.945.hdf5\n",
      "Epoch 42/60\n",
      "34200/34200 [==============================] - 37s 1ms/step - loss: 0.0191 - categorical_accuracy: 0.9974 - val_loss: 0.3688 - val_categorical_accuracy: 0.9274\n",
      "\n",
      "Epoch 00042: val_categorical_accuracy did not improve\n",
      "Epoch 43/60\n",
      "34200/34200 [==============================] - 36s 1ms/step - loss: 0.0143 - categorical_accuracy: 0.9987 - val_loss: 0.3351 - val_categorical_accuracy: 0.9352\n",
      "\n",
      "Epoch 00043: val_categorical_accuracy did not improve\n",
      "Epoch 44/60\n",
      "34200/34200 [==============================] - 36s 1ms/step - loss: 0.0145 - categorical_accuracy: 0.9983 - val_loss: 0.3797 - val_categorical_accuracy: 0.9327\n",
      "\n",
      "Epoch 00044: val_categorical_accuracy did not improve\n",
      "Epoch 45/60\n",
      "34200/34200 [==============================] - 37s 1ms/step - loss: 0.0151 - categorical_accuracy: 0.9977 - val_loss: 0.4091 - val_categorical_accuracy: 0.9287\n",
      "\n",
      "Epoch 00045: val_categorical_accuracy did not improve\n",
      "Epoch 46/60\n",
      "34200/34200 [==============================] - 37s 1ms/step - loss: 0.0193 - categorical_accuracy: 0.9970 - val_loss: 0.4056 - val_categorical_accuracy: 0.9308\n",
      "\n",
      "Epoch 00046: val_categorical_accuracy did not improve\n",
      "Epoch 47/60\n",
      "34200/34200 [==============================] - 37s 1ms/step - loss: 0.0310 - categorical_accuracy: 0.9946 - val_loss: 0.4411 - val_categorical_accuracy: 0.9269\n",
      "\n",
      "Epoch 00047: val_categorical_accuracy did not improve\n",
      "Epoch 48/60\n",
      "34200/34200 [==============================] - 38s 1ms/step - loss: 0.0171 - categorical_accuracy: 0.9979 - val_loss: 0.3636 - val_categorical_accuracy: 0.9390\n",
      "\n",
      "Epoch 00048: val_categorical_accuracy did not improve\n",
      "Epoch 49/60\n",
      "34200/34200 [==============================] - 37s 1ms/step - loss: 0.0225 - categorical_accuracy: 0.9968 - val_loss: 0.3482 - val_categorical_accuracy: 0.9402\n",
      "\n",
      "Epoch 00049: val_categorical_accuracy did not improve\n",
      "Epoch 50/60\n",
      "34200/34200 [==============================] - 37s 1ms/step - loss: 0.0194 - categorical_accuracy: 0.9977 - val_loss: 0.3603 - val_categorical_accuracy: 0.9367\n",
      "\n",
      "Epoch 00050: val_categorical_accuracy did not improve\n",
      "Epoch 51/60\n",
      "34200/34200 [==============================] - 37s 1ms/step - loss: 0.0194 - categorical_accuracy: 0.9971 - val_loss: 0.4355 - val_categorical_accuracy: 0.9298\n",
      "\n",
      "Epoch 00051: val_categorical_accuracy did not improve\n",
      "Epoch 52/60\n",
      "34200/34200 [==============================] - 36s 1ms/step - loss: 0.0165 - categorical_accuracy: 0.9982 - val_loss: 0.3803 - val_categorical_accuracy: 0.9318\n",
      "\n",
      "Epoch 00052: val_categorical_accuracy did not improve\n",
      "Epoch 53/60\n",
      "34200/34200 [==============================] - 37s 1ms/step - loss: 0.0206 - categorical_accuracy: 0.9967 - val_loss: 0.4097 - val_categorical_accuracy: 0.9353\n",
      "\n",
      "Epoch 00053: val_categorical_accuracy did not improve\n",
      "Epoch 54/60\n",
      "34200/34200 [==============================] - 36s 1ms/step - loss: 0.0191 - categorical_accuracy: 0.9975 - val_loss: 0.3650 - val_categorical_accuracy: 0.9389\n",
      "\n",
      "Epoch 00054: val_categorical_accuracy did not improve\n",
      "Epoch 55/60\n",
      "34200/34200 [==============================] - 37s 1ms/step - loss: 0.0135 - categorical_accuracy: 0.9987 - val_loss: 0.3179 - val_categorical_accuracy: 0.9396\n",
      "\n",
      "Epoch 00055: val_categorical_accuracy did not improve\n",
      "Epoch 56/60\n",
      "34200/34200 [==============================] - 38s 1ms/step - loss: 0.0259 - categorical_accuracy: 0.9954 - val_loss: 0.7037 - val_categorical_accuracy: 0.8687\n",
      "\n",
      "Epoch 00056: val_categorical_accuracy did not improve\n",
      "Epoch 57/60\n",
      "34200/34200 [==============================] - 36s 1ms/step - loss: 0.0351 - categorical_accuracy: 0.9953 - val_loss: 0.3445 - val_categorical_accuracy: 0.9411\n",
      "\n",
      "Epoch 00057: val_categorical_accuracy did not improve\n",
      "Epoch 58/60\n",
      "34200/34200 [==============================] - 35s 1ms/step - loss: 0.0186 - categorical_accuracy: 0.9977 - val_loss: 0.3686 - val_categorical_accuracy: 0.9347\n",
      "\n",
      "Epoch 00058: val_categorical_accuracy did not improve\n",
      "Epoch 59/60\n",
      "34200/34200 [==============================] - 35s 1ms/step - loss: 0.0182 - categorical_accuracy: 0.9977 - val_loss: 0.3497 - val_categorical_accuracy: 0.9369\n",
      "\n",
      "Epoch 00059: val_categorical_accuracy did not improve\n",
      "Epoch 60/60\n",
      "34200/34200 [==============================] - 38s 1ms/step - loss: 0.0125 - categorical_accuracy: 0.9989 - val_loss: 0.3613 - val_categorical_accuracy: 0.9383\n",
      "\n",
      "Epoch 00060: val_categorical_accuracy did not improve\n"
     ]
    }
   ],
   "source": [
    "mymodel.train(X_train, Y_train, X_valid, Y_valid)"
   ]
  },
  {
   "cell_type": "markdown",
   "metadata": {},
   "source": [
    "### Evaluate Model"
   ]
  },
  {
   "cell_type": "markdown",
   "metadata": {},
   "source": [
    "#### Test Set Accuracy"
   ]
  },
  {
   "cell_type": "code",
   "execution_count": 26,
   "metadata": {
    "scrolled": false
   },
   "outputs": [
    {
     "name": "stdout",
     "output_type": "stream",
     "text": [
      "12600/12600 [==============================] - 11s 844us/step\n",
      "Test Loss: 0.358, Test Acc: 93.349%\n"
     ]
    }
   ],
   "source": [
    "test_score = tuple(mymodel.model.evaluate(X_test, Y_test))\n",
    "print(\"Test Loss: %.3f, Test Acc: %.3f%%\" % (test_score[0], test_score[1] * 100))"
   ]
  },
  {
   "cell_type": "markdown",
   "metadata": {},
   "source": [
    "#### Recall, Precision, F1_Score on Test set"
   ]
  },
  {
   "cell_type": "code",
   "execution_count": 28,
   "metadata": {
    "scrolled": false
   },
   "outputs": [
    {
     "name": "stdout",
     "output_type": "stream",
     "text": [
      "12600/12600 [==============================] - 9s 723us/step\n"
     ]
    },
    {
     "data": {
      "text/html": [
       "<div>\n",
       "<style scoped>\n",
       "    .dataframe tbody tr th:only-of-type {\n",
       "        vertical-align: middle;\n",
       "    }\n",
       "\n",
       "    .dataframe tbody tr th {\n",
       "        vertical-align: top;\n",
       "    }\n",
       "\n",
       "    .dataframe thead th {\n",
       "        text-align: right;\n",
       "    }\n",
       "</style>\n",
       "<table border=\"1\" class=\"dataframe\">\n",
       "  <thead>\n",
       "    <tr style=\"text-align: right;\">\n",
       "      <th></th>\n",
       "      <th>recall</th>\n",
       "      <th>precision</th>\n",
       "      <th>f1 score</th>\n",
       "      <th>#</th>\n",
       "    </tr>\n",
       "  </thead>\n",
       "  <tbody>\n",
       "    <tr>\n",
       "      <th>0</th>\n",
       "      <td>0.990074</td>\n",
       "      <td>0.950000</td>\n",
       "      <td>0.969623</td>\n",
       "      <td>1260.0</td>\n",
       "    </tr>\n",
       "    <tr>\n",
       "      <th>1</th>\n",
       "      <td>0.983633</td>\n",
       "      <td>0.953968</td>\n",
       "      <td>0.968574</td>\n",
       "      <td>1260.0</td>\n",
       "    </tr>\n",
       "    <tr>\n",
       "      <th>2</th>\n",
       "      <td>0.876525</td>\n",
       "      <td>0.969048</td>\n",
       "      <td>0.920467</td>\n",
       "      <td>1260.0</td>\n",
       "    </tr>\n",
       "    <tr>\n",
       "      <th>3</th>\n",
       "      <td>0.988737</td>\n",
       "      <td>0.975397</td>\n",
       "      <td>0.982022</td>\n",
       "      <td>1260.0</td>\n",
       "    </tr>\n",
       "    <tr>\n",
       "      <th>4</th>\n",
       "      <td>0.948606</td>\n",
       "      <td>0.864286</td>\n",
       "      <td>0.904485</td>\n",
       "      <td>1260.0</td>\n",
       "    </tr>\n",
       "    <tr>\n",
       "      <th>5</th>\n",
       "      <td>0.766583</td>\n",
       "      <td>0.972222</td>\n",
       "      <td>0.857243</td>\n",
       "      <td>1260.0</td>\n",
       "    </tr>\n",
       "    <tr>\n",
       "      <th>6</th>\n",
       "      <td>0.978571</td>\n",
       "      <td>0.978571</td>\n",
       "      <td>0.978571</td>\n",
       "      <td>1260.0</td>\n",
       "    </tr>\n",
       "    <tr>\n",
       "      <th>7</th>\n",
       "      <td>0.974615</td>\n",
       "      <td>0.853175</td>\n",
       "      <td>0.909860</td>\n",
       "      <td>1260.0</td>\n",
       "    </tr>\n",
       "    <tr>\n",
       "      <th>8</th>\n",
       "      <td>0.957970</td>\n",
       "      <td>0.958730</td>\n",
       "      <td>0.958350</td>\n",
       "      <td>1260.0</td>\n",
       "    </tr>\n",
       "    <tr>\n",
       "      <th>9</th>\n",
       "      <td>0.931212</td>\n",
       "      <td>0.859524</td>\n",
       "      <td>0.893933</td>\n",
       "      <td>1260.0</td>\n",
       "    </tr>\n",
       "  </tbody>\n",
       "</table>\n",
       "</div>"
      ],
      "text/plain": [
       "     recall  precision  f1 score       #\n",
       "0  0.990074   0.950000  0.969623  1260.0\n",
       "1  0.983633   0.953968  0.968574  1260.0\n",
       "2  0.876525   0.969048  0.920467  1260.0\n",
       "3  0.988737   0.975397  0.982022  1260.0\n",
       "4  0.948606   0.864286  0.904485  1260.0\n",
       "5  0.766583   0.972222  0.857243  1260.0\n",
       "6  0.978571   0.978571  0.978571  1260.0\n",
       "7  0.974615   0.853175  0.909860  1260.0\n",
       "8  0.957970   0.958730  0.958350  1260.0\n",
       "9  0.931212   0.859524  0.893933  1260.0"
      ]
     },
     "execution_count": 28,
     "metadata": {},
     "output_type": "execute_result"
    }
   ],
   "source": [
    "from utils.evaluation import get_evaluation_metrics, get_confusion_matrix\n",
    "\n",
    "Y_predicted_test = mymodel.model.predict_classes(X_test, verbose=1)\n",
    "rpf_test = get_evaluation_metrics(Y_test, Y_predicted_test)\n",
    "rpf_test"
   ]
  },
  {
   "cell_type": "markdown",
   "metadata": {},
   "source": [
    "Average F1 Score for Test Set"
   ]
  },
  {
   "cell_type": "code",
   "execution_count": 29,
   "metadata": {},
   "outputs": [
    {
     "data": {
      "text/plain": [
       "recall          0.939653\n",
       "precision       0.933492\n",
       "f1 score        0.934313\n",
       "#            1260.000000\n",
       "dtype: float64"
      ]
     },
     "execution_count": 29,
     "metadata": {},
     "output_type": "execute_result"
    }
   ],
   "source": [
    "rpf_test.mean()"
   ]
  },
  {
   "cell_type": "markdown",
   "metadata": {},
   "source": [
    "#### Recall, Precision, F1_Score on Validation set"
   ]
  },
  {
   "cell_type": "code",
   "execution_count": 30,
   "metadata": {},
   "outputs": [
    {
     "name": "stdout",
     "output_type": "stream",
     "text": [
      "18000/18000 [==============================] - 13s 727us/step\n"
     ]
    },
    {
     "data": {
      "text/html": [
       "<div>\n",
       "<style scoped>\n",
       "    .dataframe tbody tr th:only-of-type {\n",
       "        vertical-align: middle;\n",
       "    }\n",
       "\n",
       "    .dataframe tbody tr th {\n",
       "        vertical-align: top;\n",
       "    }\n",
       "\n",
       "    .dataframe thead th {\n",
       "        text-align: right;\n",
       "    }\n",
       "</style>\n",
       "<table border=\"1\" class=\"dataframe\">\n",
       "  <thead>\n",
       "    <tr style=\"text-align: right;\">\n",
       "      <th></th>\n",
       "      <th>recall</th>\n",
       "      <th>precision</th>\n",
       "      <th>f1 score</th>\n",
       "      <th>#</th>\n",
       "    </tr>\n",
       "  </thead>\n",
       "  <tbody>\n",
       "    <tr>\n",
       "      <th>0</th>\n",
       "      <td>0.947812</td>\n",
       "      <td>0.998889</td>\n",
       "      <td>0.972681</td>\n",
       "      <td>1800.0</td>\n",
       "    </tr>\n",
       "    <tr>\n",
       "      <th>1</th>\n",
       "      <td>0.874118</td>\n",
       "      <td>0.895000</td>\n",
       "      <td>0.884436</td>\n",
       "      <td>1800.0</td>\n",
       "    </tr>\n",
       "    <tr>\n",
       "      <th>2</th>\n",
       "      <td>0.903292</td>\n",
       "      <td>0.975556</td>\n",
       "      <td>0.938034</td>\n",
       "      <td>1800.0</td>\n",
       "    </tr>\n",
       "    <tr>\n",
       "      <th>3</th>\n",
       "      <td>0.976592</td>\n",
       "      <td>0.996667</td>\n",
       "      <td>0.986527</td>\n",
       "      <td>1800.0</td>\n",
       "    </tr>\n",
       "    <tr>\n",
       "      <th>4</th>\n",
       "      <td>0.965538</td>\n",
       "      <td>0.871667</td>\n",
       "      <td>0.916204</td>\n",
       "      <td>1800.0</td>\n",
       "    </tr>\n",
       "    <tr>\n",
       "      <th>5</th>\n",
       "      <td>0.917160</td>\n",
       "      <td>0.947222</td>\n",
       "      <td>0.931949</td>\n",
       "      <td>1800.0</td>\n",
       "    </tr>\n",
       "    <tr>\n",
       "      <th>6</th>\n",
       "      <td>0.962514</td>\n",
       "      <td>0.927222</td>\n",
       "      <td>0.944539</td>\n",
       "      <td>1800.0</td>\n",
       "    </tr>\n",
       "    <tr>\n",
       "      <th>7</th>\n",
       "      <td>0.923571</td>\n",
       "      <td>0.879444</td>\n",
       "      <td>0.900968</td>\n",
       "      <td>1800.0</td>\n",
       "    </tr>\n",
       "    <tr>\n",
       "      <th>8</th>\n",
       "      <td>0.944475</td>\n",
       "      <td>0.954444</td>\n",
       "      <td>0.949434</td>\n",
       "      <td>1800.0</td>\n",
       "    </tr>\n",
       "    <tr>\n",
       "      <th>9</th>\n",
       "      <td>0.975694</td>\n",
       "      <td>0.936667</td>\n",
       "      <td>0.955782</td>\n",
       "      <td>1800.0</td>\n",
       "    </tr>\n",
       "  </tbody>\n",
       "</table>\n",
       "</div>"
      ],
      "text/plain": [
       "     recall  precision  f1 score       #\n",
       "0  0.947812   0.998889  0.972681  1800.0\n",
       "1  0.874118   0.895000  0.884436  1800.0\n",
       "2  0.903292   0.975556  0.938034  1800.0\n",
       "3  0.976592   0.996667  0.986527  1800.0\n",
       "4  0.965538   0.871667  0.916204  1800.0\n",
       "5  0.917160   0.947222  0.931949  1800.0\n",
       "6  0.962514   0.927222  0.944539  1800.0\n",
       "7  0.923571   0.879444  0.900968  1800.0\n",
       "8  0.944475   0.954444  0.949434  1800.0\n",
       "9  0.975694   0.936667  0.955782  1800.0"
      ]
     },
     "execution_count": 30,
     "metadata": {},
     "output_type": "execute_result"
    }
   ],
   "source": [
    "from utils.evaluation import get_evaluation_metrics, get_confusion_matrix\n",
    "\n",
    "Y_predicted_valid = mymodel.model.predict_classes(X_valid, verbose=1)\n",
    "rpf_valid = get_evaluation_metrics(Y_valid, Y_predicted_valid)\n",
    "rpf_valid"
   ]
  },
  {
   "cell_type": "markdown",
   "metadata": {},
   "source": [
    "Average F1 Score for Validation Set"
   ]
  },
  {
   "cell_type": "code",
   "execution_count": 31,
   "metadata": {
    "scrolled": true
   },
   "outputs": [
    {
     "data": {
      "text/plain": [
       "recall          0.939077\n",
       "precision       0.938278\n",
       "f1 score        0.938055\n",
       "#            1800.000000\n",
       "dtype: float64"
      ]
     },
     "execution_count": 31,
     "metadata": {},
     "output_type": "execute_result"
    }
   ],
   "source": [
    "rpf_valid.mean()"
   ]
  },
  {
   "cell_type": "markdown",
   "metadata": {},
   "source": [
    "##### Increase default plotsize for matplotlib"
   ]
  },
  {
   "cell_type": "code",
   "execution_count": 19,
   "metadata": {
    "scrolled": true
   },
   "outputs": [],
   "source": [
    "import matplotlib.pyplot as plt\n",
    "plt.rcParams['figure.figsize'] = [15, 10]"
   ]
  },
  {
   "cell_type": "markdown",
   "metadata": {},
   "source": [
    "#### Plot Validation Set Confusion Matrix"
   ]
  },
  {
   "cell_type": "code",
   "execution_count": 32,
   "metadata": {},
   "outputs": [
    {
     "data": {
      "image/png": "[encoded data removed]",
      "text/plain": [
       "<Figure size 720x360 with 2 Axes>"
      ]
     },
     "metadata": {},
     "output_type": "display_data"
    }
   ],
   "source": [
    "from utils.evaluation import get_confusion_matrix\n",
    "# Confusion Matrix\n",
    "confmat = get_confusion_matrix(Y_valid, Y_predicted_valid, plot=True)"
   ]
  },
  {
   "cell_type": "markdown",
   "metadata": {},
   "source": [
    "#### Plot Test Set Confusion Matrix"
   ]
  },
  {
   "cell_type": "code",
   "execution_count": 33,
   "metadata": {},
   "outputs": [
    {
     "data": {
      "image/png": "[encoded data removed]",
      "text/plain": [
       "<Figure size 720x360 with 2 Axes>"
      ]
     },
     "metadata": {},
     "output_type": "display_data"
    }
   ],
   "source": [
    "from utils.evaluation import get_confusion_matrix\n",
    "# Confusion Matrix\n",
    "confmat = get_confusion_matrix(Y_test, Y_predicted_test, plot=True)"
   ]
  },
  {
   "cell_type": "markdown",
   "metadata": {},
   "source": [
    "# Backup Code\n",
    "-----"
   ]
  },
  {
   "cell_type": "code",
   "execution_count": 11,
   "metadata": {},
   "outputs": [],
   "source": [
    "from models.regularized_3x512_gru import Regularized3x512GRU\n",
    "import os.path\n",
    "from keras.models import load_model\n",
    "TRAINED_MODEL = os.path.join(\"..\", \"files\", \"checkpoints\", \"1525696834.4091375\", \"regularized_3x512_gru-30-0.97.hdf5\")\n",
    "\n",
    "mymodel = Regularized3x512GRU(X_train.shape[1:], output_path=os.path.join(\"..\", \"files\"))\n",
    "mymodel.batch_size = PARAM_BATCH_SIZE\n",
    "mymodel.num_epochs = PARAM_NUM_EPOCHS\n",
    "mymodel.disable_callbacks()\n",
    "mymodel.model = load_model(TRAINED_MODEL)"
   ]
  },
  {
   "cell_type": "code",
   "execution_count": null,
   "metadata": {},
   "outputs": [],
   "source": []
  }
 ],
 "metadata": {
  "kernelspec": {
   "display_name": "Python 3",
   "language": "python",
   "name": "python3"
  },
  "language_info": {
   "codemirror_mode": {
    "name": "ipython",
    "version": 3
   },
   "file_extension": ".py",
   "mimetype": "text/x-python",
   "name": "python",
   "nbconvert_exporter": "python",
   "pygments_lexer": "ipython3",
   "version": "3.6.4"
  }
 },
 "nbformat": 4,
 "nbformat_minor": 2
}

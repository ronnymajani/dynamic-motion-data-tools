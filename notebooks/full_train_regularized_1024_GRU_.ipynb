{
 "cells": [
  {
   "cell_type": "code",
   "execution_count": 1,
   "metadata": {},
   "outputs": [],
   "source": [
    "# allow the notebook to access the parent directory so we can import the other modules\n",
    "# https://stackoverflow.com/a/35273613\n",
    "import os\n",
    "import sys\n",
    "nb_dir = os.path.split(os.getcwd())[0]\n",
    "if nb_dir not in sys.path:\n",
    "    sys.path.append(nb_dir)"
   ]
  },
  {
   "cell_type": "markdown",
   "metadata": {},
   "source": [
    "# Data Preparation\n",
    "-----"
   ]
  },
  {
   "cell_type": "markdown",
   "metadata": {},
   "source": [
    "### Constants and Folder Paths"
   ]
  },
  {
   "cell_type": "code",
   "execution_count": 2,
   "metadata": {},
   "outputs": [],
   "source": [
    "import os\n",
    "dataset_folder_path = os.path.join(\"..\", \"files\", \"dataset\")"
   ]
  },
  {
   "cell_type": "markdown",
   "metadata": {},
   "source": [
    "### Load Data and Split into *Test*, *Train/Valid*"
   ]
  },
  {
   "cell_type": "code",
   "execution_count": 3,
   "metadata": {},
   "outputs": [],
   "source": [
    "from data.DataSet import DataSet\n",
    "dataset = DataSet()\n",
    "dataset.load(dataset_folder_path, test_set_percentage=0, validation_set_percentage=0.3)"
   ]
  },
  {
   "cell_type": "code",
   "execution_count": 4,
   "metadata": {},
   "outputs": [
    {
     "name": "stdout",
     "output_type": "stream",
     "text": [
      "2500\n",
      "0\n"
     ]
    }
   ],
   "source": [
    "print(len(dataset.train_data))\n",
    "print(len(dataset.test_data))"
   ]
  },
  {
   "cell_type": "markdown",
   "metadata": {},
   "source": [
    "### Data Preprocessing"
   ]
  },
  {
   "cell_type": "code",
   "execution_count": 5,
   "metadata": {},
   "outputs": [],
   "source": [
    "NUM_SAMPLES = 50\n",
    "from utils.preprocessing import *\n",
    "from functools import partial\n",
    "dataset.apply(apply_mean_centering)\n",
    "dataset.apply(apply_unit_distance_normalization)\n",
    "dataset.apply(partial(spline_interpolate_and_resample, num_samples=NUM_SAMPLES))\n",
    "dataset.expand(reverse_digit_sequence)"
   ]
  },
  {
   "cell_type": "code",
   "execution_count": 6,
   "metadata": {},
   "outputs": [
    {
     "name": "stdout",
     "output_type": "stream",
     "text": [
      "5000\n",
      "0\n"
     ]
    }
   ],
   "source": [
    "print(len(dataset.train_data))\n",
    "print(len(dataset.test_data))"
   ]
  },
  {
   "cell_type": "markdown",
   "metadata": {},
   "source": [
    "### Extract Data"
   ]
  },
  {
   "cell_type": "code",
   "execution_count": 7,
   "metadata": {},
   "outputs": [],
   "source": [
    "import numpy as np\n",
    "from sklearn.model_selection import train_test_split\n",
    "\n",
    "X_train = np.array(dataset.train_data)\n",
    "X_valid = np.array(dataset.valid_data)\n",
    "# Convert labels to numpy array and OneHot encode them\n",
    "encoder, Y_train, Y_valid, _ = dataset.onehot_encode_labels()"
   ]
  },
  {
   "cell_type": "markdown",
   "metadata": {},
   "source": [
    "----------\n",
    "# Neural Network Setup and Training\n",
    "----------"
   ]
  },
  {
   "cell_type": "markdown",
   "metadata": {},
   "source": [
    "## **Regularized 1024 GRU**"
   ]
  },
  {
   "cell_type": "markdown",
   "metadata": {},
   "source": [
    "### Parameters"
   ]
  },
  {
   "cell_type": "code",
   "execution_count": 8,
   "metadata": {},
   "outputs": [],
   "source": [
    "PARAM_NUM_EPOCHS = 30\n",
    "PARAM_BATCH_SIZE = 300"
   ]
  },
  {
   "cell_type": "markdown",
   "metadata": {},
   "source": [
    "### Setup Model"
   ]
  },
  {
   "cell_type": "code",
   "execution_count": 9,
   "metadata": {},
   "outputs": [
    {
     "name": "stderr",
     "output_type": "stream",
     "text": [
      "Using TensorFlow backend.\n"
     ]
    },
    {
     "name": "stdout",
     "output_type": "stream",
     "text": [
      "\n",
      "\n",
      "----------\n",
      "\n",
      "Optimizer: <class 'keras.optimizers.Nadam'>\n",
      "Batch Size: 300\n",
      "Number of Epochs: 30\n",
      "\n",
      "_________________________________________________________________\n",
      "Layer (type)                 Output Shape              Param #   \n",
      "=================================================================\n",
      "gru_1 (GRU)                  (None, 50, 1024)          3154944   \n",
      "_________________________________________________________________\n",
      "dropout_1 (Dropout)          (None, 50, 1024)          0         \n",
      "_________________________________________________________________\n",
      "gru_2 (GRU)                  (None, 1024)              6294528   \n",
      "_________________________________________________________________\n",
      "dropout_2 (Dropout)          (None, 1024)              0         \n",
      "_________________________________________________________________\n",
      "dense_1 (Dense)              (None, 256)               262400    \n",
      "_________________________________________________________________\n",
      "activation_1 (Activation)    (None, 256)               0         \n",
      "_________________________________________________________________\n",
      "dense_2 (Dense)              (None, 10)                2570      \n",
      "_________________________________________________________________\n",
      "activation_2 (Activation)    (None, 10)                0         \n",
      "=================================================================\n",
      "Total params: 9,714,442\n",
      "Trainable params: 9,714,442\n",
      "Non-trainable params: 0\n",
      "_________________________________________________________________\n",
      "\n",
      "\n",
      "----------\n",
      "\n",
      "\n"
     ]
    }
   ],
   "source": [
    "from models.regularized_1024_gru import Regularized1024GRU\n",
    "from utils.evaluation import cross_validate_model\n",
    "\n",
    "mymodel = Regularized1024GRU(X_train.shape[1:])\n",
    "mymodel.batch_size = PARAM_BATCH_SIZE\n",
    "mymodel.num_epochs = PARAM_NUM_EPOCHS\n",
    "\n",
    "mymodel.initialize()\n",
    "print(mymodel)"
   ]
  },
  {
   "cell_type": "markdown",
   "metadata": {},
   "source": [
    "#### Save Model Summary"
   ]
  },
  {
   "cell_type": "code",
   "execution_count": 10,
   "metadata": {},
   "outputs": [],
   "source": [
    "mymodel.save_summary(dataset.get_recorded_operations())\n",
    "mymodel.save_config()"
   ]
  },
  {
   "cell_type": "markdown",
   "metadata": {},
   "source": [
    "### Train Model"
   ]
  },
  {
   "cell_type": "code",
   "execution_count": 11,
   "metadata": {},
   "outputs": [
    {
     "name": "stdout",
     "output_type": "stream",
     "text": [
      "Train on 5000 samples, validate on 2200 samples\n",
      "Epoch 1/30\n",
      "5000/5000 [==============================] - 11s 2ms/step - loss: 2.0358 - categorical_accuracy: 0.2412 - val_loss: 1.8418 - val_categorical_accuracy: 0.3423\n",
      "\n",
      "Epoch 00001: val_categorical_accuracy improved from -inf to 0.34227, saving model to ../files/checkpoints/1525021298.006101/regularized_1024_gru-01-0.34.hdf5\n",
      "Epoch 2/30\n",
      "5000/5000 [==============================] - 10s 2ms/step - loss: 1.5716 - categorical_accuracy: 0.4436 - val_loss: 1.1643 - val_categorical_accuracy: 0.6518\n",
      "\n",
      "Epoch 00002: val_categorical_accuracy improved from 0.34227 to 0.65182, saving model to ../files/checkpoints/1525021298.006101/regularized_1024_gru-02-0.65.hdf5\n",
      "Epoch 3/30\n",
      "5000/5000 [==============================] - 10s 2ms/step - loss: 1.1228 - categorical_accuracy: 0.6272 - val_loss: 1.3080 - val_categorical_accuracy: 0.5391\n",
      "\n",
      "Epoch 00003: val_categorical_accuracy did not improve\n",
      "Epoch 4/30\n",
      "5000/5000 [==============================] - 10s 2ms/step - loss: 0.7307 - categorical_accuracy: 0.7516 - val_loss: 0.8720 - val_categorical_accuracy: 0.7445\n",
      "\n",
      "Epoch 00004: val_categorical_accuracy improved from 0.65182 to 0.74455, saving model to ../files/checkpoints/1525021298.006101/regularized_1024_gru-04-0.74.hdf5\n",
      "Epoch 5/30\n",
      "5000/5000 [==============================] - 11s 2ms/step - loss: 0.4830 - categorical_accuracy: 0.8524 - val_loss: 0.5024 - val_categorical_accuracy: 0.8505\n",
      "\n",
      "Epoch 00005: val_categorical_accuracy improved from 0.74455 to 0.85045, saving model to ../files/checkpoints/1525021298.006101/regularized_1024_gru-05-0.85.hdf5\n",
      "Epoch 6/30\n",
      "5000/5000 [==============================] - 11s 2ms/step - loss: 0.2929 - categorical_accuracy: 0.9138 - val_loss: 0.3986 - val_categorical_accuracy: 0.8864\n",
      "\n",
      "Epoch 00006: val_categorical_accuracy improved from 0.85045 to 0.88636, saving model to ../files/checkpoints/1525021298.006101/regularized_1024_gru-06-0.89.hdf5\n",
      "Epoch 7/30\n",
      "5000/5000 [==============================] - 10s 2ms/step - loss: 0.1892 - categorical_accuracy: 0.9452 - val_loss: 0.3064 - val_categorical_accuracy: 0.9168\n",
      "\n",
      "Epoch 00007: val_categorical_accuracy improved from 0.88636 to 0.91682, saving model to ../files/checkpoints/1525021298.006101/regularized_1024_gru-07-0.92.hdf5\n",
      "Epoch 8/30\n",
      "5000/5000 [==============================] - 10s 2ms/step - loss: 0.3037 - categorical_accuracy: 0.9124 - val_loss: 0.6278 - val_categorical_accuracy: 0.8373\n",
      "\n",
      "Epoch 00008: val_categorical_accuracy did not improve\n",
      "Epoch 9/30\n",
      "5000/5000 [==============================] - 11s 2ms/step - loss: 0.1562 - categorical_accuracy: 0.9560 - val_loss: 0.2822 - val_categorical_accuracy: 0.9255\n",
      "\n",
      "Epoch 00009: val_categorical_accuracy improved from 0.91682 to 0.92545, saving model to ../files/checkpoints/1525021298.006101/regularized_1024_gru-09-0.93.hdf5\n",
      "Epoch 10/30\n",
      "5000/5000 [==============================] - 11s 2ms/step - loss: 0.0988 - categorical_accuracy: 0.9734 - val_loss: 0.2889 - val_categorical_accuracy: 0.9241\n",
      "\n",
      "Epoch 00010: val_categorical_accuracy did not improve\n",
      "Epoch 11/30\n",
      "5000/5000 [==============================] - 11s 2ms/step - loss: 0.0707 - categorical_accuracy: 0.9822 - val_loss: 0.2727 - val_categorical_accuracy: 0.9273\n",
      "\n",
      "Epoch 00011: val_categorical_accuracy improved from 0.92545 to 0.92727, saving model to ../files/checkpoints/1525021298.006101/regularized_1024_gru-11-0.93.hdf5\n",
      "Epoch 12/30\n",
      "5000/5000 [==============================] - 11s 2ms/step - loss: 0.0543 - categorical_accuracy: 0.9846 - val_loss: 0.3069 - val_categorical_accuracy: 0.9168\n",
      "\n",
      "Epoch 00012: val_categorical_accuracy did not improve\n",
      "Epoch 13/30\n",
      "5000/5000 [==============================] - 11s 2ms/step - loss: 0.0473 - categorical_accuracy: 0.9870 - val_loss: 0.2555 - val_categorical_accuracy: 0.9427\n",
      "\n",
      "Epoch 00013: val_categorical_accuracy improved from 0.92727 to 0.94273, saving model to ../files/checkpoints/1525021298.006101/regularized_1024_gru-13-0.94.hdf5\n",
      "Epoch 14/30\n",
      "5000/5000 [==============================] - 11s 2ms/step - loss: 0.0349 - categorical_accuracy: 0.9894 - val_loss: 0.3099 - val_categorical_accuracy: 0.9309\n",
      "\n",
      "Epoch 00014: val_categorical_accuracy did not improve\n",
      "Epoch 15/30\n",
      "5000/5000 [==============================] - 10s 2ms/step - loss: 0.0333 - categorical_accuracy: 0.9894 - val_loss: 0.2721 - val_categorical_accuracy: 0.9373\n",
      "\n",
      "Epoch 00015: val_categorical_accuracy did not improve\n",
      "Epoch 16/30\n",
      "5000/5000 [==============================] - 11s 2ms/step - loss: 0.0301 - categorical_accuracy: 0.9920 - val_loss: 0.2498 - val_categorical_accuracy: 0.9436\n",
      "\n",
      "Epoch 00016: val_categorical_accuracy improved from 0.94273 to 0.94364, saving model to ../files/checkpoints/1525021298.006101/regularized_1024_gru-16-0.94.hdf5\n",
      "Epoch 17/30\n",
      "5000/5000 [==============================] - 11s 2ms/step - loss: 0.0220 - categorical_accuracy: 0.9944 - val_loss: 0.2536 - val_categorical_accuracy: 0.9432\n",
      "\n",
      "Epoch 00017: val_categorical_accuracy did not improve\n",
      "Epoch 18/30\n",
      "5000/5000 [==============================] - 11s 2ms/step - loss: 0.0178 - categorical_accuracy: 0.9962 - val_loss: 0.2792 - val_categorical_accuracy: 0.9423\n",
      "\n",
      "Epoch 00018: val_categorical_accuracy did not improve\n",
      "Epoch 19/30\n",
      "5000/5000 [==============================] - 11s 2ms/step - loss: 0.0159 - categorical_accuracy: 0.9958 - val_loss: 0.2761 - val_categorical_accuracy: 0.9441\n",
      "\n",
      "Epoch 00019: val_categorical_accuracy improved from 0.94364 to 0.94409, saving model to ../files/checkpoints/1525021298.006101/regularized_1024_gru-19-0.94.hdf5\n",
      "Epoch 20/30\n",
      "5000/5000 [==============================] - 11s 2ms/step - loss: 0.0139 - categorical_accuracy: 0.9966 - val_loss: 0.2705 - val_categorical_accuracy: 0.9427\n",
      "\n",
      "Epoch 00020: val_categorical_accuracy did not improve\n",
      "Epoch 21/30\n",
      "5000/5000 [==============================] - 11s 2ms/step - loss: 0.0155 - categorical_accuracy: 0.9968 - val_loss: 0.2975 - val_categorical_accuracy: 0.9382\n",
      "\n",
      "Epoch 00021: val_categorical_accuracy did not improve\n",
      "Epoch 22/30\n",
      "5000/5000 [==============================] - 11s 2ms/step - loss: 0.0103 - categorical_accuracy: 0.9984 - val_loss: 0.2755 - val_categorical_accuracy: 0.9450\n",
      "\n",
      "Epoch 00022: val_categorical_accuracy improved from 0.94409 to 0.94500, saving model to ../files/checkpoints/1525021298.006101/regularized_1024_gru-22-0.95.hdf5\n",
      "Epoch 23/30\n",
      "5000/5000 [==============================] - 11s 2ms/step - loss: 0.0079 - categorical_accuracy: 0.9982 - val_loss: 0.3200 - val_categorical_accuracy: 0.9391\n",
      "\n",
      "Epoch 00023: val_categorical_accuracy did not improve\n",
      "Epoch 24/30\n",
      "5000/5000 [==============================] - 10s 2ms/step - loss: 0.0054 - categorical_accuracy: 0.9994 - val_loss: 0.3170 - val_categorical_accuracy: 0.9409\n",
      "\n",
      "Epoch 00024: val_categorical_accuracy did not improve\n",
      "Epoch 25/30\n",
      "5000/5000 [==============================] - 10s 2ms/step - loss: 0.0038 - categorical_accuracy: 0.9998 - val_loss: 0.3362 - val_categorical_accuracy: 0.9436\n",
      "\n",
      "Epoch 00025: val_categorical_accuracy did not improve\n",
      "Epoch 26/30\n",
      "5000/5000 [==============================] - 11s 2ms/step - loss: 0.0105 - categorical_accuracy: 0.9980 - val_loss: 0.3693 - val_categorical_accuracy: 0.9341\n",
      "\n",
      "Epoch 00026: val_categorical_accuracy did not improve\n",
      "Epoch 27/30\n",
      "5000/5000 [==============================] - 11s 2ms/step - loss: 0.0249 - categorical_accuracy: 0.9932 - val_loss: 0.2901 - val_categorical_accuracy: 0.9427\n",
      "\n",
      "Epoch 00027: val_categorical_accuracy did not improve\n",
      "Epoch 28/30\n",
      "5000/5000 [==============================] - 11s 2ms/step - loss: 0.0208 - categorical_accuracy: 0.9934 - val_loss: 0.3216 - val_categorical_accuracy: 0.9314\n",
      "\n",
      "Epoch 00028: val_categorical_accuracy did not improve\n",
      "Epoch 29/30\n",
      "5000/5000 [==============================] - 11s 2ms/step - loss: 0.0116 - categorical_accuracy: 0.9972 - val_loss: 0.3841 - val_categorical_accuracy: 0.9245\n",
      "\n",
      "Epoch 00029: val_categorical_accuracy did not improve\n",
      "Epoch 30/30\n",
      "5000/5000 [==============================] - 11s 2ms/step - loss: 0.0102 - categorical_accuracy: 0.9970 - val_loss: 0.3003 - val_categorical_accuracy: 0.9432\n",
      "\n",
      "Epoch 00030: val_categorical_accuracy did not improve\n"
     ]
    }
   ],
   "source": [
    "mymodel.train(X_train, Y_train, X_valid, Y_valid)"
   ]
  },
  {
   "cell_type": "code",
   "execution_count": null,
   "metadata": {},
   "outputs": [],
   "source": []
  }
 ],
 "metadata": {
  "kernelspec": {
   "display_name": "Python 3",
   "language": "python",
   "name": "python3"
  },
  "language_info": {
   "codemirror_mode": {
    "name": "ipython",
    "version": 3
   },
   "file_extension": ".py",
   "mimetype": "text/x-python",
   "name": "python",
   "nbconvert_exporter": "python",
   "pygments_lexer": "ipython3",
   "version": "3.6.4"
  }
 },
 "nbformat": 4,
 "nbformat_minor": 2
}
